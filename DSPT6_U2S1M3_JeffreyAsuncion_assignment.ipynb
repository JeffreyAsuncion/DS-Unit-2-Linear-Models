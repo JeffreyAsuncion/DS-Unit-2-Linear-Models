{
  "nbformat": 4,
  "nbformat_minor": 0,
  "metadata": {
    "kernelspec": {
      "display_name": "Python 3",
      "language": "python",
      "name": "python3"
    },
    "language_info": {
      "codemirror_mode": {
        "name": "ipython",
        "version": 3
      },
      "file_extension": ".py",
      "mimetype": "text/x-python",
      "name": "python",
      "nbconvert_exporter": "python",
      "pygments_lexer": "ipython3",
      "version": "3.7.3"
    },
    "colab": {
      "name": "DSPT6_U2S1M3_JeffreyAsuncion_assignment.ipynb",
      "provenance": [],
      "collapsed_sections": [],
      "include_colab_link": true
    }
  },
  "cells": [
    {
      "cell_type": "markdown",
      "metadata": {
        "id": "view-in-github",
        "colab_type": "text"
      },
      "source": [
        "<a href=\"https://colab.research.google.com/github/JeffreyAsuncion/DS-Unit-2-Linear-Models/blob/master/DSPT6_U2S1M3_JeffreyAsuncion_assignment.ipynb\" target=\"_parent\"><img src=\"https://colab.research.google.com/assets/colab-badge.svg\" alt=\"Open In Colab\"/></a>"
      ]
    },
    {
      "cell_type": "markdown",
      "metadata": {
        "id": "-V9T6UYRtCBq",
        "colab_type": "text"
      },
      "source": [
        "Lambda School Data Science\n",
        "\n",
        "*Unit 2, Sprint 1, Module 3*\n",
        "\n",
        "---"
      ]
    },
    {
      "cell_type": "markdown",
      "metadata": {
        "colab_type": "text",
        "id": "7IXUfiQ2UKj6"
      },
      "source": [
        "# Ridge Regression\n",
        "\n",
        "## Assignment\n",
        "\n",
        "We're going back to our other **New York City** real estate dataset. Instead of predicting apartment rents, you'll predict property sales prices.\n",
        "\n",
        "But not just for condos in Tribeca...\n",
        "\n",
        "- [x] Use a subset of the data where `BUILDING_CLASS_CATEGORY` == `'01 ONE FAMILY DWELLINGS'` and the sale price was more than 100 thousand and less than 2 million.\n",
        "- [x] Do train/test split. Use data from January — March 2019 to train. Use data from April 2019 to test.\n",
        "- [x] Do one-hot encoding of categorical features.\n",
        "- [x] Do feature selection with `SelectKBest`.\n",
        "- [x] Fit a ridge regression model with multiple features. Use the `normalize=True` parameter (or do [feature scaling](https://scikit-learn.org/stable/modules/preprocessing.html) beforehand — use the scaler's `fit_transform` method with the train set, and the scaler's `transform` method with the test set)\n",
        "- [x] Get mean absolute error for the test set.\n",
        "- [ ] As always, commit your notebook to your fork of the GitHub repo.\n",
        "\n",
        "The [NYC Department of Finance](https://www1.nyc.gov/site/finance/taxes/property-rolling-sales-data.page) has a glossary of property sales terms and NYC Building Class Code Descriptions. The data comes from the [NYC OpenData](https://data.cityofnewyork.us/browse?q=NYC%20calendar%20sales) portal.\n",
        "\n",
        "\n",
        "## Stretch Goals\n",
        "\n",
        "Don't worry, you aren't expected to do all these stretch goals! These are just ideas to consider and choose from.\n",
        "\n",
        "- [ ] Add your own stretch goal(s) !\n",
        "- [ ] Instead of `Ridge`, try `LinearRegression`. Depending on how many features you select, your errors will probably blow up! 💥\n",
        "- [ ] Instead of `Ridge`, try [`RidgeCV`](https://scikit-learn.org/stable/modules/generated/sklearn.linear_model.RidgeCV.html).\n",
        "- [ ] Learn more about feature selection:\n",
        "    - [\"Permutation importance\"](https://www.kaggle.com/dansbecker/permutation-importance)\n",
        "    - [scikit-learn's User Guide for Feature Selection](https://scikit-learn.org/stable/modules/feature_selection.html)\n",
        "    - [mlxtend](http://rasbt.github.io/mlxtend/) library\n",
        "    - scikit-learn-contrib libraries: [boruta_py](https://github.com/scikit-learn-contrib/boruta_py) & [stability-selection](https://github.com/scikit-learn-contrib/stability-selection)\n",
        "    - [_Feature Engineering and Selection_](http://www.feat.engineering/) by Kuhn & Johnson.\n",
        "- [ ] Try [statsmodels](https://www.statsmodels.org/stable/index.html) if you’re interested in more inferential statistical approach to linear regression and feature selection, looking at p values and 95% confidence intervals for the coefficients.\n",
        "- [ ] Read [_An Introduction to Statistical Learning_](http://faculty.marshall.usc.edu/gareth-james/ISL/ISLR%20Seventh%20Printing.pdf), Chapters 1-3, for more math & theory, but in an accessible, readable way.\n",
        "- [ ] Try [scikit-learn pipelines](https://scikit-learn.org/stable/modules/compose.html)."
      ]
    },
    {
      "cell_type": "code",
      "metadata": {
        "colab_type": "code",
        "id": "o9eSnDYhUGD7",
        "colab": {}
      },
      "source": [
        "%%capture\n",
        "import sys\n",
        "\n",
        "# If you're on Colab:\n",
        "if 'google.colab' in sys.modules:\n",
        "    DATA_PATH = 'https://raw.githubusercontent.com/LambdaSchool/DS-Unit-2-Applied-Modeling/master/data/'\n",
        "    !pip install category_encoders==2.*\n",
        "\n",
        "# If you're working locally:\n",
        "else:\n",
        "    DATA_PATH = '../data/'\n",
        "    \n",
        "# Ignore this Numpy warning when using Plotly Express:\n",
        "# FutureWarning: Method .ptp is deprecated and will be removed in a future version. Use numpy.ptp instead.\n",
        "import warnings\n",
        "warnings.filterwarnings(action='ignore', category=FutureWarning, module='numpy')"
      ],
      "execution_count": 0,
      "outputs": []
    },
    {
      "cell_type": "code",
      "metadata": {
        "colab_type": "code",
        "id": "QJBD4ruICm1m",
        "colab": {}
      },
      "source": [
        "import pandas as pd\n",
        "import pandas_profiling\n",
        "\n",
        "# Read New York City property sales data\n",
        "df = pd.read_csv(DATA_PATH+'condos/NYC_Citywide_Rolling_Calendar_Sales.csv')\n",
        "\n",
        "# Change column names: replace spaces with underscores\n",
        "df.columns = [col.replace(' ', '_') for col in df]\n",
        "\n",
        "# SALE_PRICE was read as strings.\n",
        "# Remove symbols, convert to integer\n",
        "df['SALE_PRICE'] = (\n",
        "    df['SALE_PRICE']\n",
        "    .str.replace('$','')\n",
        "    .str.replace('-','')\n",
        "    .str.replace(',','')\n",
        "    .astype(int)\n",
        ")"
      ],
      "execution_count": 0,
      "outputs": []
    },
    {
      "cell_type": "code",
      "metadata": {
        "id": "WBeTpFiLtCCB",
        "colab_type": "code",
        "colab": {}
      },
      "source": [
        "# BOROUGH is a numeric column, but arguably should be a categorical feature,\n",
        "# so convert it from a number to a string\n",
        "df['BOROUGH'] = df['BOROUGH'].astype(str)"
      ],
      "execution_count": 0,
      "outputs": []
    },
    {
      "cell_type": "code",
      "metadata": {
        "id": "fP6SCPeytCCK",
        "colab_type": "code",
        "colab": {}
      },
      "source": [
        "# Reduce cardinality for NEIGHBORHOOD feature\n",
        "\n",
        "# Get a list of the top 10 neighborhoods\n",
        "top10 = df['NEIGHBORHOOD'].value_counts()[:10].index\n",
        "\n",
        "# At locations where the neighborhood is NOT in the top 10, \n",
        "# replace the neighborhood with 'OTHER'\n",
        "df.loc[~df['NEIGHBORHOOD'].isin(top10), 'NEIGHBORHOOD'] = 'OTHER'"
      ],
      "execution_count": 0,
      "outputs": []
    },
    {
      "cell_type": "markdown",
      "metadata": {
        "id": "ItqAgN_meShq",
        "colab_type": "text"
      },
      "source": [
        "1. Use a subset of the data\n",
        "=========\n",
        " where `BUILDING_CLASS_CATEGORY` == `'01 ONE FAMILY DWELLINGS'` and the sale price was more than 100 thousand and less than 2 million."
      ]
    },
    {
      "cell_type": "code",
      "metadata": {
        "id": "qHDfmLmatCCP",
        "colab_type": "code",
        "colab": {}
      },
      "source": [
        "df = df[df['BUILDING_CLASS_CATEGORY'] == '01 ONE FAMILY DWELLINGS']\n",
        "df = df[(df['SALE_PRICE'] >= 100000) & (df['SALE_PRICE'] < 2000000)]"
      ],
      "execution_count": 0,
      "outputs": []
    },
    {
      "cell_type": "code",
      "metadata": {
        "id": "9dW1UAWKklVH",
        "colab_type": "code",
        "outputId": "2a83e5ea-a2df-4631-a708-a1c5a80588e1",
        "colab": {
          "base_uri": "https://localhost:8080/",
          "height": 365
        }
      },
      "source": [
        "# Let's have a look at our target\n",
        "import matplotlib.pyplot as plt \n",
        "import seaborn as sns\n",
        "%matplotlib inline\n",
        "print(df['SALE_PRICE'].mean())\n",
        "sns.distplot(df['SALE_PRICE']);\n",
        "plt.axvline(df['SALE_PRICE'].mean(), color='r')\n",
        "plt.show();"
      ],
      "execution_count": 0,
      "outputs": [
        {
          "output_type": "stream",
          "text": [
            "/usr/local/lib/python3.6/dist-packages/statsmodels/tools/_testing.py:19: FutureWarning: pandas.util.testing is deprecated. Use the functions in the public API at pandas.testing instead.\n",
            "  import pandas.util.testing as tm\n"
          ],
          "name": "stderr"
        },
        {
          "output_type": "stream",
          "text": [
            "626887.983233154\n"
          ],
          "name": "stdout"
        },
        {
          "output_type": "display_data",
          "data": {
            "image/png": "[encoded data removed]",
            "text/plain": [
              "<Figure size 432x288 with 1 Axes>"
            ]
          },
          "metadata": {
            "tags": [],
            "needs_background": "light"
          }
        }
      ]
    },
    {
      "cell_type": "code",
      "metadata": {
        "id": "rdQaFXzmgrIX",
        "colab_type": "code",
        "outputId": "b90ca4a7-90da-4477-a29f-8da92d6bea7d",
        "colab": {
          "base_uri": "https://localhost:8080/",
          "height": 296
        }
      },
      "source": [
        "df.sample(3)"
      ],
      "execution_count": 0,
      "outputs": [
        {
          "output_type": "execute_result",
          "data": {
            "text/html": [
              "<div>\n",
              "<style scoped>\n",
              "    .dataframe tbody tr th:only-of-type {\n",
              "        vertical-align: middle;\n",
              "    }\n",
              "\n",
              "    .dataframe tbody tr th {\n",
              "        vertical-align: top;\n",
              "    }\n",
              "\n",
              "    .dataframe thead th {\n",
              "        text-align: right;\n",
              "    }\n",
              "</style>\n",
              "<table border=\"1\" class=\"dataframe\">\n",
              "  <thead>\n",
              "    <tr style=\"text-align: right;\">\n",
              "      <th></th>\n",
              "      <th>BOROUGH</th>\n",
              "      <th>NEIGHBORHOOD</th>\n",
              "      <th>BUILDING_CLASS_CATEGORY</th>\n",
              "      <th>TAX_CLASS_AT_PRESENT</th>\n",
              "      <th>BLOCK</th>\n",
              "      <th>LOT</th>\n",
              "      <th>EASE-MENT</th>\n",
              "      <th>BUILDING_CLASS_AT_PRESENT</th>\n",
              "      <th>ADDRESS</th>\n",
              "      <th>APARTMENT_NUMBER</th>\n",
              "      <th>ZIP_CODE</th>\n",
              "      <th>RESIDENTIAL_UNITS</th>\n",
              "      <th>COMMERCIAL_UNITS</th>\n",
              "      <th>TOTAL_UNITS</th>\n",
              "      <th>LAND_SQUARE_FEET</th>\n",
              "      <th>GROSS_SQUARE_FEET</th>\n",
              "      <th>YEAR_BUILT</th>\n",
              "      <th>TAX_CLASS_AT_TIME_OF_SALE</th>\n",
              "      <th>BUILDING_CLASS_AT_TIME_OF_SALE</th>\n",
              "      <th>SALE_PRICE</th>\n",
              "      <th>SALE_DATE</th>\n",
              "    </tr>\n",
              "  </thead>\n",
              "  <tbody>\n",
              "    <tr>\n",
              "      <th>16606</th>\n",
              "      <td>2</td>\n",
              "      <td>OTHER</td>\n",
              "      <td>01 ONE FAMILY DWELLINGS</td>\n",
              "      <td>1</td>\n",
              "      <td>4473</td>\n",
              "      <td>18</td>\n",
              "      <td>NaN</td>\n",
              "      <td>A1</td>\n",
              "      <td>2428 MORGAN AVENUE</td>\n",
              "      <td>NaN</td>\n",
              "      <td>10469.0</td>\n",
              "      <td>1.0</td>\n",
              "      <td>0.0</td>\n",
              "      <td>1.0</td>\n",
              "      <td>5,000</td>\n",
              "      <td>1200.0</td>\n",
              "      <td>1920.0</td>\n",
              "      <td>1</td>\n",
              "      <td>A1</td>\n",
              "      <td>690000</td>\n",
              "      <td>03/25/2019</td>\n",
              "    </tr>\n",
              "    <tr>\n",
              "      <th>2104</th>\n",
              "      <td>5</td>\n",
              "      <td>OTHER</td>\n",
              "      <td>01 ONE FAMILY DWELLINGS</td>\n",
              "      <td>1</td>\n",
              "      <td>430</td>\n",
              "      <td>10</td>\n",
              "      <td>NaN</td>\n",
              "      <td>A1</td>\n",
              "      <td>301 CLINTON B FISK AVE</td>\n",
              "      <td>NaN</td>\n",
              "      <td>10314.0</td>\n",
              "      <td>1.0</td>\n",
              "      <td>0.0</td>\n",
              "      <td>1.0</td>\n",
              "      <td>3,000</td>\n",
              "      <td>1088.0</td>\n",
              "      <td>1925.0</td>\n",
              "      <td>1</td>\n",
              "      <td>A1</td>\n",
              "      <td>630000</td>\n",
              "      <td>01/11/2019</td>\n",
              "    </tr>\n",
              "    <tr>\n",
              "      <th>10629</th>\n",
              "      <td>4</td>\n",
              "      <td>OTHER</td>\n",
              "      <td>01 ONE FAMILY DWELLINGS</td>\n",
              "      <td>1</td>\n",
              "      <td>6901</td>\n",
              "      <td>13</td>\n",
              "      <td>NaN</td>\n",
              "      <td>A5</td>\n",
              "      <td>173-03 65TH AVENUE</td>\n",
              "      <td>NaN</td>\n",
              "      <td>11365.0</td>\n",
              "      <td>1.0</td>\n",
              "      <td>0.0</td>\n",
              "      <td>1.0</td>\n",
              "      <td>2,600</td>\n",
              "      <td>1044.0</td>\n",
              "      <td>1950.0</td>\n",
              "      <td>1</td>\n",
              "      <td>A5</td>\n",
              "      <td>785000</td>\n",
              "      <td>02/22/2019</td>\n",
              "    </tr>\n",
              "  </tbody>\n",
              "</table>\n",
              "</div>"
            ],
            "text/plain": [
              "      BOROUGH NEIGHBORHOOD  ... SALE_PRICE   SALE_DATE\n",
              "16606       2        OTHER  ...     690000  03/25/2019\n",
              "2104        5        OTHER  ...     630000  01/11/2019\n",
              "10629       4        OTHER  ...     785000  02/22/2019\n",
              "\n",
              "[3 rows x 21 columns]"
            ]
          },
          "metadata": {
            "tags": []
          },
          "execution_count": 7
        }
      ]
    },
    {
      "cell_type": "code",
      "metadata": {
        "id": "N2W_Blv0ewiS",
        "colab_type": "code",
        "colab": {}
      },
      "source": [
        "# drop BUILDING_CLASS_CATEGORY and EASE-MENT\n",
        "df = df.drop('BUILDING_CLASS_CATEGORY', axis=1) # same for all rows\n",
        "df = df.drop('EASE-MENT', axis=1) # this is mostly all NaNs\n",
        "df = df.drop('APARTMENT_NUMBER', axis=1) # this is mostly all NaNs\n",
        "\n",
        "df = df.drop('TAX_CLASS_AT_TIME_OF_SALE', axis=1) # this is constant number"
      ],
      "execution_count": 0,
      "outputs": []
    },
    {
      "cell_type": "markdown",
      "metadata": {
        "id": "xnWLl-g2gFBz",
        "colab_type": "text"
      },
      "source": [
        " 2. Do train/test split.\n",
        " =========\n",
        " Use data from January — March 2019 to train. Use data from April 2019 to test."
      ]
    },
    {
      "cell_type": "code",
      "metadata": {
        "id": "SDChqbpVdrLN",
        "colab_type": "code",
        "outputId": "18c3197a-ae22-4b86-fa0a-ea65b5404b2b",
        "colab": {
          "base_uri": "https://localhost:8080/",
          "height": 35
        }
      },
      "source": [
        "# Split the data into two sets\n",
        "train = df[(df['SALE_DATE'] >= '01/01/2019') & (df['SALE_DATE'] < '04/01/2019')]\n",
        "test = df[df['SALE_DATE'] >= '04/01/2019']\n",
        "train.shape, test.shape"
      ],
      "execution_count": 0,
      "outputs": [
        {
          "output_type": "execute_result",
          "data": {
            "text/plain": [
              "((2515, 17), (646, 17))"
            ]
          },
          "metadata": {
            "tags": []
          },
          "execution_count": 10
        }
      ]
    },
    {
      "cell_type": "code",
      "metadata": {
        "id": "CjTALeIrcbYv",
        "colab_type": "code",
        "colab": {}
      },
      "source": [
        "# to stop the Pandas warning from popping up\n",
        "train = train.copy()\n",
        "test = test.copy()"
      ],
      "execution_count": 0,
      "outputs": []
    },
    {
      "cell_type": "code",
      "metadata": {
        "id": "2aeTlHEzel5X",
        "colab_type": "code",
        "outputId": "fe4f0ede-1267-4394-b363-7aafb43c42e8",
        "colab": {
          "base_uri": "https://localhost:8080/",
          "height": 279
        }
      },
      "source": [
        "train.sample(3)"
      ],
      "execution_count": 0,
      "outputs": [
        {
          "output_type": "execute_result",
          "data": {
            "text/html": [
              "<div>\n",
              "<style scoped>\n",
              "    .dataframe tbody tr th:only-of-type {\n",
              "        vertical-align: middle;\n",
              "    }\n",
              "\n",
              "    .dataframe tbody tr th {\n",
              "        vertical-align: top;\n",
              "    }\n",
              "\n",
              "    .dataframe thead th {\n",
              "        text-align: right;\n",
              "    }\n",
              "</style>\n",
              "<table border=\"1\" class=\"dataframe\">\n",
              "  <thead>\n",
              "    <tr style=\"text-align: right;\">\n",
              "      <th></th>\n",
              "      <th>BOROUGH</th>\n",
              "      <th>NEIGHBORHOOD</th>\n",
              "      <th>TAX_CLASS_AT_PRESENT</th>\n",
              "      <th>BLOCK</th>\n",
              "      <th>LOT</th>\n",
              "      <th>BUILDING_CLASS_AT_PRESENT</th>\n",
              "      <th>ADDRESS</th>\n",
              "      <th>ZIP_CODE</th>\n",
              "      <th>RESIDENTIAL_UNITS</th>\n",
              "      <th>COMMERCIAL_UNITS</th>\n",
              "      <th>TOTAL_UNITS</th>\n",
              "      <th>LAND_SQUARE_FEET</th>\n",
              "      <th>GROSS_SQUARE_FEET</th>\n",
              "      <th>YEAR_BUILT</th>\n",
              "      <th>BUILDING_CLASS_AT_TIME_OF_SALE</th>\n",
              "      <th>SALE_PRICE</th>\n",
              "      <th>SALE_DATE</th>\n",
              "    </tr>\n",
              "  </thead>\n",
              "  <tbody>\n",
              "    <tr>\n",
              "      <th>11477</th>\n",
              "      <td>3</td>\n",
              "      <td>OTHER</td>\n",
              "      <td>1</td>\n",
              "      <td>8547</td>\n",
              "      <td>29</td>\n",
              "      <td>A9</td>\n",
              "      <td>2037 EAST 55TH STREET</td>\n",
              "      <td>11234.0</td>\n",
              "      <td>1.0</td>\n",
              "      <td>0.0</td>\n",
              "      <td>1.0</td>\n",
              "      <td>2,000</td>\n",
              "      <td>1248.0</td>\n",
              "      <td>1920.0</td>\n",
              "      <td>A9</td>\n",
              "      <td>600000</td>\n",
              "      <td>02/27/2019</td>\n",
              "    </tr>\n",
              "    <tr>\n",
              "      <th>3535</th>\n",
              "      <td>4</td>\n",
              "      <td>OTHER</td>\n",
              "      <td>1</td>\n",
              "      <td>11670</td>\n",
              "      <td>5</td>\n",
              "      <td>A0</td>\n",
              "      <td>126-10 115TH AVENUE</td>\n",
              "      <td>11420.0</td>\n",
              "      <td>1.0</td>\n",
              "      <td>0.0</td>\n",
              "      <td>1.0</td>\n",
              "      <td>3,300</td>\n",
              "      <td>1208.0</td>\n",
              "      <td>1945.0</td>\n",
              "      <td>A0</td>\n",
              "      <td>362900</td>\n",
              "      <td>01/18/2019</td>\n",
              "    </tr>\n",
              "    <tr>\n",
              "      <th>13336</th>\n",
              "      <td>5</td>\n",
              "      <td>OTHER</td>\n",
              "      <td>1</td>\n",
              "      <td>6993</td>\n",
              "      <td>42</td>\n",
              "      <td>A2</td>\n",
              "      <td>49 IDAHO AVENUE</td>\n",
              "      <td>10309.0</td>\n",
              "      <td>1.0</td>\n",
              "      <td>0.0</td>\n",
              "      <td>1.0</td>\n",
              "      <td>18,009</td>\n",
              "      <td>1084.0</td>\n",
              "      <td>1950.0</td>\n",
              "      <td>A2</td>\n",
              "      <td>800000</td>\n",
              "      <td>03/07/2019</td>\n",
              "    </tr>\n",
              "  </tbody>\n",
              "</table>\n",
              "</div>"
            ],
            "text/plain": [
              "      BOROUGH NEIGHBORHOOD  ... SALE_PRICE   SALE_DATE\n",
              "11477       3        OTHER  ...     600000  02/27/2019\n",
              "3535        4        OTHER  ...     362900  01/18/2019\n",
              "13336       5        OTHER  ...     800000  03/07/2019\n",
              "\n",
              "[3 rows x 17 columns]"
            ]
          },
          "metadata": {
            "tags": []
          },
          "execution_count": 12
        }
      ]
    },
    {
      "cell_type": "code",
      "metadata": {
        "id": "9xsaMIOLlEsU",
        "colab_type": "code",
        "outputId": "2ee1c082-81cd-4a67-cf9b-6831721c854e",
        "colab": {
          "base_uri": "https://localhost:8080/",
          "height": 318
        }
      },
      "source": [
        "train.describe(include='number').T"
      ],
      "execution_count": 0,
      "outputs": [
        {
          "output_type": "execute_result",
          "data": {
            "text/html": [
              "<div>\n",
              "<style scoped>\n",
              "    .dataframe tbody tr th:only-of-type {\n",
              "        vertical-align: middle;\n",
              "    }\n",
              "\n",
              "    .dataframe tbody tr th {\n",
              "        vertical-align: top;\n",
              "    }\n",
              "\n",
              "    .dataframe thead th {\n",
              "        text-align: right;\n",
              "    }\n",
              "</style>\n",
              "<table border=\"1\" class=\"dataframe\">\n",
              "  <thead>\n",
              "    <tr style=\"text-align: right;\">\n",
              "      <th></th>\n",
              "      <th>count</th>\n",
              "      <th>mean</th>\n",
              "      <th>std</th>\n",
              "      <th>min</th>\n",
              "      <th>25%</th>\n",
              "      <th>50%</th>\n",
              "      <th>75%</th>\n",
              "      <th>max</th>\n",
              "    </tr>\n",
              "  </thead>\n",
              "  <tbody>\n",
              "    <tr>\n",
              "      <th>BLOCK</th>\n",
              "      <td>2515.0</td>\n",
              "      <td>6754.701392</td>\n",
              "      <td>3976.314767</td>\n",
              "      <td>21.0</td>\n",
              "      <td>3837.5</td>\n",
              "      <td>6022.0</td>\n",
              "      <td>9888.5</td>\n",
              "      <td>16350.0</td>\n",
              "    </tr>\n",
              "    <tr>\n",
              "      <th>LOT</th>\n",
              "      <td>2515.0</td>\n",
              "      <td>75.681511</td>\n",
              "      <td>157.294857</td>\n",
              "      <td>1.0</td>\n",
              "      <td>21.0</td>\n",
              "      <td>42.0</td>\n",
              "      <td>70.0</td>\n",
              "      <td>2720.0</td>\n",
              "    </tr>\n",
              "    <tr>\n",
              "      <th>ZIP_CODE</th>\n",
              "      <td>2515.0</td>\n",
              "      <td>10993.703777</td>\n",
              "      <td>494.206275</td>\n",
              "      <td>10301.0</td>\n",
              "      <td>10314.0</td>\n",
              "      <td>11234.0</td>\n",
              "      <td>11413.0</td>\n",
              "      <td>11697.0</td>\n",
              "    </tr>\n",
              "    <tr>\n",
              "      <th>RESIDENTIAL_UNITS</th>\n",
              "      <td>2515.0</td>\n",
              "      <td>0.987674</td>\n",
              "      <td>0.110358</td>\n",
              "      <td>0.0</td>\n",
              "      <td>1.0</td>\n",
              "      <td>1.0</td>\n",
              "      <td>1.0</td>\n",
              "      <td>1.0</td>\n",
              "    </tr>\n",
              "    <tr>\n",
              "      <th>COMMERCIAL_UNITS</th>\n",
              "      <td>2515.0</td>\n",
              "      <td>0.016302</td>\n",
              "      <td>0.129763</td>\n",
              "      <td>0.0</td>\n",
              "      <td>0.0</td>\n",
              "      <td>0.0</td>\n",
              "      <td>0.0</td>\n",
              "      <td>2.0</td>\n",
              "    </tr>\n",
              "    <tr>\n",
              "      <th>TOTAL_UNITS</th>\n",
              "      <td>2515.0</td>\n",
              "      <td>1.003976</td>\n",
              "      <td>0.171521</td>\n",
              "      <td>0.0</td>\n",
              "      <td>1.0</td>\n",
              "      <td>1.0</td>\n",
              "      <td>1.0</td>\n",
              "      <td>3.0</td>\n",
              "    </tr>\n",
              "    <tr>\n",
              "      <th>GROSS_SQUARE_FEET</th>\n",
              "      <td>2515.0</td>\n",
              "      <td>1473.006759</td>\n",
              "      <td>599.069731</td>\n",
              "      <td>0.0</td>\n",
              "      <td>1144.0</td>\n",
              "      <td>1364.0</td>\n",
              "      <td>1681.5</td>\n",
              "      <td>7875.0</td>\n",
              "    </tr>\n",
              "    <tr>\n",
              "      <th>YEAR_BUILT</th>\n",
              "      <td>2515.0</td>\n",
              "      <td>1944.757455</td>\n",
              "      <td>27.047985</td>\n",
              "      <td>1890.0</td>\n",
              "      <td>1925.0</td>\n",
              "      <td>1940.0</td>\n",
              "      <td>1960.0</td>\n",
              "      <td>2018.0</td>\n",
              "    </tr>\n",
              "    <tr>\n",
              "      <th>SALE_PRICE</th>\n",
              "      <td>2515.0</td>\n",
              "      <td>619914.660835</td>\n",
              "      <td>292621.089510</td>\n",
              "      <td>100000.0</td>\n",
              "      <td>440000.0</td>\n",
              "      <td>560000.0</td>\n",
              "      <td>750000.0</td>\n",
              "      <td>1955000.0</td>\n",
              "    </tr>\n",
              "  </tbody>\n",
              "</table>\n",
              "</div>"
            ],
            "text/plain": [
              "                    count           mean  ...       75%        max\n",
              "BLOCK              2515.0    6754.701392  ...    9888.5    16350.0\n",
              "LOT                2515.0      75.681511  ...      70.0     2720.0\n",
              "ZIP_CODE           2515.0   10993.703777  ...   11413.0    11697.0\n",
              "RESIDENTIAL_UNITS  2515.0       0.987674  ...       1.0        1.0\n",
              "COMMERCIAL_UNITS   2515.0       0.016302  ...       0.0        2.0\n",
              "TOTAL_UNITS        2515.0       1.003976  ...       1.0        3.0\n",
              "GROSS_SQUARE_FEET  2515.0    1473.006759  ...    1681.5     7875.0\n",
              "YEAR_BUILT         2515.0    1944.757455  ...    1960.0     2018.0\n",
              "SALE_PRICE         2515.0  619914.660835  ...  750000.0  1955000.0\n",
              "\n",
              "[9 rows x 8 columns]"
            ]
          },
          "metadata": {
            "tags": []
          },
          "execution_count": 13
        }
      ]
    },
    {
      "cell_type": "markdown",
      "metadata": {
        "id": "bT4LeRDnh65g",
        "colab_type": "text"
      },
      "source": [
        "3. Do one-hot encoding of categorical features.\n",
        "=====\n"
      ]
    },
    {
      "cell_type": "code",
      "metadata": {
        "id": "ekdyg1yphxPi",
        "colab_type": "code",
        "outputId": "cfd03362-fb86-4ad0-f151-5da82b9818f4",
        "colab": {
          "base_uri": "https://localhost:8080/",
          "height": 288
        }
      },
      "source": [
        "train.describe(exclude='number').T"
      ],
      "execution_count": 0,
      "outputs": [
        {
          "output_type": "execute_result",
          "data": {
            "text/html": [
              "<div>\n",
              "<style scoped>\n",
              "    .dataframe tbody tr th:only-of-type {\n",
              "        vertical-align: middle;\n",
              "    }\n",
              "\n",
              "    .dataframe tbody tr th {\n",
              "        vertical-align: top;\n",
              "    }\n",
              "\n",
              "    .dataframe thead th {\n",
              "        text-align: right;\n",
              "    }\n",
              "</style>\n",
              "<table border=\"1\" class=\"dataframe\">\n",
              "  <thead>\n",
              "    <tr style=\"text-align: right;\">\n",
              "      <th></th>\n",
              "      <th>count</th>\n",
              "      <th>unique</th>\n",
              "      <th>top</th>\n",
              "      <th>freq</th>\n",
              "    </tr>\n",
              "  </thead>\n",
              "  <tbody>\n",
              "    <tr>\n",
              "      <th>BOROUGH</th>\n",
              "      <td>2515</td>\n",
              "      <td>5</td>\n",
              "      <td>4</td>\n",
              "      <td>1209</td>\n",
              "    </tr>\n",
              "    <tr>\n",
              "      <th>NEIGHBORHOOD</th>\n",
              "      <td>2515</td>\n",
              "      <td>6</td>\n",
              "      <td>OTHER</td>\n",
              "      <td>2388</td>\n",
              "    </tr>\n",
              "    <tr>\n",
              "      <th>TAX_CLASS_AT_PRESENT</th>\n",
              "      <td>2515</td>\n",
              "      <td>2</td>\n",
              "      <td>1</td>\n",
              "      <td>2484</td>\n",
              "    </tr>\n",
              "    <tr>\n",
              "      <th>BUILDING_CLASS_AT_PRESENT</th>\n",
              "      <td>2515</td>\n",
              "      <td>13</td>\n",
              "      <td>A1</td>\n",
              "      <td>921</td>\n",
              "    </tr>\n",
              "    <tr>\n",
              "      <th>ADDRESS</th>\n",
              "      <td>2515</td>\n",
              "      <td>2505</td>\n",
              "      <td>130-52 LEFFERTS BOULEVARD</td>\n",
              "      <td>2</td>\n",
              "    </tr>\n",
              "    <tr>\n",
              "      <th>LAND_SQUARE_FEET</th>\n",
              "      <td>2515</td>\n",
              "      <td>888</td>\n",
              "      <td>4,000</td>\n",
              "      <td>235</td>\n",
              "    </tr>\n",
              "    <tr>\n",
              "      <th>BUILDING_CLASS_AT_TIME_OF_SALE</th>\n",
              "      <td>2515</td>\n",
              "      <td>11</td>\n",
              "      <td>A1</td>\n",
              "      <td>921</td>\n",
              "    </tr>\n",
              "    <tr>\n",
              "      <th>SALE_DATE</th>\n",
              "      <td>2515</td>\n",
              "      <td>68</td>\n",
              "      <td>01/31/2019</td>\n",
              "      <td>78</td>\n",
              "    </tr>\n",
              "  </tbody>\n",
              "</table>\n",
              "</div>"
            ],
            "text/plain": [
              "                               count unique                        top  freq\n",
              "BOROUGH                         2515      5                          4  1209\n",
              "NEIGHBORHOOD                    2515      6                      OTHER  2388\n",
              "TAX_CLASS_AT_PRESENT            2515      2                          1  2484\n",
              "BUILDING_CLASS_AT_PRESENT       2515     13                         A1   921\n",
              "ADDRESS                         2515   2505  130-52 LEFFERTS BOULEVARD     2\n",
              "LAND_SQUARE_FEET                2515    888                      4,000   235\n",
              "BUILDING_CLASS_AT_TIME_OF_SALE  2515     11                         A1   921\n",
              "SALE_DATE                       2515     68                 01/31/2019    78"
            ]
          },
          "metadata": {
            "tags": []
          },
          "execution_count": 14
        }
      ]
    },
    {
      "cell_type": "code",
      "metadata": {
        "id": "uimF6Wo78frR",
        "colab_type": "code",
        "colab": {}
      },
      "source": [
        "#### Running this more than once will cause errors\n",
        "train['LAND_SQUARE_FEET'] = (train['LAND_SQUARE_FEET'].str.replace(',','').astype(int))\n",
        "test['LAND_SQUARE_FEET'] = (test['LAND_SQUARE_FEET'].str.replace(',','').astype(int))\n",
        "#### now 'LAND_SQUARE_FEET' is not a categorical variable"
      ],
      "execution_count": 0,
      "outputs": []
    },
    {
      "cell_type": "code",
      "metadata": {
        "id": "tXhQCQhH-kUM",
        "colab_type": "code",
        "outputId": "84a0f25b-db47-4927-cb3b-c1b6f038d672",
        "colab": {
          "base_uri": "https://localhost:8080/",
          "height": 258
        }
      },
      "source": [
        "train.describe(exclude='number').T"
      ],
      "execution_count": 0,
      "outputs": [
        {
          "output_type": "execute_result",
          "data": {
            "text/html": [
              "<div>\n",
              "<style scoped>\n",
              "    .dataframe tbody tr th:only-of-type {\n",
              "        vertical-align: middle;\n",
              "    }\n",
              "\n",
              "    .dataframe tbody tr th {\n",
              "        vertical-align: top;\n",
              "    }\n",
              "\n",
              "    .dataframe thead th {\n",
              "        text-align: right;\n",
              "    }\n",
              "</style>\n",
              "<table border=\"1\" class=\"dataframe\">\n",
              "  <thead>\n",
              "    <tr style=\"text-align: right;\">\n",
              "      <th></th>\n",
              "      <th>count</th>\n",
              "      <th>unique</th>\n",
              "      <th>top</th>\n",
              "      <th>freq</th>\n",
              "    </tr>\n",
              "  </thead>\n",
              "  <tbody>\n",
              "    <tr>\n",
              "      <th>BOROUGH</th>\n",
              "      <td>2515</td>\n",
              "      <td>5</td>\n",
              "      <td>4</td>\n",
              "      <td>1209</td>\n",
              "    </tr>\n",
              "    <tr>\n",
              "      <th>NEIGHBORHOOD</th>\n",
              "      <td>2515</td>\n",
              "      <td>6</td>\n",
              "      <td>OTHER</td>\n",
              "      <td>2388</td>\n",
              "    </tr>\n",
              "    <tr>\n",
              "      <th>TAX_CLASS_AT_PRESENT</th>\n",
              "      <td>2515</td>\n",
              "      <td>2</td>\n",
              "      <td>1</td>\n",
              "      <td>2484</td>\n",
              "    </tr>\n",
              "    <tr>\n",
              "      <th>BUILDING_CLASS_AT_PRESENT</th>\n",
              "      <td>2515</td>\n",
              "      <td>13</td>\n",
              "      <td>A1</td>\n",
              "      <td>921</td>\n",
              "    </tr>\n",
              "    <tr>\n",
              "      <th>ADDRESS</th>\n",
              "      <td>2515</td>\n",
              "      <td>2505</td>\n",
              "      <td>130-52 LEFFERTS BOULEVARD</td>\n",
              "      <td>2</td>\n",
              "    </tr>\n",
              "    <tr>\n",
              "      <th>BUILDING_CLASS_AT_TIME_OF_SALE</th>\n",
              "      <td>2515</td>\n",
              "      <td>11</td>\n",
              "      <td>A1</td>\n",
              "      <td>921</td>\n",
              "    </tr>\n",
              "    <tr>\n",
              "      <th>SALE_DATE</th>\n",
              "      <td>2515</td>\n",
              "      <td>68</td>\n",
              "      <td>01/31/2019</td>\n",
              "      <td>78</td>\n",
              "    </tr>\n",
              "  </tbody>\n",
              "</table>\n",
              "</div>"
            ],
            "text/plain": [
              "                               count unique                        top  freq\n",
              "BOROUGH                         2515      5                          4  1209\n",
              "NEIGHBORHOOD                    2515      6                      OTHER  2388\n",
              "TAX_CLASS_AT_PRESENT            2515      2                          1  2484\n",
              "BUILDING_CLASS_AT_PRESENT       2515     13                         A1   921\n",
              "ADDRESS                         2515   2505  130-52 LEFFERTS BOULEVARD     2\n",
              "BUILDING_CLASS_AT_TIME_OF_SALE  2515     11                         A1   921\n",
              "SALE_DATE                       2515     68                 01/31/2019    78"
            ]
          },
          "metadata": {
            "tags": []
          },
          "execution_count": 16
        }
      ]
    },
    {
      "cell_type": "code",
      "metadata": {
        "id": "M6He7b3Hsuc-",
        "colab_type": "code",
        "outputId": "621bd9e0-75ab-4871-d5b8-855e5a95d743",
        "colab": {
          "base_uri": "https://localhost:8080/",
          "height": 407
        }
      },
      "source": [
        "# the following are values to be excluded\n",
        "#. 'BUILDING_CLASS_CATEGORY' - is only one value '01 ONE FAMILY DWELLINGS' due to intial sort\t\n",
        "#. 'ADDRESS'\n",
        "#. 'APARTMENT_NUMBER'\n",
        "#. 'SALE_DATE'\n",
        "train[['BUILDING_CLASS_AT_PRESENT','BUILDING_CLASS_AT_TIME_OF_SALE']] # this value doesn't change"
      ],
      "execution_count": 0,
      "outputs": [
        {
          "output_type": "execute_result",
          "data": {
            "text/html": [
              "<div>\n",
              "<style scoped>\n",
              "    .dataframe tbody tr th:only-of-type {\n",
              "        vertical-align: middle;\n",
              "    }\n",
              "\n",
              "    .dataframe tbody tr th {\n",
              "        vertical-align: top;\n",
              "    }\n",
              "\n",
              "    .dataframe thead th {\n",
              "        text-align: right;\n",
              "    }\n",
              "</style>\n",
              "<table border=\"1\" class=\"dataframe\">\n",
              "  <thead>\n",
              "    <tr style=\"text-align: right;\">\n",
              "      <th></th>\n",
              "      <th>BUILDING_CLASS_AT_PRESENT</th>\n",
              "      <th>BUILDING_CLASS_AT_TIME_OF_SALE</th>\n",
              "    </tr>\n",
              "  </thead>\n",
              "  <tbody>\n",
              "    <tr>\n",
              "      <th>44</th>\n",
              "      <td>A9</td>\n",
              "      <td>A9</td>\n",
              "    </tr>\n",
              "    <tr>\n",
              "      <th>61</th>\n",
              "      <td>A1</td>\n",
              "      <td>A1</td>\n",
              "    </tr>\n",
              "    <tr>\n",
              "      <th>78</th>\n",
              "      <td>A1</td>\n",
              "      <td>A1</td>\n",
              "    </tr>\n",
              "    <tr>\n",
              "      <th>108</th>\n",
              "      <td>A1</td>\n",
              "      <td>A1</td>\n",
              "    </tr>\n",
              "    <tr>\n",
              "      <th>111</th>\n",
              "      <td>A5</td>\n",
              "      <td>A5</td>\n",
              "    </tr>\n",
              "    <tr>\n",
              "      <th>...</th>\n",
              "      <td>...</td>\n",
              "      <td>...</td>\n",
              "    </tr>\n",
              "    <tr>\n",
              "      <th>18129</th>\n",
              "      <td>A2</td>\n",
              "      <td>A2</td>\n",
              "    </tr>\n",
              "    <tr>\n",
              "      <th>18130</th>\n",
              "      <td>A5</td>\n",
              "      <td>A5</td>\n",
              "    </tr>\n",
              "    <tr>\n",
              "      <th>18132</th>\n",
              "      <td>A1</td>\n",
              "      <td>A1</td>\n",
              "    </tr>\n",
              "    <tr>\n",
              "      <th>18134</th>\n",
              "      <td>A2</td>\n",
              "      <td>A2</td>\n",
              "    </tr>\n",
              "    <tr>\n",
              "      <th>18147</th>\n",
              "      <td>A0</td>\n",
              "      <td>A0</td>\n",
              "    </tr>\n",
              "  </tbody>\n",
              "</table>\n",
              "<p>2515 rows × 2 columns</p>\n",
              "</div>"
            ],
            "text/plain": [
              "      BUILDING_CLASS_AT_PRESENT BUILDING_CLASS_AT_TIME_OF_SALE\n",
              "44                           A9                             A9\n",
              "61                           A1                             A1\n",
              "78                           A1                             A1\n",
              "108                          A1                             A1\n",
              "111                          A5                             A5\n",
              "...                         ...                            ...\n",
              "18129                        A2                             A2\n",
              "18130                        A5                             A5\n",
              "18132                        A1                             A1\n",
              "18134                        A2                             A2\n",
              "18147                        A0                             A0\n",
              "\n",
              "[2515 rows x 2 columns]"
            ]
          },
          "metadata": {
            "tags": []
          },
          "execution_count": 17
        }
      ]
    },
    {
      "cell_type": "markdown",
      "metadata": {
        "id": "s_GzRh_Zr_MG",
        "colab_type": "text"
      },
      "source": [
        "The other non-numeric columns have high cardinality. So let's exclude them from our features for now."
      ]
    },
    {
      "cell_type": "code",
      "metadata": {
        "id": "KuQcMH5NmN1q",
        "colab_type": "code",
        "outputId": "d7fb44ad-6c0a-425b-faf3-ed74ddda8ffe",
        "colab": {
          "base_uri": "https://localhost:8080/",
          "height": 90
        }
      },
      "source": [
        "target = 'SALE_PRICE'\n",
        "high_cardinality = ['ADDRESS','BUILDING_CLASS_AT_PRESENT',\n",
        "                    'BUILDING_CLASS_AT_TIME_OF_SALE', 'SALE_DATE'] ##### add the columns to exclude\n",
        "features = train.columns.drop([target] + high_cardinality)\n",
        "features # these are the features we will keep "
      ],
      "execution_count": 0,
      "outputs": [
        {
          "output_type": "execute_result",
          "data": {
            "text/plain": [
              "Index(['BOROUGH', 'NEIGHBORHOOD', 'TAX_CLASS_AT_PRESENT', 'BLOCK', 'LOT',\n",
              "       'ZIP_CODE', 'RESIDENTIAL_UNITS', 'COMMERCIAL_UNITS', 'TOTAL_UNITS',\n",
              "       'LAND_SQUARE_FEET', 'GROSS_SQUARE_FEET', 'YEAR_BUILT'],\n",
              "      dtype='object')"
            ]
          },
          "metadata": {
            "tags": []
          },
          "execution_count": 18
        }
      ]
    },
    {
      "cell_type": "code",
      "metadata": {
        "id": "knd4bzMbz9HW",
        "colab_type": "code",
        "outputId": "5b1c3c52-0c7b-4394-d68d-074c8ecb7197",
        "colab": {
          "base_uri": "https://localhost:8080/",
          "height": 35
        }
      },
      "source": [
        "X_train = train[features]\n",
        "y_train = train[target]\n",
        "\n",
        "X_test = test[features]\n",
        "y_test = test[target]\n",
        "\n",
        "X_train.shape, X_test.shape"
      ],
      "execution_count": 0,
      "outputs": [
        {
          "output_type": "execute_result",
          "data": {
            "text/plain": [
              "((2515, 12), (646, 12))"
            ]
          },
          "metadata": {
            "tags": []
          },
          "execution_count": 19
        }
      ]
    },
    {
      "cell_type": "code",
      "metadata": {
        "id": "0_FJdjNw0ePF",
        "colab_type": "code",
        "outputId": "a6e9282b-517b-43cb-bfda-a1ea1d0f72d9",
        "colab": {
          "base_uri": "https://localhost:8080/",
          "height": 408
        }
      },
      "source": [
        "X_train.head(5).T"
      ],
      "execution_count": 0,
      "outputs": [
        {
          "output_type": "execute_result",
          "data": {
            "text/html": [
              "<div>\n",
              "<style scoped>\n",
              "    .dataframe tbody tr th:only-of-type {\n",
              "        vertical-align: middle;\n",
              "    }\n",
              "\n",
              "    .dataframe tbody tr th {\n",
              "        vertical-align: top;\n",
              "    }\n",
              "\n",
              "    .dataframe thead th {\n",
              "        text-align: right;\n",
              "    }\n",
              "</style>\n",
              "<table border=\"1\" class=\"dataframe\">\n",
              "  <thead>\n",
              "    <tr style=\"text-align: right;\">\n",
              "      <th></th>\n",
              "      <th>44</th>\n",
              "      <th>61</th>\n",
              "      <th>78</th>\n",
              "      <th>108</th>\n",
              "      <th>111</th>\n",
              "    </tr>\n",
              "  </thead>\n",
              "  <tbody>\n",
              "    <tr>\n",
              "      <th>BOROUGH</th>\n",
              "      <td>3</td>\n",
              "      <td>4</td>\n",
              "      <td>2</td>\n",
              "      <td>3</td>\n",
              "      <td>3</td>\n",
              "    </tr>\n",
              "    <tr>\n",
              "      <th>NEIGHBORHOOD</th>\n",
              "      <td>OTHER</td>\n",
              "      <td>OTHER</td>\n",
              "      <td>OTHER</td>\n",
              "      <td>OTHER</td>\n",
              "      <td>OTHER</td>\n",
              "    </tr>\n",
              "    <tr>\n",
              "      <th>TAX_CLASS_AT_PRESENT</th>\n",
              "      <td>1</td>\n",
              "      <td>1</td>\n",
              "      <td>1</td>\n",
              "      <td>1</td>\n",
              "      <td>1</td>\n",
              "    </tr>\n",
              "    <tr>\n",
              "      <th>BLOCK</th>\n",
              "      <td>5495</td>\n",
              "      <td>7918</td>\n",
              "      <td>4210</td>\n",
              "      <td>5212</td>\n",
              "      <td>7930</td>\n",
              "    </tr>\n",
              "    <tr>\n",
              "      <th>LOT</th>\n",
              "      <td>801</td>\n",
              "      <td>72</td>\n",
              "      <td>19</td>\n",
              "      <td>69</td>\n",
              "      <td>121</td>\n",
              "    </tr>\n",
              "    <tr>\n",
              "      <th>ZIP_CODE</th>\n",
              "      <td>11230</td>\n",
              "      <td>11427</td>\n",
              "      <td>10461</td>\n",
              "      <td>11226</td>\n",
              "      <td>11203</td>\n",
              "    </tr>\n",
              "    <tr>\n",
              "      <th>RESIDENTIAL_UNITS</th>\n",
              "      <td>1</td>\n",
              "      <td>1</td>\n",
              "      <td>1</td>\n",
              "      <td>1</td>\n",
              "      <td>1</td>\n",
              "    </tr>\n",
              "    <tr>\n",
              "      <th>COMMERCIAL_UNITS</th>\n",
              "      <td>0</td>\n",
              "      <td>0</td>\n",
              "      <td>0</td>\n",
              "      <td>0</td>\n",
              "      <td>0</td>\n",
              "    </tr>\n",
              "    <tr>\n",
              "      <th>TOTAL_UNITS</th>\n",
              "      <td>1</td>\n",
              "      <td>1</td>\n",
              "      <td>1</td>\n",
              "      <td>1</td>\n",
              "      <td>1</td>\n",
              "    </tr>\n",
              "    <tr>\n",
              "      <th>LAND_SQUARE_FEET</th>\n",
              "      <td>6800</td>\n",
              "      <td>4000</td>\n",
              "      <td>3500</td>\n",
              "      <td>4000</td>\n",
              "      <td>1710</td>\n",
              "    </tr>\n",
              "    <tr>\n",
              "      <th>GROSS_SQUARE_FEET</th>\n",
              "      <td>1325</td>\n",
              "      <td>2001</td>\n",
              "      <td>2043</td>\n",
              "      <td>2680</td>\n",
              "      <td>1872</td>\n",
              "    </tr>\n",
              "    <tr>\n",
              "      <th>YEAR_BUILT</th>\n",
              "      <td>1930</td>\n",
              "      <td>1940</td>\n",
              "      <td>1925</td>\n",
              "      <td>1899</td>\n",
              "      <td>1940</td>\n",
              "    </tr>\n",
              "  </tbody>\n",
              "</table>\n",
              "</div>"
            ],
            "text/plain": [
              "                        44     61     78     108    111\n",
              "BOROUGH                   3      4      2      3      3\n",
              "NEIGHBORHOOD          OTHER  OTHER  OTHER  OTHER  OTHER\n",
              "TAX_CLASS_AT_PRESENT      1      1      1      1      1\n",
              "BLOCK                  5495   7918   4210   5212   7930\n",
              "LOT                     801     72     19     69    121\n",
              "ZIP_CODE              11230  11427  10461  11226  11203\n",
              "RESIDENTIAL_UNITS         1      1      1      1      1\n",
              "COMMERCIAL_UNITS          0      0      0      0      0\n",
              "TOTAL_UNITS               1      1      1      1      1\n",
              "LAND_SQUARE_FEET       6800   4000   3500   4000   1710\n",
              "GROSS_SQUARE_FEET      1325   2001   2043   2680   1872\n",
              "YEAR_BUILT             1930   1940   1925   1899   1940"
            ]
          },
          "metadata": {
            "tags": []
          },
          "execution_count": 20
        }
      ]
    },
    {
      "cell_type": "markdown",
      "metadata": {
        "id": "0pk1VihO_fNe",
        "colab_type": "text"
      },
      "source": [
        "Use OneHotEncoder to encode any non-numeric features\n",
        "=======\n",
        "- use the `fit_transform` method on the **train** set\n",
        "- use the `transform` method on the **validation/test** sets"
      ]
    },
    {
      "cell_type": "code",
      "metadata": {
        "id": "WMqxwSRg0h3G",
        "colab_type": "code",
        "colab": {}
      },
      "source": [
        "# Estimator = anything with a .fit() method: includes models\n",
        "# Predictor = anything with a .predict() method: includes models\n",
        "# Transformer = anything with a .transform() method: includes transformers\n",
        "\n",
        "import category_encoders as ce \n",
        "encoder = ce.OneHotEncoder(use_cat_names=True)\n",
        "X_train = encoder.fit_transform(X_train)\n",
        "X_test = encoder.transform(X_test)"
      ],
      "execution_count": 0,
      "outputs": []
    },
    {
      "cell_type": "code",
      "metadata": {
        "id": "GhOTyLncAYRU",
        "colab_type": "code",
        "outputId": "837a1aaa-4d03-4ecf-b28c-9916f2f9253d",
        "colab": {
          "base_uri": "https://localhost:8080/",
          "height": 35
        }
      },
      "source": [
        "X_train.shape, X_test.shape\n",
        "# notice more columns. yay!"
      ],
      "execution_count": 0,
      "outputs": [
        {
          "output_type": "execute_result",
          "data": {
            "text/plain": [
              "((2515, 22), (646, 22))"
            ]
          },
          "metadata": {
            "tags": []
          },
          "execution_count": 22
        }
      ]
    },
    {
      "cell_type": "markdown",
      "metadata": {
        "id": "3gFf_AmSBckZ",
        "colab_type": "text"
      },
      "source": [
        "4. Do feature selection with `SelectKBest`.\n",
        "==========\n"
      ]
    },
    {
      "cell_type": "code",
      "metadata": {
        "id": "75M-1qXOAYPA",
        "colab_type": "code",
        "outputId": "a173f57a-3944-41af-b4ea-0c38fb6200f7",
        "colab": {
          "base_uri": "https://localhost:8080/",
          "height": 1000
        }
      },
      "source": [
        "from sklearn.linear_model import LinearRegression\n",
        "from sklearn.metrics import mean_absolute_error\n",
        "from sklearn.feature_selection import f_regression, SelectKBest\n",
        "\n",
        "training = []\n",
        "testing = []\n",
        "ks = range(1, len(X_train.columns)+1)\n",
        "for k in range(1, len(X_train.columns)+1):\n",
        "    print(f'{k} features')\n",
        "\n",
        "    selector = SelectKBest(score_func=f_regression, k=k)\n",
        "    X_train_selected = selector.fit_transform(X_train, y_train)\n",
        "    X_test_selected = selector.transform(X_test)\n",
        "\n",
        "    model = LinearRegression()\n",
        "    model.fit(X_train_selected, y_train)\n",
        "\n",
        "    y_pred = model.predict(X_train_selected)\n",
        "    mae = mean_absolute_error(y_train, y_pred)\n",
        "    training.append(mae)\n",
        "\n",
        "    y_pred = model.predict(X_test_selected)\n",
        "    mae = mean_absolute_error(y_test, y_pred)\n",
        "    testing.append(mae)\n",
        "    print(f\"Test Mean Absolute Error: ${mae:,.0f} \\n\")\n",
        "\n",
        "plt.plot(ks, training, label='Training Score', color='b')\n",
        "plt.plot(ks, testing, label='Testing Score', color= 'g')\n",
        "plt.ylabel(\"Mean Absolute Error ($)\")\n",
        "plt.xlabel(\"Number of Features\")\n",
        "plt.title('Validation Curve')\n",
        "plt.legend()\n",
        "#plt. axvline(4, color='gray')\n",
        "plt.show();\n"
      ],
      "execution_count": 0,
      "outputs": [
        {
          "output_type": "stream",
          "text": [
            "1 features\n",
            "Test Mean Absolute Error: $184,082 \n",
            "\n",
            "2 features\n",
            "Test Mean Absolute Error: $180,034 \n",
            "\n",
            "3 features\n",
            "Test Mean Absolute Error: $171,462 \n",
            "\n",
            "4 features\n",
            "Test Mean Absolute Error: $170,788 \n",
            "\n",
            "5 features\n",
            "Test Mean Absolute Error: $168,858 \n",
            "\n",
            "6 features\n",
            "Test Mean Absolute Error: $168,953 \n",
            "\n",
            "7 features\n",
            "Test Mean Absolute Error: $168,652 \n",
            "\n",
            "8 features\n",
            "Test Mean Absolute Error: $165,760 \n",
            "\n",
            "9 features\n",
            "Test Mean Absolute Error: $165,262 \n",
            "\n",
            "10 features\n",
            "Test Mean Absolute Error: $166,022 \n",
            "\n",
            "11 features\n",
            "Test Mean Absolute Error: $156,387 \n",
            "\n",
            "12 features\n",
            "Test Mean Absolute Error: $158,166 \n",
            "\n",
            "13 features\n",
            "Test Mean Absolute Error: $156,000 \n",
            "\n",
            "14 features\n",
            "Test Mean Absolute Error: $156,029 \n",
            "\n",
            "15 features\n",
            "Test Mean Absolute Error: $155,616 \n",
            "\n",
            "16 features\n",
            "Test Mean Absolute Error: $155,781 \n",
            "\n",
            "17 features\n",
            "Test Mean Absolute Error: $155,675 \n",
            "\n",
            "18 features\n",
            "Test Mean Absolute Error: $156,602 \n",
            "\n",
            "19 features\n",
            "Test Mean Absolute Error: $156,605 \n",
            "\n",
            "20 features\n",
            "Test Mean Absolute Error: $156,709 \n",
            "\n",
            "21 features\n",
            "Test Mean Absolute Error: $156,709 \n",
            "\n",
            "22 features\n",
            "Test Mean Absolute Error: $156,709 \n",
            "\n"
          ],
          "name": "stdout"
        },
        {
          "output_type": "display_data",
          "data": {
            "image/png": "[encoded data removed]",
            "text/plain": [
              "<Figure size 432x288 with 1 Axes>"
            ]
          },
          "metadata": {
            "tags": [],
            "needs_background": "light"
          }
        }
      ]
    },
    {
      "cell_type": "code",
      "metadata": {
        "id": "HGL78qbvAXjZ",
        "colab_type": "code",
        "outputId": "23d73729-2623-42db-8a7a-43aec8b03e0e",
        "colab": {
          "base_uri": "https://localhost:8080/",
          "height": 54
        }
      },
      "source": [
        "# 15 features\n",
        "# Test Mean Absolute Error: $155,616\n",
        "k = 15\n",
        "selector = SelectKBest(score_func=f_regression,k=k)\n",
        "X_train_selected = selector.fit_transform(X_train, y_train)\n",
        "X_test_selected = selector.transform(X_test)\n",
        "\n",
        "model = LinearRegression()\n",
        "model.fit(X_train_selected, y_train)\n",
        "\n",
        "y_pred = model.predict(X_test_selected)\n",
        "mae1 = mean_absolute_error(y_test, y_pred)\n",
        "  \n",
        "print(f\"Linear Regression - Test Mean Absolute Error: ${mae1:,.0f} \\n\")"
      ],
      "execution_count": 0,
      "outputs": [
        {
          "output_type": "stream",
          "text": [
            "Linear Regression - Test Mean Absolute Error: $155,616 \n",
            "\n"
          ],
          "name": "stdout"
        }
      ]
    },
    {
      "cell_type": "code",
      "metadata": {
        "id": "6eDXGmfkkhlD",
        "colab_type": "code",
        "outputId": "fd8f6087-9e08-41ac-d8f2-3d57e7811f04",
        "colab": {
          "base_uri": "https://localhost:8080/",
          "height": 472
        }
      },
      "source": [
        "# TODO: Which features were selected?\n",
        "\n",
        "selected_mask = selector.get_support() # this method lets us know which columns were selected\n",
        "all_names = X_train.columns\n",
        "selected_names = all_names[selected_mask]\n",
        "unselected_names = all_names[~selected_mask]\n",
        "\n",
        "print('Features selected:')\n",
        "for name in selected_names:\n",
        "    print(name)\n",
        "\n",
        "print('\\nFeatures excluded:')\n",
        "for name in unselected_names:\n",
        "    print(name)   "
      ],
      "execution_count": 0,
      "outputs": [
        {
          "output_type": "stream",
          "text": [
            "Features selected:\n",
            "BOROUGH_3\n",
            "BOROUGH_4\n",
            "BOROUGH_2\n",
            "BOROUGH_5\n",
            "NEIGHBORHOOD_OTHER\n",
            "NEIGHBORHOOD_FLUSHING-NORTH\n",
            "NEIGHBORHOOD_FOREST HILLS\n",
            "NEIGHBORHOOD_BOROUGH PARK\n",
            "TAX_CLASS_AT_PRESENT_1D\n",
            "BLOCK\n",
            "ZIP_CODE\n",
            "COMMERCIAL_UNITS\n",
            "TOTAL_UNITS\n",
            "LAND_SQUARE_FEET\n",
            "GROSS_SQUARE_FEET\n",
            "\n",
            "Features excluded:\n",
            "BOROUGH_1\n",
            "NEIGHBORHOOD_BEDFORD STUYVESANT\n",
            "NEIGHBORHOOD_ASTORIA\n",
            "TAX_CLASS_AT_PRESENT_1\n",
            "LOT\n",
            "RESIDENTIAL_UNITS\n",
            "YEAR_BUILT\n"
          ],
          "name": "stdout"
        }
      ]
    },
    {
      "cell_type": "markdown",
      "metadata": {
        "id": "8GymnuUU23oT",
        "colab_type": "text"
      },
      "source": [
        "\n",
        "Fit a ridge regression model w. multi features. & Get mean absolute error for the test set.\n",
        "==============\n",
        "\n",
        " Use the `normalize=True` parameter (or do [feature scaling](https://scikit-learn.org/stable/modules/preprocessing.html) beforehand — use the scaler's `fit_transform` method with the train set, and the scaler's `transform` method with the test set)"
      ]
    },
    {
      "cell_type": "code",
      "metadata": {
        "id": "QlxMEQvhkhN-",
        "colab_type": "code",
        "outputId": "4e5aae29-56dc-4b87-99c1-f636b3871a25",
        "colab": {
          "base_uri": "https://localhost:8080/",
          "height": 1000
        }
      },
      "source": [
        "from IPython.display import display, HTML\n",
        "from sklearn.linear_model import Ridge\n",
        "\n",
        "for alpha in [0.000001, 0.00001, 0.0001, 0.001, 0.01, 0.1, 1.0, 1]:\n",
        "    \n",
        "    # Fit Ridge Regression model\n",
        "    display(HTML(f'Ridge Regression, with alpha={alpha}'))\n",
        "    model = Ridge(alpha=alpha, normalize=True)\n",
        "    model.fit(X_train, y_train)\n",
        "    y_pred = model.predict(X_test)\n",
        "\n",
        "    # Get Test MAE\n",
        "    mae = mean_absolute_error(y_test, y_pred)\n",
        "    display(HTML(f'Test Mean Absolute Error: ${mae:,.0f}'))\n",
        "    \n",
        "    # Plot coefficients\n",
        "    coefficients = pd.Series(model.coef_, X_train.columns)\n",
        "    plt.figure(figsize=(16,8))\n",
        "    coefficients.sort_values().plot.barh(color='grey')\n",
        "    plt.xlim(-400,700)\n",
        "    plt.show()"
      ],
      "execution_count": 0,
      "outputs": [
        {
          "output_type": "display_data",
          "data": {
            "text/html": [
              "Ridge Regression, with alpha=1e-06"
            ],
            "text/plain": [
              "<IPython.core.display.HTML object>"
            ]
          },
          "metadata": {
            "tags": []
          }
        },
        {
          "output_type": "display_data",
          "data": {
            "text/html": [
              "Test Mean Absolute Error: $156,695"
            ],
            "text/plain": [
              "<IPython.core.display.HTML object>"
            ]
          },
          "metadata": {
            "tags": []
          }
        },
        {
          "output_type": "display_data",
          "data": {
            "image/png": "[encoded data removed]",
            "text/plain": [
              "<Figure size 1152x576 with 1 Axes>"
            ]
          },
          "metadata": {
            "tags": [],
            "needs_background": "light"
          }
        },
        {
          "output_type": "display_data",
          "data": {
            "text/html": [
              "Ridge Regression, with alpha=1e-05"
            ],
            "text/plain": [
              "<IPython.core.display.HTML object>"
            ]
          },
          "metadata": {
            "tags": []
          }
        },
        {
          "output_type": "display_data",
          "data": {
            "text/html": [
              "Test Mean Absolute Error: $156,695"
            ],
            "text/plain": [
              "<IPython.core.display.HTML object>"
            ]
          },
          "metadata": {
            "tags": []
          }
        },
        {
          "output_type": "display_data",
          "data": {
            "image/png": "[encoded data removed]",
            "text/plain": [
              "<Figure size 1152x576 with 1 Axes>"
            ]
          },
          "metadata": {
            "tags": [],
            "needs_background": "light"
          }
        },
        {
          "output_type": "display_data",
          "data": {
            "text/html": [
              "Ridge Regression, with alpha=0.0001"
            ],
            "text/plain": [
              "<IPython.core.display.HTML object>"
            ]
          },
          "metadata": {
            "tags": []
          }
        },
        {
          "output_type": "display_data",
          "data": {
            "text/html": [
              "Test Mean Absolute Error: $156,688"
            ],
            "text/plain": [
              "<IPython.core.display.HTML object>"
            ]
          },
          "metadata": {
            "tags": []
          }
        },
        {
          "output_type": "display_data",
          "data": {
            "image/png": "[encoded data removed]",
            "text/plain": [
              "<Figure size 1152x576 with 1 Axes>"
            ]
          },
          "metadata": {
            "tags": [],
            "needs_background": "light"
          }
        },
        {
          "output_type": "display_data",
          "data": {
            "text/html": [
              "Ridge Regression, with alpha=0.001"
            ],
            "text/plain": [
              "<IPython.core.display.HTML object>"
            ]
          },
          "metadata": {
            "tags": []
          }
        },
        {
          "output_type": "display_data",
          "data": {
            "text/html": [
              "Test Mean Absolute Error: $156,632"
            ],
            "text/plain": [
              "<IPython.core.display.HTML object>"
            ]
          },
          "metadata": {
            "tags": []
          }
        },
        {
          "output_type": "display_data",
          "data": {
            "image/png": "[encoded data removed]",
            "text/plain": [
              "<Figure size 1152x576 with 1 Axes>"
            ]
          },
          "metadata": {
            "tags": [],
            "needs_background": "light"
          }
        },
        {
          "output_type": "display_data",
          "data": {
            "text/html": [
              "Ridge Regression, with alpha=0.01"
            ],
            "text/plain": [
              "<IPython.core.display.HTML object>"
            ]
          },
          "metadata": {
            "tags": []
          }
        },
        {
          "output_type": "display_data",
          "data": {
            "text/html": [
              "Test Mean Absolute Error: $156,418"
            ],
            "text/plain": [
              "<IPython.core.display.HTML object>"
            ]
          },
          "metadata": {
            "tags": []
          }
        },
        {
          "output_type": "display_data",
          "data": {
            "image/png": "[encoded data removed]",
            "text/plain": [
              "<Figure size 1152x576 with 1 Axes>"
            ]
          },
          "metadata": {
            "tags": [],
            "needs_background": "light"
          }
        },
        {
          "output_type": "display_data",
          "data": {
            "text/html": [
              "Ridge Regression, with alpha=0.1"
            ],
            "text/plain": [
              "<IPython.core.display.HTML object>"
            ]
          },
          "metadata": {
            "tags": []
          }
        },
        {
          "output_type": "display_data",
          "data": {
            "text/html": [
              "Test Mean Absolute Error: $156,513"
            ],
            "text/plain": [
              "<IPython.core.display.HTML object>"
            ]
          },
          "metadata": {
            "tags": []
          }
        },
        {
          "output_type": "display_data",
          "data": {
            "image/png": "[encoded data removed]",
            "text/plain": [
              "<Figure size 1152x576 with 1 Axes>"
            ]
          },
          "metadata": {
            "tags": [],
            "needs_background": "light"
          }
        },
        {
          "output_type": "display_data",
          "data": {
            "text/html": [
              "Ridge Regression, with alpha=1.0"
            ],
            "text/plain": [
              "<IPython.core.display.HTML object>"
            ]
          },
          "metadata": {
            "tags": []
          }
        },
        {
          "output_type": "display_data",
          "data": {
            "text/html": [
              "Test Mean Absolute Error: $169,035"
            ],
            "text/plain": [
              "<IPython.core.display.HTML object>"
            ]
          },
          "metadata": {
            "tags": []
          }
        },
        {
          "output_type": "display_data",
          "data": {
            "image/png": "[encoded data removed]",
            "text/plain": [
              "<Figure size 1152x576 with 1 Axes>"
            ]
          },
          "metadata": {
            "tags": [],
            "needs_background": "light"
          }
        },
        {
          "output_type": "display_data",
          "data": {
            "text/html": [
              "Ridge Regression, with alpha=1"
            ],
            "text/plain": [
              "<IPython.core.display.HTML object>"
            ]
          },
          "metadata": {
            "tags": []
          }
        },
        {
          "output_type": "display_data",
          "data": {
            "text/html": [
              "Test Mean Absolute Error: $169,035"
            ],
            "text/plain": [
              "<IPython.core.display.HTML object>"
            ]
          },
          "metadata": {
            "tags": []
          }
        },
        {
          "output_type": "display_data",
          "data": {
            "image/png": "[encoded data removed]",
            "text/plain": [
              "<Figure size 1152x576 with 1 Axes>"
            ]
          },
          "metadata": {
            "tags": [],
            "needs_background": "light"
          }
        }
      ]
    },
    {
      "cell_type": "code",
      "metadata": {
        "id": "cEc88Fhw6SxW",
        "colab_type": "code",
        "outputId": "d9a399e6-e1a8-4726-b3e1-d9d6a6735da1",
        "colab": {
          "base_uri": "https://localhost:8080/",
          "height": 517
        }
      },
      "source": [
        "# Ridge Regression, with alpha=1e-06\n",
        "# Test Mean Absolute Error: $156,695\n",
        "\n",
        "alpha = 0.000001\n",
        "# Fit Ridge Regression model\n",
        "display(HTML(f'Ridge Regression, with alpha={alpha}'))\n",
        "model = Ridge(alpha=alpha, normalize=True)\n",
        "model.fit(X_train, y_train)\n",
        "y_pred = model.predict(X_test)\n",
        "\n",
        "# Get Test MAE\n",
        "mae2 = mean_absolute_error(y_test, y_pred)\n",
        "display(HTML(f'Ridge Regression - Test Mean Absolute Error: ${mae2:,.0f}'))\n",
        "    \n",
        "# Plot coefficients\n",
        "coefficients = pd.Series(model.coef_, X_train.columns)\n",
        "plt.figure(figsize=(16,8))\n",
        "coefficients.sort_values().plot.barh(color='grey')\n",
        "plt.xlim(-400,700)\n",
        "plt.show()"
      ],
      "execution_count": 0,
      "outputs": [
        {
          "output_type": "display_data",
          "data": {
            "text/html": [
              "Ridge Regression, with alpha=1e-06"
            ],
            "text/plain": [
              "<IPython.core.display.HTML object>"
            ]
          },
          "metadata": {
            "tags": []
          }
        },
        {
          "output_type": "display_data",
          "data": {
            "text/html": [
              "Ridge Regression - Test Mean Absolute Error: $156,695"
            ],
            "text/plain": [
              "<IPython.core.display.HTML object>"
            ]
          },
          "metadata": {
            "tags": []
          }
        },
        {
          "output_type": "display_data",
          "data": {
            "image/png": "[encoded data removed]",
            "text/plain": [
              "<Figure size 1152x576 with 1 Axes>"
            ]
          },
          "metadata": {
            "tags": [],
            "needs_background": "light"
          }
        }
      ]
    },
    {
      "cell_type": "code",
      "metadata": {
        "id": "b5-hN_fNoiBl",
        "colab_type": "code",
        "colab": {}
      },
      "source": [
        ""
      ],
      "execution_count": 0,
      "outputs": []
    }
  ]
}