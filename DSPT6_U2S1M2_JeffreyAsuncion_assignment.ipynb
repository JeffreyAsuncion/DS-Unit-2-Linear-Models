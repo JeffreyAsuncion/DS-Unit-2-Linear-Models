{
  "nbformat": 4,
  "nbformat_minor": 0,
  "metadata": {
    "kernelspec": {
      "display_name": "Python 3",
      "language": "python",
      "name": "python3"
    },
    "language_info": {
      "codemirror_mode": {
        "name": "ipython",
        "version": 3
      },
      "file_extension": ".py",
      "mimetype": "text/x-python",
      "name": "python",
      "nbconvert_exporter": "python",
      "pygments_lexer": "ipython3",
      "version": "3.7.3"
    },
    "colab": {
      "name": "DSPT6_U2S1M2_JeffreyAsuncion_assignment.ipynb",
      "provenance": [],
      "collapsed_sections": [],
      "include_colab_link": true
    }
  },
  "cells": [
    {
      "cell_type": "markdown",
      "metadata": {
        "id": "view-in-github",
        "colab_type": "text"
      },
      "source": [
        "<a href=\"https://colab.research.google.com/github/JeffreyAsuncion/DS-Unit-2-Linear-Models/blob/master/DSPT6_U2S1M2_JeffreyAsuncion_assignment.ipynb\" target=\"_parent\"><img src=\"https://colab.research.google.com/assets/colab-badge.svg\" alt=\"Open In Colab\"/></a>"
      ]
    },
    {
      "cell_type": "markdown",
      "metadata": {
        "id": "X2ZGQqwRoxI6",
        "colab_type": "text"
      },
      "source": [
        "Lambda School Data Science\n",
        "\n",
        "*Unit 2, Sprint 1, Module 2*\n",
        "\n",
        "---"
      ]
    },
    {
      "cell_type": "markdown",
      "metadata": {
        "colab_type": "text",
        "id": "7IXUfiQ2UKj6"
      },
      "source": [
        "# Regression 2\n",
        "\n",
        "## Assignment\n",
        "\n",
        "You'll continue to **predict how much it costs to rent an apartment in NYC,** using the dataset from renthop.com.\n",
        "\n",
        "- [x] Do train/test split. Use data from April & May 2016 to train. Use data from June 2016 to test.\n",
        "- [x] Engineer at least two new features. (See below for explanation & ideas.)\n",
        "- [x] Fit a linear regression model with at least two features.\n",
        "- [x] Get the model's coefficients and intercept.\n",
        "- [x] Get regression metrics RMSE, MAE, and $R^2$, for both the train and test data.\n",
        "- [ ] What's the best test MAE you can get? Share your score and features used with your cohort on Slack!\n",
        "- [ ] As always, commit your notebook to your fork of the GitHub repo.\n",
        "\n",
        "\n",
        "#### [Feature Engineering](https://en.wikipedia.org/wiki/Feature_engineering)\n",
        "\n",
        "> \"Some machine learning projects succeed and some fail. What makes the difference? Easily the most important factor is the features used.\" — Pedro Domingos, [\"A Few Useful Things to Know about Machine Learning\"](https://homes.cs.washington.edu/~pedrod/papers/cacm12.pdf)\n",
        "\n",
        "> \"Coming up with features is difficult, time-consuming, requires expert knowledge. 'Applied machine learning' is basically feature engineering.\" — Andrew Ng, [Machine Learning and AI via Brain simulations](https://forum.stanford.edu/events/2011/2011slides/plenary/2011plenaryNg.pdf) \n",
        "\n",
        "> Feature engineering is the process of using domain knowledge of the data to create features that make machine learning algorithms work. \n",
        "\n",
        "#### Feature Ideas\n",
        "- Does the apartment have a description?\n",
        "- How long is the description?\n",
        "- How many total perks does each apartment have?\n",
        "- Are cats _or_ dogs allowed?\n",
        "- Are cats _and_ dogs allowed?\n",
        "- Total number of rooms (beds + baths)\n",
        "- Ratio of beds to baths\n",
        "- What's the neighborhood, based on address or latitude & longitude?\n",
        "\n",
        "## Stretch Goals\n",
        "- [ ] If you want more math, skim [_An Introduction to Statistical Learning_](http://faculty.marshall.usc.edu/gareth-james/ISL/ISLR%20Seventh%20Printing.pdf),  Chapter 3.1, Simple Linear Regression, & Chapter 3.2, Multiple Linear Regression\n",
        "- [ ] If you want more introduction, watch [Brandon Foltz, Statistics 101: Simple Linear Regression](https://www.youtube.com/watch?v=ZkjP5RJLQF4)\n",
        "(20 minutes, over 1 million views)\n",
        "- [ ] Add your own stretch goal(s) !"
      ]
    },
    {
      "cell_type": "code",
      "metadata": {
        "colab_type": "code",
        "id": "o9eSnDYhUGD7",
        "colab": {}
      },
      "source": [
        "%%capture\n",
        "import sys\n",
        "\n",
        "# If you're on Colab:\n",
        "if 'google.colab' in sys.modules:\n",
        "    DATA_PATH = 'https://raw.githubusercontent.com/LambdaSchool/DS-Unit-2-Applied-Modeling/master/data/'\n",
        "    !pip install category_encoders==2.*\n",
        "\n",
        "# If you're working locally:\n",
        "else:\n",
        "    DATA_PATH = '../data/'\n",
        "    \n",
        "# Ignore this Numpy warning when using Plotly Express:\n",
        "# FutureWarning: Method .ptp is deprecated and will be removed in a future version. Use numpy.ptp instead.\n",
        "import warnings\n",
        "warnings.filterwarnings(action='ignore', category=FutureWarning, module='numpy')"
      ],
      "execution_count": 0,
      "outputs": []
    },
    {
      "cell_type": "code",
      "metadata": {
        "colab_type": "code",
        "id": "cvrw-T3bZOuW",
        "colab": {}
      },
      "source": [
        "import numpy as np\n",
        "import pandas as pd\n",
        "\n",
        "# Read New York City apartment rental listing data\n",
        "df = pd.read_csv(DATA_PATH+'apartments/renthop-nyc.csv')\n",
        "assert df.shape == (49352, 34)\n",
        "\n",
        "# Remove the most extreme 1% prices,\n",
        "# the most extreme .1% latitudes, &\n",
        "# the most extreme .1% longitudes\n",
        "df = df[(df['price'] >= np.percentile(df['price'], 0.5)) & \n",
        "        (df['price'] <= np.percentile(df['price'], 99.5)) & \n",
        "        (df['latitude'] >= np.percentile(df['latitude'], 0.05)) & \n",
        "        (df['latitude'] < np.percentile(df['latitude'], 99.95)) &\n",
        "        (df['longitude'] >= np.percentile(df['longitude'], 0.05)) & \n",
        "        (df['longitude'] <= np.percentile(df['longitude'], 99.95))]"
      ],
      "execution_count": 0,
      "outputs": []
    },
    {
      "cell_type": "code",
      "metadata": {
        "id": "OKYGKuKPgjL7",
        "colab_type": "code",
        "outputId": "7464148f-2db9-42b2-c97d-8231ffc659c2",
        "colab": {
          "base_uri": "https://localhost:8080/",
          "height": 35
        }
      },
      "source": [
        "df.shape"
      ],
      "execution_count": 0,
      "outputs": [
        {
          "output_type": "execute_result",
          "data": {
            "text/plain": [
              "(48817, 34)"
            ]
          },
          "metadata": {
            "tags": []
          },
          "execution_count": 42
        }
      ]
    },
    {
      "cell_type": "code",
      "metadata": {
        "id": "_I0ewQDHgnHx",
        "colab_type": "code",
        "outputId": "2e5bc1be-031e-48f1-a469-c3744a57da34",
        "colab": {
          "base_uri": "https://localhost:8080/",
          "height": 181
        }
      },
      "source": [
        "df.columns"
      ],
      "execution_count": 0,
      "outputs": [
        {
          "output_type": "execute_result",
          "data": {
            "text/plain": [
              "Index(['bathrooms', 'bedrooms', 'created', 'description', 'display_address',\n",
              "       'latitude', 'longitude', 'price', 'street_address', 'interest_level',\n",
              "       'elevator', 'cats_allowed', 'hardwood_floors', 'dogs_allowed',\n",
              "       'doorman', 'dishwasher', 'no_fee', 'laundry_in_building',\n",
              "       'fitness_center', 'pre-war', 'laundry_in_unit', 'roof_deck',\n",
              "       'outdoor_space', 'dining_room', 'high_speed_internet', 'balcony',\n",
              "       'swimming_pool', 'new_construction', 'terrace', 'exclusive', 'loft',\n",
              "       'garden_patio', 'wheelchair_access', 'common_outdoor_space'],\n",
              "      dtype='object')"
            ]
          },
          "metadata": {
            "tags": []
          },
          "execution_count": 43
        }
      ]
    },
    {
      "cell_type": "code",
      "metadata": {
        "id": "N4xrhp1tzeSZ",
        "colab_type": "code",
        "outputId": "a24ea406-8534-42b5-e1f4-1c5a47521669",
        "colab": {
          "base_uri": "https://localhost:8080/",
          "height": 249
        }
      },
      "source": [
        "df.head(2)"
      ],
      "execution_count": 0,
      "outputs": [
        {
          "output_type": "execute_result",
          "data": {
            "text/html": [
              "<div>\n",
              "<style scoped>\n",
              "    .dataframe tbody tr th:only-of-type {\n",
              "        vertical-align: middle;\n",
              "    }\n",
              "\n",
              "    .dataframe tbody tr th {\n",
              "        vertical-align: top;\n",
              "    }\n",
              "\n",
              "    .dataframe thead th {\n",
              "        text-align: right;\n",
              "    }\n",
              "</style>\n",
              "<table border=\"1\" class=\"dataframe\">\n",
              "  <thead>\n",
              "    <tr style=\"text-align: right;\">\n",
              "      <th></th>\n",
              "      <th>bathrooms</th>\n",
              "      <th>bedrooms</th>\n",
              "      <th>created</th>\n",
              "      <th>description</th>\n",
              "      <th>display_address</th>\n",
              "      <th>latitude</th>\n",
              "      <th>longitude</th>\n",
              "      <th>price</th>\n",
              "      <th>street_address</th>\n",
              "      <th>interest_level</th>\n",
              "      <th>elevator</th>\n",
              "      <th>cats_allowed</th>\n",
              "      <th>hardwood_floors</th>\n",
              "      <th>dogs_allowed</th>\n",
              "      <th>doorman</th>\n",
              "      <th>dishwasher</th>\n",
              "      <th>no_fee</th>\n",
              "      <th>laundry_in_building</th>\n",
              "      <th>fitness_center</th>\n",
              "      <th>pre-war</th>\n",
              "      <th>laundry_in_unit</th>\n",
              "      <th>roof_deck</th>\n",
              "      <th>outdoor_space</th>\n",
              "      <th>dining_room</th>\n",
              "      <th>high_speed_internet</th>\n",
              "      <th>balcony</th>\n",
              "      <th>swimming_pool</th>\n",
              "      <th>new_construction</th>\n",
              "      <th>terrace</th>\n",
              "      <th>exclusive</th>\n",
              "      <th>loft</th>\n",
              "      <th>garden_patio</th>\n",
              "      <th>wheelchair_access</th>\n",
              "      <th>common_outdoor_space</th>\n",
              "    </tr>\n",
              "  </thead>\n",
              "  <tbody>\n",
              "    <tr>\n",
              "      <th>0</th>\n",
              "      <td>1.5</td>\n",
              "      <td>3</td>\n",
              "      <td>2016-06-24 07:54:24</td>\n",
              "      <td>A Brand New 3 Bedroom 1.5 bath ApartmentEnjoy ...</td>\n",
              "      <td>Metropolitan Avenue</td>\n",
              "      <td>40.7145</td>\n",
              "      <td>-73.9425</td>\n",
              "      <td>3000</td>\n",
              "      <td>792 Metropolitan Avenue</td>\n",
              "      <td>medium</td>\n",
              "      <td>0</td>\n",
              "      <td>0</td>\n",
              "      <td>0</td>\n",
              "      <td>0</td>\n",
              "      <td>0</td>\n",
              "      <td>0</td>\n",
              "      <td>0</td>\n",
              "      <td>0</td>\n",
              "      <td>0</td>\n",
              "      <td>0</td>\n",
              "      <td>0</td>\n",
              "      <td>0</td>\n",
              "      <td>0</td>\n",
              "      <td>0</td>\n",
              "      <td>0</td>\n",
              "      <td>0</td>\n",
              "      <td>0</td>\n",
              "      <td>0</td>\n",
              "      <td>0</td>\n",
              "      <td>0</td>\n",
              "      <td>0</td>\n",
              "      <td>0</td>\n",
              "      <td>0</td>\n",
              "      <td>0</td>\n",
              "    </tr>\n",
              "    <tr>\n",
              "      <th>1</th>\n",
              "      <td>1.0</td>\n",
              "      <td>2</td>\n",
              "      <td>2016-06-12 12:19:27</td>\n",
              "      <td></td>\n",
              "      <td>Columbus Avenue</td>\n",
              "      <td>40.7947</td>\n",
              "      <td>-73.9667</td>\n",
              "      <td>5465</td>\n",
              "      <td>808 Columbus Avenue</td>\n",
              "      <td>low</td>\n",
              "      <td>1</td>\n",
              "      <td>1</td>\n",
              "      <td>0</td>\n",
              "      <td>1</td>\n",
              "      <td>1</td>\n",
              "      <td>0</td>\n",
              "      <td>0</td>\n",
              "      <td>0</td>\n",
              "      <td>1</td>\n",
              "      <td>0</td>\n",
              "      <td>0</td>\n",
              "      <td>0</td>\n",
              "      <td>0</td>\n",
              "      <td>0</td>\n",
              "      <td>0</td>\n",
              "      <td>0</td>\n",
              "      <td>0</td>\n",
              "      <td>0</td>\n",
              "      <td>0</td>\n",
              "      <td>0</td>\n",
              "      <td>0</td>\n",
              "      <td>0</td>\n",
              "      <td>0</td>\n",
              "      <td>0</td>\n",
              "    </tr>\n",
              "  </tbody>\n",
              "</table>\n",
              "</div>"
            ],
            "text/plain": [
              "   bathrooms  bedrooms  ... wheelchair_access common_outdoor_space\n",
              "0        1.5         3  ...                 0                    0\n",
              "1        1.0         2  ...                 0                    0\n",
              "\n",
              "[2 rows x 34 columns]"
            ]
          },
          "metadata": {
            "tags": []
          },
          "execution_count": 44
        }
      ]
    },
    {
      "cell_type": "code",
      "metadata": {
        "id": "8lbKPb3bgpjW",
        "colab_type": "code",
        "outputId": "e1cfe65f-d233-4240-f7ba-f9f292d97cea",
        "colab": {
          "base_uri": "https://localhost:8080/",
          "height": 108
        }
      },
      "source": [
        "# date df['created']\n",
        "df['created'].describe()"
      ],
      "execution_count": 0,
      "outputs": [
        {
          "output_type": "execute_result",
          "data": {
            "text/plain": [
              "count                   48817\n",
              "unique                  48148\n",
              "top       2016-06-05 01:32:36\n",
              "freq                        3\n",
              "Name: created, dtype: object"
            ]
          },
          "metadata": {
            "tags": []
          },
          "execution_count": 45
        }
      ]
    },
    {
      "cell_type": "markdown",
      "metadata": {
        "id": "vUbWKTe3ppwn",
        "colab_type": "text"
      },
      "source": [
        "Split the data into two sets\n",
        "====================\n",
        "\n",
        "- Train data from April & May 2016 \n",
        "- Test data from June 2016 "
      ]
    },
    {
      "cell_type": "code",
      "metadata": {
        "id": "yiBcZyoblcez",
        "colab_type": "code",
        "outputId": "34eb153a-fc05-4071-8a18-dcd2a0d37263",
        "colab": {
          "base_uri": "https://localhost:8080/",
          "height": 35
        }
      },
      "source": [
        "# Split the data into two sets\n",
        "\n",
        "train = df[df['created'] < '2016-06-01']\n",
        "test = df[df['created'] >= '2016-06-01']\n",
        "train.shape, test.shape"
      ],
      "execution_count": 0,
      "outputs": [
        {
          "output_type": "execute_result",
          "data": {
            "text/plain": [
              "((31844, 34), (16973, 34))"
            ]
          },
          "metadata": {
            "tags": []
          },
          "execution_count": 46
        }
      ]
    },
    {
      "cell_type": "markdown",
      "metadata": {
        "id": "6a9h5d3uuMKU",
        "colab_type": "text"
      },
      "source": [
        " Create 2 New Features \n",
        "==========\n",
        "\n",
        "- Does the apartment have a description?\n",
        "- How long is the description?\n",
        "- How many total perks does each apartment have?\n",
        "- Are cats _or_ dogs allowed?\n",
        "- Are cats _and_ dogs allowed?\n",
        "- Total number of rooms (beds + baths)\n",
        "- Ratio of beds to baths\n",
        "- What's the neighborhood, based on address or latitude & longitude?"
      ]
    },
    {
      "cell_type": "code",
      "metadata": {
        "id": "mZEXyqVL-b6Z",
        "colab_type": "code",
        "colab": {}
      },
      "source": [
        "# to Avoid SettingWithCopyWarning\n",
        "train = train.copy()\n",
        "test = test.copy()"
      ],
      "execution_count": 0,
      "outputs": []
    },
    {
      "cell_type": "code",
      "metadata": {
        "id": "MMNI3PzlxYsu",
        "colab_type": "code",
        "outputId": "7749e966-8e89-473c-f65a-99c37058e6a2",
        "colab": {
          "base_uri": "https://localhost:8080/",
          "height": 181
        }
      },
      "source": [
        "train.columns"
      ],
      "execution_count": 0,
      "outputs": [
        {
          "output_type": "execute_result",
          "data": {
            "text/plain": [
              "Index(['bathrooms', 'bedrooms', 'created', 'description', 'display_address',\n",
              "       'latitude', 'longitude', 'price', 'street_address', 'interest_level',\n",
              "       'elevator', 'cats_allowed', 'hardwood_floors', 'dogs_allowed',\n",
              "       'doorman', 'dishwasher', 'no_fee', 'laundry_in_building',\n",
              "       'fitness_center', 'pre-war', 'laundry_in_unit', 'roof_deck',\n",
              "       'outdoor_space', 'dining_room', 'high_speed_internet', 'balcony',\n",
              "       'swimming_pool', 'new_construction', 'terrace', 'exclusive', 'loft',\n",
              "       'garden_patio', 'wheelchair_access', 'common_outdoor_space'],\n",
              "      dtype='object')"
            ]
          },
          "metadata": {
            "tags": []
          },
          "execution_count": 48
        }
      ]
    },
    {
      "cell_type": "markdown",
      "metadata": {
        "id": "Qml3R23VzUba",
        "colab_type": "text"
      },
      "source": [
        "Total number of rooms (beds + baths)"
      ]
    },
    {
      "cell_type": "code",
      "metadata": {
        "id": "vh9YNqMhqdiA",
        "colab_type": "code",
        "colab": {}
      },
      "source": [
        "# Total number of rooms (beds + baths)\n",
        "train['total_num_of_rooms'] = train['bedrooms'] + train['bathrooms']\n",
        "test['total_num_of_rooms'] = test['bedrooms'] + test['bathrooms']"
      ],
      "execution_count": 0,
      "outputs": []
    },
    {
      "cell_type": "code",
      "metadata": {
        "id": "q8BKYG8KtYfb",
        "colab_type": "code",
        "outputId": "554e8b89-2600-4c40-cabf-4459c6263019",
        "colab": {
          "base_uri": "https://localhost:8080/",
          "height": 108
        }
      },
      "source": [
        "train[['total_num_of_rooms', 'bedrooms', 'bathrooms']].head(2)"
      ],
      "execution_count": 0,
      "outputs": [
        {
          "output_type": "execute_result",
          "data": {
            "text/html": [
              "<div>\n",
              "<style scoped>\n",
              "    .dataframe tbody tr th:only-of-type {\n",
              "        vertical-align: middle;\n",
              "    }\n",
              "\n",
              "    .dataframe tbody tr th {\n",
              "        vertical-align: top;\n",
              "    }\n",
              "\n",
              "    .dataframe thead th {\n",
              "        text-align: right;\n",
              "    }\n",
              "</style>\n",
              "<table border=\"1\" class=\"dataframe\">\n",
              "  <thead>\n",
              "    <tr style=\"text-align: right;\">\n",
              "      <th></th>\n",
              "      <th>total_num_of_rooms</th>\n",
              "      <th>bedrooms</th>\n",
              "      <th>bathrooms</th>\n",
              "    </tr>\n",
              "  </thead>\n",
              "  <tbody>\n",
              "    <tr>\n",
              "      <th>2</th>\n",
              "      <td>2.0</td>\n",
              "      <td>1</td>\n",
              "      <td>1.0</td>\n",
              "    </tr>\n",
              "    <tr>\n",
              "      <th>3</th>\n",
              "      <td>2.0</td>\n",
              "      <td>1</td>\n",
              "      <td>1.0</td>\n",
              "    </tr>\n",
              "  </tbody>\n",
              "</table>\n",
              "</div>"
            ],
            "text/plain": [
              "   total_num_of_rooms  bedrooms  bathrooms\n",
              "2                 2.0         1        1.0\n",
              "3                 2.0         1        1.0"
            ]
          },
          "metadata": {
            "tags": []
          },
          "execution_count": 50
        }
      ]
    },
    {
      "cell_type": "code",
      "metadata": {
        "id": "j_2lH21L7vbC",
        "colab_type": "code",
        "outputId": "71637d21-e368-4e96-da60-86754561534c",
        "colab": {
          "base_uri": "https://localhost:8080/",
          "height": 108
        }
      },
      "source": [
        "test[['total_num_of_rooms', 'bedrooms', 'bathrooms']].head(2)"
      ],
      "execution_count": 0,
      "outputs": [
        {
          "output_type": "execute_result",
          "data": {
            "text/html": [
              "<div>\n",
              "<style scoped>\n",
              "    .dataframe tbody tr th:only-of-type {\n",
              "        vertical-align: middle;\n",
              "    }\n",
              "\n",
              "    .dataframe tbody tr th {\n",
              "        vertical-align: top;\n",
              "    }\n",
              "\n",
              "    .dataframe thead th {\n",
              "        text-align: right;\n",
              "    }\n",
              "</style>\n",
              "<table border=\"1\" class=\"dataframe\">\n",
              "  <thead>\n",
              "    <tr style=\"text-align: right;\">\n",
              "      <th></th>\n",
              "      <th>total_num_of_rooms</th>\n",
              "      <th>bedrooms</th>\n",
              "      <th>bathrooms</th>\n",
              "    </tr>\n",
              "  </thead>\n",
              "  <tbody>\n",
              "    <tr>\n",
              "      <th>0</th>\n",
              "      <td>4.5</td>\n",
              "      <td>3</td>\n",
              "      <td>1.5</td>\n",
              "    </tr>\n",
              "    <tr>\n",
              "      <th>1</th>\n",
              "      <td>3.0</td>\n",
              "      <td>2</td>\n",
              "      <td>1.0</td>\n",
              "    </tr>\n",
              "  </tbody>\n",
              "</table>\n",
              "</div>"
            ],
            "text/plain": [
              "   total_num_of_rooms  bedrooms  bathrooms\n",
              "0                 4.5         3        1.5\n",
              "1                 3.0         2        1.0"
            ]
          },
          "metadata": {
            "tags": []
          },
          "execution_count": 51
        }
      ]
    },
    {
      "cell_type": "markdown",
      "metadata": {
        "id": "XqlN5SP2zZ4Q",
        "colab_type": "text"
      },
      "source": [
        "Ratio of beds to baths"
      ]
    },
    {
      "cell_type": "code",
      "metadata": {
        "id": "V717ZDuTu5ct",
        "colab_type": "code",
        "colab": {}
      },
      "source": [
        "# Ratio of beds to baths\n",
        "train['ratio_bed_to_baths'] = train['bedrooms'] / train['bathrooms']\n",
        "test['ratio_bed_to_baths'] = test['bedrooms'] / test['bathrooms']"
      ],
      "execution_count": 0,
      "outputs": []
    },
    {
      "cell_type": "code",
      "metadata": {
        "id": "1BRtcuM6vp4Q",
        "colab_type": "code",
        "outputId": "f3e1fc41-be57-4326-a07f-5ea07caba5db",
        "colab": {
          "base_uri": "https://localhost:8080/",
          "height": 108
        }
      },
      "source": [
        "# check the 'ratio_bed_to_baths\n",
        "train[['ratio_bed_to_baths', 'bedrooms', 'bathrooms']].head(2)"
      ],
      "execution_count": 0,
      "outputs": [
        {
          "output_type": "execute_result",
          "data": {
            "text/html": [
              "<div>\n",
              "<style scoped>\n",
              "    .dataframe tbody tr th:only-of-type {\n",
              "        vertical-align: middle;\n",
              "    }\n",
              "\n",
              "    .dataframe tbody tr th {\n",
              "        vertical-align: top;\n",
              "    }\n",
              "\n",
              "    .dataframe thead th {\n",
              "        text-align: right;\n",
              "    }\n",
              "</style>\n",
              "<table border=\"1\" class=\"dataframe\">\n",
              "  <thead>\n",
              "    <tr style=\"text-align: right;\">\n",
              "      <th></th>\n",
              "      <th>ratio_bed_to_baths</th>\n",
              "      <th>bedrooms</th>\n",
              "      <th>bathrooms</th>\n",
              "    </tr>\n",
              "  </thead>\n",
              "  <tbody>\n",
              "    <tr>\n",
              "      <th>2</th>\n",
              "      <td>1.0</td>\n",
              "      <td>1</td>\n",
              "      <td>1.0</td>\n",
              "    </tr>\n",
              "    <tr>\n",
              "      <th>3</th>\n",
              "      <td>1.0</td>\n",
              "      <td>1</td>\n",
              "      <td>1.0</td>\n",
              "    </tr>\n",
              "  </tbody>\n",
              "</table>\n",
              "</div>"
            ],
            "text/plain": [
              "   ratio_bed_to_baths  bedrooms  bathrooms\n",
              "2                 1.0         1        1.0\n",
              "3                 1.0         1        1.0"
            ]
          },
          "metadata": {
            "tags": []
          },
          "execution_count": 53
        }
      ]
    },
    {
      "cell_type": "code",
      "metadata": {
        "id": "Ko_6Ph5wNSgV",
        "colab_type": "code",
        "outputId": "a5c88ceb-73f0-4910-a589-c70f61e6c265",
        "colab": {
          "base_uri": "https://localhost:8080/",
          "height": 581
        }
      },
      "source": [
        "train['ratio_bed_to_baths'].value_counts()\n",
        "#### inf == infinity   \n",
        "#### Really that's no good"
      ],
      "execution_count": 0,
      "outputs": [
        {
          "output_type": "execute_result",
          "data": {
            "text/plain": [
              "1.000000    12495\n",
              "2.000000     7892\n",
              "0.000000     6073\n",
              "3.000000     2288\n",
              "1.500000     1801\n",
              "4.000000      239\n",
              "1.333333      216\n",
              "0.500000      133\n",
              "0.666667      116\n",
              "1.200000       95\n",
              "inf            92\n",
              "2.500000       76\n",
              "0.800000       59\n",
              "2.666667       40\n",
              "1.250000       24\n",
              "1.600000       23\n",
              "1.666667       22\n",
              "1.142857       15\n",
              "0.857143       12\n",
              "0.333333        8\n",
              "5.000000        7\n",
              "0.750000        6\n",
              "0.888889        4\n",
              "3.333333        3\n",
              "0.200000        1\n",
              "0.222222        1\n",
              "2.333333        1\n",
              "2.400000        1\n",
              "6.000000        1\n",
              "1.428571        1\n",
              "Name: ratio_bed_to_baths, dtype: int64"
            ]
          },
          "metadata": {
            "tags": []
          },
          "execution_count": 54
        }
      ]
    },
    {
      "cell_type": "markdown",
      "metadata": {
        "id": "FPutMz8EzP64",
        "colab_type": "text"
      },
      "source": [
        "How many total perks does each apartment have?"
      ]
    },
    {
      "cell_type": "code",
      "metadata": {
        "id": "iHlbaFrhzMkx",
        "colab_type": "code",
        "outputId": "db1e0927-266a-4dea-e3ff-845e135d66b5",
        "colab": {
          "base_uri": "https://localhost:8080/",
          "height": 199
        }
      },
      "source": [
        "train.columns"
      ],
      "execution_count": 0,
      "outputs": [
        {
          "output_type": "execute_result",
          "data": {
            "text/plain": [
              "Index(['bathrooms', 'bedrooms', 'created', 'description', 'display_address',\n",
              "       'latitude', 'longitude', 'price', 'street_address', 'interest_level',\n",
              "       'elevator', 'cats_allowed', 'hardwood_floors', 'dogs_allowed',\n",
              "       'doorman', 'dishwasher', 'no_fee', 'laundry_in_building',\n",
              "       'fitness_center', 'pre-war', 'laundry_in_unit', 'roof_deck',\n",
              "       'outdoor_space', 'dining_room', 'high_speed_internet', 'balcony',\n",
              "       'swimming_pool', 'new_construction', 'terrace', 'exclusive', 'loft',\n",
              "       'garden_patio', 'wheelchair_access', 'common_outdoor_space',\n",
              "       'total_num_of_rooms', 'ratio_bed_to_baths'],\n",
              "      dtype='object')"
            ]
          },
          "metadata": {
            "tags": []
          },
          "execution_count": 55
        }
      ]
    },
    {
      "cell_type": "code",
      "metadata": {
        "id": "2G-tpJtw6S7w",
        "colab_type": "code",
        "colab": {}
      },
      "source": [
        "perks =['elevator', 'cats_allowed', 'hardwood_floors', 'dogs_allowed',\n",
        "       'doorman', 'dishwasher', 'no_fee', 'laundry_in_building',\n",
        "       'fitness_center', 'pre-war', 'laundry_in_unit', 'roof_deck',\n",
        "       'outdoor_space', 'dining_room', 'high_speed_internet', 'balcony',\n",
        "       'swimming_pool', 'new_construction', 'terrace', 'exclusive', 'loft',\n",
        "       'garden_patio', 'wheelchair_access', 'common_outdoor_space']"
      ],
      "execution_count": 0,
      "outputs": []
    },
    {
      "cell_type": "code",
      "metadata": {
        "id": "tg2wQkyxzMbw",
        "colab_type": "code",
        "outputId": "3068c616-89eb-4c35-84ae-67e198770a23",
        "colab": {
          "base_uri": "https://localhost:8080/",
          "height": 235
        }
      },
      "source": [
        "train[perks].sample(5)"
      ],
      "execution_count": 0,
      "outputs": [
        {
          "output_type": "execute_result",
          "data": {
            "text/html": [
              "<div>\n",
              "<style scoped>\n",
              "    .dataframe tbody tr th:only-of-type {\n",
              "        vertical-align: middle;\n",
              "    }\n",
              "\n",
              "    .dataframe tbody tr th {\n",
              "        vertical-align: top;\n",
              "    }\n",
              "\n",
              "    .dataframe thead th {\n",
              "        text-align: right;\n",
              "    }\n",
              "</style>\n",
              "<table border=\"1\" class=\"dataframe\">\n",
              "  <thead>\n",
              "    <tr style=\"text-align: right;\">\n",
              "      <th></th>\n",
              "      <th>elevator</th>\n",
              "      <th>cats_allowed</th>\n",
              "      <th>hardwood_floors</th>\n",
              "      <th>dogs_allowed</th>\n",
              "      <th>doorman</th>\n",
              "      <th>dishwasher</th>\n",
              "      <th>no_fee</th>\n",
              "      <th>laundry_in_building</th>\n",
              "      <th>fitness_center</th>\n",
              "      <th>pre-war</th>\n",
              "      <th>laundry_in_unit</th>\n",
              "      <th>roof_deck</th>\n",
              "      <th>outdoor_space</th>\n",
              "      <th>dining_room</th>\n",
              "      <th>high_speed_internet</th>\n",
              "      <th>balcony</th>\n",
              "      <th>swimming_pool</th>\n",
              "      <th>new_construction</th>\n",
              "      <th>terrace</th>\n",
              "      <th>exclusive</th>\n",
              "      <th>loft</th>\n",
              "      <th>garden_patio</th>\n",
              "      <th>wheelchair_access</th>\n",
              "      <th>common_outdoor_space</th>\n",
              "    </tr>\n",
              "  </thead>\n",
              "  <tbody>\n",
              "    <tr>\n",
              "      <th>6193</th>\n",
              "      <td>1</td>\n",
              "      <td>1</td>\n",
              "      <td>1</td>\n",
              "      <td>1</td>\n",
              "      <td>1</td>\n",
              "      <td>0</td>\n",
              "      <td>1</td>\n",
              "      <td>0</td>\n",
              "      <td>0</td>\n",
              "      <td>1</td>\n",
              "      <td>1</td>\n",
              "      <td>1</td>\n",
              "      <td>1</td>\n",
              "      <td>0</td>\n",
              "      <td>0</td>\n",
              "      <td>0</td>\n",
              "      <td>1</td>\n",
              "      <td>0</td>\n",
              "      <td>0</td>\n",
              "      <td>0</td>\n",
              "      <td>0</td>\n",
              "      <td>0</td>\n",
              "      <td>0</td>\n",
              "      <td>0</td>\n",
              "    </tr>\n",
              "    <tr>\n",
              "      <th>44261</th>\n",
              "      <td>1</td>\n",
              "      <td>0</td>\n",
              "      <td>1</td>\n",
              "      <td>0</td>\n",
              "      <td>1</td>\n",
              "      <td>1</td>\n",
              "      <td>1</td>\n",
              "      <td>0</td>\n",
              "      <td>1</td>\n",
              "      <td>0</td>\n",
              "      <td>0</td>\n",
              "      <td>0</td>\n",
              "      <td>0</td>\n",
              "      <td>0</td>\n",
              "      <td>1</td>\n",
              "      <td>0</td>\n",
              "      <td>1</td>\n",
              "      <td>0</td>\n",
              "      <td>0</td>\n",
              "      <td>0</td>\n",
              "      <td>0</td>\n",
              "      <td>0</td>\n",
              "      <td>0</td>\n",
              "      <td>0</td>\n",
              "    </tr>\n",
              "    <tr>\n",
              "      <th>39171</th>\n",
              "      <td>1</td>\n",
              "      <td>0</td>\n",
              "      <td>1</td>\n",
              "      <td>0</td>\n",
              "      <td>0</td>\n",
              "      <td>1</td>\n",
              "      <td>1</td>\n",
              "      <td>0</td>\n",
              "      <td>0</td>\n",
              "      <td>0</td>\n",
              "      <td>1</td>\n",
              "      <td>0</td>\n",
              "      <td>0</td>\n",
              "      <td>0</td>\n",
              "      <td>0</td>\n",
              "      <td>0</td>\n",
              "      <td>0</td>\n",
              "      <td>0</td>\n",
              "      <td>0</td>\n",
              "      <td>0</td>\n",
              "      <td>0</td>\n",
              "      <td>0</td>\n",
              "      <td>0</td>\n",
              "      <td>0</td>\n",
              "    </tr>\n",
              "    <tr>\n",
              "      <th>41553</th>\n",
              "      <td>0</td>\n",
              "      <td>1</td>\n",
              "      <td>0</td>\n",
              "      <td>1</td>\n",
              "      <td>1</td>\n",
              "      <td>0</td>\n",
              "      <td>1</td>\n",
              "      <td>0</td>\n",
              "      <td>1</td>\n",
              "      <td>0</td>\n",
              "      <td>0</td>\n",
              "      <td>0</td>\n",
              "      <td>0</td>\n",
              "      <td>0</td>\n",
              "      <td>0</td>\n",
              "      <td>0</td>\n",
              "      <td>0</td>\n",
              "      <td>0</td>\n",
              "      <td>0</td>\n",
              "      <td>0</td>\n",
              "      <td>0</td>\n",
              "      <td>0</td>\n",
              "      <td>0</td>\n",
              "      <td>0</td>\n",
              "    </tr>\n",
              "    <tr>\n",
              "      <th>39553</th>\n",
              "      <td>1</td>\n",
              "      <td>1</td>\n",
              "      <td>1</td>\n",
              "      <td>1</td>\n",
              "      <td>1</td>\n",
              "      <td>1</td>\n",
              "      <td>1</td>\n",
              "      <td>0</td>\n",
              "      <td>1</td>\n",
              "      <td>0</td>\n",
              "      <td>1</td>\n",
              "      <td>1</td>\n",
              "      <td>1</td>\n",
              "      <td>0</td>\n",
              "      <td>1</td>\n",
              "      <td>0</td>\n",
              "      <td>0</td>\n",
              "      <td>1</td>\n",
              "      <td>0</td>\n",
              "      <td>0</td>\n",
              "      <td>0</td>\n",
              "      <td>0</td>\n",
              "      <td>0</td>\n",
              "      <td>0</td>\n",
              "    </tr>\n",
              "  </tbody>\n",
              "</table>\n",
              "</div>"
            ],
            "text/plain": [
              "       elevator  cats_allowed  ...  wheelchair_access  common_outdoor_space\n",
              "6193          1             1  ...                  0                     0\n",
              "44261         1             0  ...                  0                     0\n",
              "39171         1             0  ...                  0                     0\n",
              "41553         0             1  ...                  0                     0\n",
              "39553         1             1  ...                  0                     0\n",
              "\n",
              "[5 rows x 24 columns]"
            ]
          },
          "metadata": {
            "tags": []
          },
          "execution_count": 57
        }
      ]
    },
    {
      "cell_type": "code",
      "metadata": {
        "id": "BE2m5p6y1ETu",
        "colab_type": "code",
        "outputId": "575daab9-12ab-42ad-e27a-a17d6278ce36",
        "colab": {
          "base_uri": "https://localhost:8080/",
          "height": 198
        }
      },
      "source": [
        "# create new feature 'total_perks'\n",
        "train['total_perks'] = train[perks].sum(axis=1)\n",
        "test['total_perks'] = test[perks].sum(axis=1)\n",
        "train[['total_perks']].sample(5) "
      ],
      "execution_count": 0,
      "outputs": [
        {
          "output_type": "execute_result",
          "data": {
            "text/html": [
              "<div>\n",
              "<style scoped>\n",
              "    .dataframe tbody tr th:only-of-type {\n",
              "        vertical-align: middle;\n",
              "    }\n",
              "\n",
              "    .dataframe tbody tr th {\n",
              "        vertical-align: top;\n",
              "    }\n",
              "\n",
              "    .dataframe thead th {\n",
              "        text-align: right;\n",
              "    }\n",
              "</style>\n",
              "<table border=\"1\" class=\"dataframe\">\n",
              "  <thead>\n",
              "    <tr style=\"text-align: right;\">\n",
              "      <th></th>\n",
              "      <th>total_perks</th>\n",
              "    </tr>\n",
              "  </thead>\n",
              "  <tbody>\n",
              "    <tr>\n",
              "      <th>24733</th>\n",
              "      <td>8</td>\n",
              "    </tr>\n",
              "    <tr>\n",
              "      <th>47963</th>\n",
              "      <td>3</td>\n",
              "    </tr>\n",
              "    <tr>\n",
              "      <th>3876</th>\n",
              "      <td>2</td>\n",
              "    </tr>\n",
              "    <tr>\n",
              "      <th>31424</th>\n",
              "      <td>0</td>\n",
              "    </tr>\n",
              "    <tr>\n",
              "      <th>36153</th>\n",
              "      <td>7</td>\n",
              "    </tr>\n",
              "  </tbody>\n",
              "</table>\n",
              "</div>"
            ],
            "text/plain": [
              "       total_perks\n",
              "24733            8\n",
              "47963            3\n",
              "3876             2\n",
              "31424            0\n",
              "36153            7"
            ]
          },
          "metadata": {
            "tags": []
          },
          "execution_count": 58
        }
      ]
    },
    {
      "cell_type": "markdown",
      "metadata": {
        "id": "7zTzNoZnw9xk",
        "colab_type": "text"
      },
      "source": [
        "##What's the neighborhood, based on address or latitude & longitude?"
      ]
    },
    {
      "cell_type": "code",
      "metadata": {
        "id": "t2v2YVd6xB0B",
        "colab_type": "code",
        "outputId": "df87d2ae-79c5-449c-def6-9ce963b9a604",
        "colab": {
          "base_uri": "https://localhost:8080/",
          "height": 199
        }
      },
      "source": [
        "## how to you do this????\n",
        "## let's look at the columns given\n",
        "train.columns # hello again"
      ],
      "execution_count": 0,
      "outputs": [
        {
          "output_type": "execute_result",
          "data": {
            "text/plain": [
              "Index(['bathrooms', 'bedrooms', 'created', 'description', 'display_address',\n",
              "       'latitude', 'longitude', 'price', 'street_address', 'interest_level',\n",
              "       'elevator', 'cats_allowed', 'hardwood_floors', 'dogs_allowed',\n",
              "       'doorman', 'dishwasher', 'no_fee', 'laundry_in_building',\n",
              "       'fitness_center', 'pre-war', 'laundry_in_unit', 'roof_deck',\n",
              "       'outdoor_space', 'dining_room', 'high_speed_internet', 'balcony',\n",
              "       'swimming_pool', 'new_construction', 'terrace', 'exclusive', 'loft',\n",
              "       'garden_patio', 'wheelchair_access', 'common_outdoor_space',\n",
              "       'total_num_of_rooms', 'ratio_bed_to_baths', 'total_perks'],\n",
              "      dtype='object')"
            ]
          },
          "metadata": {
            "tags": []
          },
          "execution_count": 59
        }
      ]
    },
    {
      "cell_type": "code",
      "metadata": {
        "id": "GDSuFcBwxBw5",
        "colab_type": "code",
        "outputId": "f04f4096-b93c-41a0-e17a-ebf6556a0ca6",
        "colab": {
          "base_uri": "https://localhost:8080/",
          "height": 198
        }
      },
      "source": [
        "train[['display_address','latitude', 'longitude','street_address']].sample(5)"
      ],
      "execution_count": 0,
      "outputs": [
        {
          "output_type": "execute_result",
          "data": {
            "text/html": [
              "<div>\n",
              "<style scoped>\n",
              "    .dataframe tbody tr th:only-of-type {\n",
              "        vertical-align: middle;\n",
              "    }\n",
              "\n",
              "    .dataframe tbody tr th {\n",
              "        vertical-align: top;\n",
              "    }\n",
              "\n",
              "    .dataframe thead th {\n",
              "        text-align: right;\n",
              "    }\n",
              "</style>\n",
              "<table border=\"1\" class=\"dataframe\">\n",
              "  <thead>\n",
              "    <tr style=\"text-align: right;\">\n",
              "      <th></th>\n",
              "      <th>display_address</th>\n",
              "      <th>latitude</th>\n",
              "      <th>longitude</th>\n",
              "      <th>street_address</th>\n",
              "    </tr>\n",
              "  </thead>\n",
              "  <tbody>\n",
              "    <tr>\n",
              "      <th>33979</th>\n",
              "      <td>East 82nd Street</td>\n",
              "      <td>40.7731</td>\n",
              "      <td>-73.9480</td>\n",
              "      <td>513 East 82nd Street</td>\n",
              "    </tr>\n",
              "    <tr>\n",
              "      <th>27872</th>\n",
              "      <td>York Avenue</td>\n",
              "      <td>40.7775</td>\n",
              "      <td>-73.9458</td>\n",
              "      <td>1680 York Avenue</td>\n",
              "    </tr>\n",
              "    <tr>\n",
              "      <th>48364</th>\n",
              "      <td>East 7th Street</td>\n",
              "      <td>40.7248</td>\n",
              "      <td>-73.9808</td>\n",
              "      <td>190 East 7th Street</td>\n",
              "    </tr>\n",
              "    <tr>\n",
              "      <th>38638</th>\n",
              "      <td>E 21 Street</td>\n",
              "      <td>40.7396</td>\n",
              "      <td>-73.9885</td>\n",
              "      <td>31 E 21 Street</td>\n",
              "    </tr>\n",
              "    <tr>\n",
              "      <th>2576</th>\n",
              "      <td>2076 Dean St</td>\n",
              "      <td>40.6749</td>\n",
              "      <td>-73.9188</td>\n",
              "      <td>2076 Dean St</td>\n",
              "    </tr>\n",
              "  </tbody>\n",
              "</table>\n",
              "</div>"
            ],
            "text/plain": [
              "        display_address  latitude  longitude        street_address\n",
              "33979  East 82nd Street   40.7731   -73.9480  513 East 82nd Street\n",
              "27872       York Avenue   40.7775   -73.9458      1680 York Avenue\n",
              "48364   East 7th Street   40.7248   -73.9808   190 East 7th Street\n",
              "38638       E 21 Street   40.7396   -73.9885        31 E 21 Street\n",
              "2576       2076 Dean St   40.6749   -73.9188          2076 Dean St"
            ]
          },
          "metadata": {
            "tags": []
          },
          "execution_count": 60
        }
      ]
    },
    {
      "cell_type": "code",
      "metadata": {
        "id": "fzvV5UxUxBtU",
        "colab_type": "code",
        "outputId": "9dcc04e1-af8b-4c14-a857-906187fbafdc",
        "colab": {
          "base_uri": "https://localhost:8080/",
          "height": 35
        }
      },
      "source": [
        "train['latitude'].value_counts().sum()\n",
        "# what if we just include the long and lat into the linear regression without feature engineering it\n",
        "# that's ludicrous/ludicris ;-o\n",
        "\n",
        "## ok let's try"
      ],
      "execution_count": 0,
      "outputs": [
        {
          "output_type": "execute_result",
          "data": {
            "text/plain": [
              "31844"
            ]
          },
          "metadata": {
            "tags": []
          },
          "execution_count": 61
        }
      ]
    },
    {
      "cell_type": "markdown",
      "metadata": {
        "id": "WZ7tTPCZxMkz",
        "colab_type": "text"
      },
      "source": [
        "Fit a linear regression model with at least two features.\n",
        "========\n"
      ]
    },
    {
      "cell_type": "code",
      "metadata": {
        "id": "gbFnhrdhHt5z",
        "colab_type": "code",
        "outputId": "efc5aca6-ff01-4cab-e9fe-9b4b30076b6e",
        "colab": {
          "base_uri": "https://localhost:8080/",
          "height": 35
        }
      },
      "source": [
        "# 1. Begin with baseline (0 features)\n",
        "\n",
        "train['price'].mean()"
      ],
      "execution_count": 0,
      "outputs": [
        {
          "output_type": "execute_result",
          "data": {
            "text/plain": [
              "3575.604007034292"
            ]
          },
          "metadata": {
            "tags": []
          },
          "execution_count": 62
        }
      ]
    },
    {
      "cell_type": "code",
      "metadata": {
        "id": "wRUZXGHBJV_l",
        "colab_type": "code",
        "colab": {}
      },
      "source": [
        "# 2. Arrange y target vectors\n",
        "target = 'price'\n",
        "y_train = train[target]\n",
        "y_test = test[target] "
      ],
      "execution_count": 0,
      "outputs": []
    },
    {
      "cell_type": "code",
      "metadata": {
        "id": "LE1kO7Y3J0eA",
        "colab_type": "code",
        "outputId": "55c5af4c-2b88-440e-f369-6890124b241b",
        "colab": {
          "base_uri": "https://localhost:8080/",
          "height": 35
        }
      },
      "source": [
        "# 3. Get mean baseline\n",
        "print('Mean Baseline (using 0 Features)')\n",
        "guess = y_train.mean()\n",
        "# make sure that, this mean is only from the train data\n",
        "# do not contaminate with the test data "
      ],
      "execution_count": 0,
      "outputs": [
        {
          "output_type": "stream",
          "text": [
            "Mean Baseline (using 0 Features)\n"
          ],
          "name": "stdout"
        }
      ]
    },
    {
      "cell_type": "code",
      "metadata": {
        "id": "1O-686k3KYjB",
        "colab_type": "code",
        "outputId": "8a4f95c3-0cc9-44e3-8c94-c485483ab823",
        "colab": {
          "base_uri": "https://localhost:8080/",
          "height": 35
        }
      },
      "source": [
        "# Train Error\n",
        "from sklearn.metrics import mean_absolute_error\n",
        "y_pred = [guess] * len(y_train)\n",
        "mae = mean_absolute_error(y_train, y_pred)\n",
        "print(f'Train Error (April and May 2016) :  ${mae:.2f}')"
      ],
      "execution_count": 0,
      "outputs": [
        {
          "output_type": "stream",
          "text": [
            "Train Error (April and May 2016) :  $1201.88\n"
          ],
          "name": "stdout"
        }
      ]
    },
    {
      "cell_type": "code",
      "metadata": {
        "id": "dj7PYobVKYck",
        "colab_type": "code",
        "outputId": "abd06d61-b9b9-4ec9-c62a-1b1387e44da4",
        "colab": {
          "base_uri": "https://localhost:8080/",
          "height": 35
        }
      },
      "source": [
        "# Test Error\n",
        "y_pred = [guess] * len(y_test)\n",
        "mae = mean_absolute_error(y_test, y_pred)\n",
        "print(f'Train Error (June 2016) :  ${mae:.2f}')"
      ],
      "execution_count": 0,
      "outputs": [
        {
          "output_type": "stream",
          "text": [
            "Train Error (June 2016) :  $1197.71\n"
          ],
          "name": "stdout"
        }
      ]
    },
    {
      "cell_type": "code",
      "metadata": {
        "id": "eYDSMobyLeqo",
        "colab_type": "code",
        "colab": {}
      },
      "source": [
        ""
      ],
      "execution_count": 0,
      "outputs": []
    },
    {
      "cell_type": "code",
      "metadata": {
        "id": "TPZEZz4Mvwde",
        "colab_type": "code",
        "colab": {}
      },
      "source": [
        "# 1. Import the appropriate estimator class from SciKit-Learn\n",
        "from sklearn.linear_model import LinearRegression"
      ],
      "execution_count": 0,
      "outputs": []
    },
    {
      "cell_type": "code",
      "metadata": {
        "id": "9BfmZB9dx1tR",
        "colab_type": "code",
        "colab": {}
      },
      "source": [
        "# 2. Instantiate this class\n",
        "model = LinearRegression()"
      ],
      "execution_count": 0,
      "outputs": []
    },
    {
      "cell_type": "code",
      "metadata": {
        "id": "obBoHqLiyE6q",
        "colab_type": "code",
        "outputId": "e684bf09-5042-4c1d-f95f-bfc47b241b84",
        "colab": {
          "base_uri": "https://localhost:8080/",
          "height": 35
        }
      },
      "source": [
        "# 3. Arrange X features matrices (alread did y targets vectors)\n",
        "# Let's use the 2 new features \n",
        "features = ['bedrooms', 'bathrooms', 'total_perks','latitude', 'longitude' ] #added lat and long\n",
        "X_train = train[features]\n",
        "X_test = test[features]\n",
        "print(f'Linear Regression, dependent on: {features}')"
      ],
      "execution_count": 0,
      "outputs": [
        {
          "output_type": "stream",
          "text": [
            "Linear Regression, dependent on: ['bedrooms', 'bathrooms', 'total_perks', 'latitude', 'longitude']\n"
          ],
          "name": "stdout"
        }
      ]
    },
    {
      "cell_type": "code",
      "metadata": {
        "id": "KKtjZvaJy41V",
        "colab_type": "code",
        "outputId": "87a9a766-f941-4428-8d51-8be74aa4bbe2",
        "colab": {
          "base_uri": "https://localhost:8080/",
          "height": 35
        }
      },
      "source": [
        "# 4. Fit the model\n",
        "model.fit(X_train, y_train)\n",
        "y_pred = model.predict(X_train)\n",
        "mae = mean_absolute_error(y_train, y_pred)\n",
        "print(f'Train Error: ${mae:.2f}')"
      ],
      "execution_count": 0,
      "outputs": [
        {
          "output_type": "stream",
          "text": [
            "Train Error: $729.17\n"
          ],
          "name": "stdout"
        }
      ]
    },
    {
      "cell_type": "code",
      "metadata": {
        "id": "89rvtmXqL1Qf",
        "colab_type": "code",
        "outputId": "411742db-acb1-4d58-d783-aed9b758f762",
        "colab": {
          "base_uri": "https://localhost:8080/",
          "height": 35
        }
      },
      "source": [
        "# 5. Apply the model to new data\n",
        "y_pred = model.predict(X_test)\n",
        "mae = mean_absolute_error(y_test, y_pred)\n",
        "print(f'Test Error: ${mae:.2f}')"
      ],
      "execution_count": 0,
      "outputs": [
        {
          "output_type": "stream",
          "text": [
            "Test Error: $733.71\n"
          ],
          "name": "stdout"
        }
      ]
    },
    {
      "cell_type": "markdown",
      "metadata": {
        "id": "FxxABT-TPv0k",
        "colab_type": "text"
      },
      "source": [
        "Get the model's coefficients and intercept.\n",
        "========\n"
      ]
    },
    {
      "cell_type": "code",
      "metadata": {
        "id": "DwF8XcKOOvXa",
        "colab_type": "code",
        "outputId": "3d0a22bf-ef8d-4244-e9d7-f5f70bf05267",
        "colab": {
          "base_uri": "https://localhost:8080/",
          "height": 72
        }
      },
      "source": [
        "model.intercept_, model.coef_"
      ],
      "execution_count": 0,
      "outputs": [
        {
          "output_type": "execute_result",
          "data": {
            "text/plain": [
              "(-1177127.8270060434,\n",
              " array([   426.65490989,   1927.55430941,     46.52788523,   1825.66915686,\n",
              "        -14912.42176326]))"
            ]
          },
          "metadata": {
            "tags": []
          },
          "execution_count": 72
        }
      ]
    },
    {
      "cell_type": "code",
      "metadata": {
        "id": "VN0tYe5GQFXa",
        "colab_type": "code",
        "outputId": "82b0bf1c-6331-4f7f-b6bd-ed5d398db326",
        "colab": {
          "base_uri": "https://localhost:8080/",
          "height": 235
        }
      },
      "source": [
        "beta0 = model.intercept_\n",
        "beta1, beta2, beta3, beta4, beta5 = model.coef_\n",
        "print(f'intercept : {beta0:.2f}')\n",
        "print(f'beta1 : {beta1:.2f}')\n",
        "print(f'beta2 : {beta2:.2f}')\n",
        "print(f'beta3 : {beta3:.2f}\\n')\n",
        "print(f'beta4 : {beta4:.2f}\\n')\n",
        "print(f'beta5 : {beta5:.2f}\\n')\n",
        "print(f'y = {beta0:.2f} + {beta1:.2f}*x1 + {beta2:.2f}*x2 + {beta3:.2f}*x3+ {beta4:.2f}*x4 + {beta5:.2f}*x5\\n')\n",
        "print(f'price = {beta0:.2f} + {beta1:.2f}*num_of_bedrooms + {beta2:.2f}*num_of_bathrooms + {beta3:.2f}*total_perks + {beta4:.2f}*lat + {beta5:.2f}*long')"
      ],
      "execution_count": 0,
      "outputs": [
        {
          "output_type": "stream",
          "text": [
            "intercept : -1177127.83\n",
            "beta1 : 426.65\n",
            "beta2 : 1927.55\n",
            "beta3 : 46.53\n",
            "\n",
            "beta4 : 1825.67\n",
            "\n",
            "beta5 : -14912.42\n",
            "\n",
            "y = -1177127.83 + 426.65*x1 + 1927.55*x2 + 46.53*x3+ 1825.67*x4 + -14912.42*x5\n",
            "\n",
            "price = -1177127.83 + 426.65*num_of_bedrooms + 1927.55*num_of_bathrooms + 46.53*total_perks + 1825.67*lat + -14912.42*long\n"
          ],
          "name": "stdout"
        }
      ]
    },
    {
      "cell_type": "markdown",
      "metadata": {
        "id": "lzey2v6BS0Om",
        "colab_type": "text"
      },
      "source": [
        "Get regression metrics RMSE, MAE, and $R^2$, for both the train and test data.\n",
        "======\n"
      ]
    },
    {
      "cell_type": "code",
      "metadata": {
        "id": "57vqZF06S81j",
        "colab_type": "code",
        "colab": {}
      },
      "source": [
        "from sklearn.metrics import mean_absolute_error, mean_squared_error, r2_score"
      ],
      "execution_count": 0,
      "outputs": []
    },
    {
      "cell_type": "code",
      "metadata": {
        "id": "IG_ZOekgXbwZ",
        "colab_type": "code",
        "outputId": "fd140304-9fcb-4d97-9f04-3191e91ed5c5",
        "colab": {
          "base_uri": "https://localhost:8080/",
          "height": 72
        }
      },
      "source": [
        "print(f'y = {beta0:.2f} + {beta1:.2f}*x1 + {beta2:.2f}*x2 + {beta3:.2f}*x3+ {beta4:.2f}*x4 + {beta5:.2f}*x5\\n')\n",
        "print(f'price = {beta0:.2f} + {beta1:.2f}*num_of_bedrooms + {beta2:.2f}*num_of_bathrooms + {beta3:.2f}*total_perks + {beta4:.2f}*lat + {beta5:.2f}*long')"
      ],
      "execution_count": 0,
      "outputs": [
        {
          "output_type": "stream",
          "text": [
            "y = -1177127.83 + 426.65*x1 + 1927.55*x2 + 46.53*x3+ 1825.67*x4 + -14912.42*x5\n",
            "\n",
            "price = -1177127.83 + 426.65*num_of_bedrooms + 1927.55*num_of_bathrooms + 46.53*total_perks + 1825.67*lat + -14912.42*long\n"
          ],
          "name": "stdout"
        }
      ]
    },
    {
      "cell_type": "code",
      "metadata": {
        "id": "QMZO_O8fW7x7",
        "colab_type": "code",
        "colab": {}
      },
      "source": [
        "# Make Predictions\n",
        "# for train dataset\n",
        "x1_train = train['bedrooms']\n",
        "x2_train = train['bathrooms']\n",
        "x3_train = train['total_perks']\n",
        "x4_train = train['latitude']\n",
        "x5_train = train['longitude']\n",
        "y_train = train['price']\n",
        "y_pred_train = beta0 + beta1*x1_train + beta2*x2_train + beta3*x3_train + beta4*x4_train + beta5*x5_train\n",
        "\n",
        "#### why does this not work????? help S.O.S.\n",
        "####y_pred_train = model.predict([x1_train, x2_train, x3_train, x4_train, x5_train])\n",
        "\n",
        "# for test dataset\n",
        "x1_test = test['bedrooms']\n",
        "x2_test = test['bathrooms']\n",
        "x3_test = test['total_perks']\n",
        "x4_test = test['latitude']\n",
        "x5_test = test['longitude']\n",
        "y_test = test['price']\n",
        "y_pred_test = beta0 + beta1*x1_test + beta2*x2_test + beta3*x3_test + beta4*x4_test + beta5*x5_test"
      ],
      "execution_count": 0,
      "outputs": []
    },
    {
      "cell_type": "code",
      "metadata": {
        "id": "pWHJ1zaiS8v2",
        "colab_type": "code",
        "outputId": "592a8b79-ba83-414e-9e2c-7898cf00da9c",
        "colab": {
          "base_uri": "https://localhost:8080/",
          "height": 90
        }
      },
      "source": [
        "# Print Regression Metrics\n",
        "mse_train = mean_squared_error(y_train, y_pred_train)\n",
        "rmse_train = np.sqrt(mse_train)\n",
        "mae_train = mean_absolute_error(y_train, y_pred_train)\n",
        "r2_train = r2_score(y_train, y_pred_train)\n",
        "\n",
        "mse_test = mean_squared_error(y_test, y_pred_test)\n",
        "rmse_test = np.sqrt(mse_test)\n",
        "mae_test = mean_absolute_error(y_test, y_pred_test)\n",
        "r2_test = r2_score(y_test, y_pred_test)\n",
        "\n",
        "print(f'Mean Squared Error \\ttrain : {mse_train}\\ttest : {mse_test}')\n",
        "print(f'Root Mean Squared Error\\ttrain : {rmse_train}\\ttest : {rmse_test}')\n",
        "print(f'Mean Absolute Error \\ttrain : {mae_train}\\ttest : {mae_test}')\n",
        "print(f'R^2 \\t\\t\\ttrain : {r2_train}\\ttest : {r2_test}')"
      ],
      "execution_count": 0,
      "outputs": [
        {
          "output_type": "stream",
          "text": [
            "Mean Squared Error \ttrain : 1291105.5883488199\ttest : 1258411.9880555447\n",
            "Root Mean Squared Error\ttrain : 1136.2682730538681\ttest : 1121.7896362756899\n",
            "Mean Absolute Error \ttrain : 729.1721673898559\ttest : 733.7071465522029\n",
            "R^2 \t\t\ttrain : 0.5841887745465755\ttest : 0.5951083085975714\n"
          ],
          "name": "stdout"
        }
      ]
    },
    {
      "cell_type": "markdown",
      "metadata": {
        "id": "RaE_HndY5BU2",
        "colab_type": "text"
      },
      "source": [
        " ## Before adding the latitude and longitude\n",
        "\n",
        "error test                | train                       | test\n",
        "--------------------|-----------------------------|-------------\n",
        "Mean Squared Error \t|  1449490.55\t|  1421073.10\n",
        "Root Mean Squared Error\t|  1203.94\t|  1192.08\n",
        "Mean Absolute Error \t| 795.40\t| 799.73\n",
        "R^2 \t|\t\t 0.5331 | 0.5427"
      ]
    },
    {
      "cell_type": "markdown",
      "metadata": {
        "id": "SOZjnQ_t9f_N",
        "colab_type": "text"
      },
      "source": [
        "## After adding Latitude and Longitude with Feature Engineering\n",
        "\n",
        "error test                | train                       | test\n",
        "--------------------|-----------------------------|-------------\n",
        "Mean Squared Error | 1291105.58| 1258411.98\n",
        "Root Mean Squared Error| 1136.26 | 1121.78\n",
        "Mean Absolute Error | 729.17 | 733.70\n",
        "R^2 \t\t| 0.5841\t| 0.5951"
      ]
    },
    {
      "cell_type": "markdown",
      "metadata": {
        "id": "P4TYjACe-cAf",
        "colab_type": "text"
      },
      "source": [
        "<div align=\"center\">\n",
        "\n",
        "There is a 60%(test) Reduction invariance\n",
        "\n",
        "\n",
        "when we take into account the following features\n",
        "(bedrooms, bathrooms, total_perks, latitude, longitude) into account.\n",
        "\n",
        "Alternatively, we can say that the following features\n",
        "\n",
        "\n",
        "(bedrooms, bathrooms, total_perks, latitude, longitude)\n",
        "explain 60%(test) of the variance in price.\n"
      ]
    },
    {
      "cell_type": "code",
      "metadata": {
        "id": "-onY32vDo-ir",
        "colab_type": "code",
        "colab": {}
      },
      "source": [
        "# There is a 53%(train) & 54%(test) Reduction invariance\n",
        "# when we take into account the following features\n",
        "# (bedrooms, bathrooms, total_perks) into account\n",
        "\n",
        "# Alternatively, we can say that the following features\n",
        "# (bedrooms, bathrooms, total_perks)\n",
        "# explain 53%(train) & 54%(test) of the variance in price.\n",
        "\n",
        "# thanks StatQuest"
      ],
      "execution_count": 0,
      "outputs": []
    },
    {
      "cell_type": "markdown",
      "metadata": {
        "id": "RDItWRgKoUNO",
        "colab_type": "text"
      },
      "source": [
        "This is a great way to explain the R^2\n",
        "https://www.youtube.com/watch?v=nk2CQITm_eo&feature=youtu.be"
      ]
    },
    {
      "cell_type": "markdown",
      "metadata": {
        "id": "kcQajphAS9MA",
        "colab_type": "text"
      },
      "source": [
        "What's the best test MAE you can get? Share your score and features used with your cohort on Slack!\n",
        "========\n"
      ]
    },
    {
      "cell_type": "code",
      "metadata": {
        "id": "f65MxOnrTHIZ",
        "colab_type": "code",
        "colab": {}
      },
      "source": [
        ""
      ],
      "execution_count": 0,
      "outputs": []
    },
    {
      "cell_type": "code",
      "metadata": {
        "id": "0I4uwrrhTMrm",
        "colab_type": "code",
        "colab": {}
      },
      "source": [
        ""
      ],
      "execution_count": 0,
      "outputs": []
    },
    {
      "cell_type": "markdown",
      "metadata": {
        "id": "DTU2UjudTIbQ",
        "colab_type": "text"
      },
      "source": [
        "\n",
        "As always, commit your notebook to your fork of the GitHub repo.\n",
        "=========\n"
      ]
    },
    {
      "cell_type": "code",
      "metadata": {
        "id": "Jla8sBwyTNjm",
        "colab_type": "code",
        "colab": {}
      },
      "source": [
        ""
      ],
      "execution_count": 0,
      "outputs": []
    },
    {
      "cell_type": "code",
      "metadata": {
        "id": "L21aapLgTIJ3",
        "colab_type": "code",
        "colab": {}
      },
      "source": [
        ""
      ],
      "execution_count": 0,
      "outputs": []
    }
  ]
}