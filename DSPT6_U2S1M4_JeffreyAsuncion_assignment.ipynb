{
  "nbformat": 4,
  "nbformat_minor": 0,
  "metadata": {
    "kernelspec": {
      "display_name": "Python 3",
      "language": "python",
      "name": "python3"
    },
    "language_info": {
      "codemirror_mode": {
        "name": "ipython",
        "version": 3
      },
      "file_extension": ".py",
      "mimetype": "text/x-python",
      "name": "python",
      "nbconvert_exporter": "python",
      "pygments_lexer": "ipython3",
      "version": "3.7.3"
    },
    "colab": {
      "name": "DSPT6_U2S1M4_JeffreyAsuncion_assignment.ipynb",
      "provenance": [],
      "collapsed_sections": [
        "TABV_U4T8kNr",
        "M1yP8Wp7j0ad",
        "HR5mtHe16hbh",
        "uU2qjrH785ne",
        "1w_3NyP0BEFQ",
        "k_bsePjW0MAX",
        "m6ZYEG5Hz7wW"
      ],
      "include_colab_link": true
    }
  },
  "cells": [
    {
      "cell_type": "markdown",
      "metadata": {
        "id": "view-in-github",
        "colab_type": "text"
      },
      "source": [
        "<a href=\"https://colab.research.google.com/github/JeffreyAsuncion/DS-Unit-2-Linear-Models/blob/master/DSPT6_U2S1M4_JeffreyAsuncion_assignment.ipynb\" target=\"_parent\"><img src=\"https://colab.research.google.com/assets/colab-badge.svg\" alt=\"Open In Colab\"/></a>"
      ]
    },
    {
      "cell_type": "markdown",
      "metadata": {
        "id": "inG9K1OsMMd1",
        "colab_type": "text"
      },
      "source": [
        "Lambda School Data Science\n",
        "\n",
        "*Unit 2, Sprint 1, Module 4*\n",
        "\n",
        "---"
      ]
    },
    {
      "cell_type": "markdown",
      "metadata": {
        "colab_type": "text",
        "id": "7IXUfiQ2UKj6"
      },
      "source": [
        "# Logistic Regression\n",
        "\n",
        "\n",
        "## Assignment 🌯\n",
        "\n",
        "You'll use a [**dataset of 400+ burrito reviews**](https://srcole.github.io/100burritos/). How accurately can you predict whether a burrito is rated 'Great'?\n",
        "\n",
        "> We have developed a 10-dimensional system for rating the burritos in San Diego. ... Generate models for what makes a burrito great and investigate correlations in its dimensions.\n",
        "\n",
        "- [X] Do train/validate/test split. Train on reviews from 2016 & earlier. Validate on 2017. Test on 2018 & later.\n",
        "- [ ] Begin with baselines for classification.\n",
        "- [ ] Use scikit-learn for logistic regression.\n",
        "- [ ] Get your model's validation accuracy. (Multiple times if you try multiple iterations.)\n",
        "- [ ] Get your model's test accuracy. (One time, at the end.)\n",
        "- [ ] Commit your notebook to your fork of the GitHub repo.\n",
        "\n",
        "\n",
        "## Stretch Goals\n",
        "\n",
        "- [ ] Add your own stretch goal(s) !\n",
        "- [ ] Make exploratory visualizations.\n",
        "- [ ] Do one-hot encoding.\n",
        "- [ ] Do [feature scaling](https://scikit-learn.org/stable/modules/preprocessing.html).\n",
        "- [ ] Get and plot your coefficients.\n",
        "- [ ] Try [scikit-learn pipelines](https://scikit-learn.org/stable/modules/compose.html)."
      ]
    },
    {
      "cell_type": "markdown",
      "metadata": {
        "id": "TABV_U4T8kNr",
        "colab_type": "text"
      },
      "source": [
        "Read in Data and SetUp from assigment\n",
        "==============\n"
      ]
    },
    {
      "cell_type": "code",
      "metadata": {
        "colab_type": "code",
        "id": "o9eSnDYhUGD7",
        "colab": {}
      },
      "source": [
        "%%capture\n",
        "import sys\n",
        "\n",
        "# If you're on Colab:\n",
        "if 'google.colab' in sys.modules:\n",
        "    DATA_PATH = 'https://raw.githubusercontent.com/LambdaSchool/DS-Unit-2-Linear-Models/master/data/'\n",
        "    !pip install category_encoders==2.*\n",
        "\n",
        "# If you're working locally:\n",
        "else:\n",
        "    DATA_PATH = '../data/'"
      ],
      "execution_count": 0,
      "outputs": []
    },
    {
      "cell_type": "code",
      "metadata": {
        "id": "rPRl9Re_MMeH",
        "colab_type": "code",
        "colab": {}
      },
      "source": [
        "# Load data downloaded from https://srcole.github.io/100burritos/\n",
        "import pandas as pd\n",
        "df = pd.read_csv(DATA_PATH+'burritos/burritos.csv')"
      ],
      "execution_count": 0,
      "outputs": []
    },
    {
      "cell_type": "code",
      "metadata": {
        "id": "oHge851EMMeR",
        "colab_type": "code",
        "colab": {}
      },
      "source": [
        "# Derive binary classification target:\n",
        "# We define a 'Great' burrito as having an\n",
        "# overall rating of 4 or higher, on a 5 point scale.\n",
        "# Drop unrated burritos.\n",
        "df = df.dropna(subset=['overall'])\n",
        "df['Great'] = df['overall'] >= 4"
      ],
      "execution_count": 0,
      "outputs": []
    },
    {
      "cell_type": "code",
      "metadata": {
        "id": "_wGYgWnUMMeZ",
        "colab_type": "code",
        "colab": {}
      },
      "source": [
        "# Clean/combine the Burrito categories\n",
        "df['Burrito'] = df['Burrito'].str.lower()\n",
        "\n",
        "california = df['Burrito'].str.contains('california')\n",
        "asada = df['Burrito'].str.contains('asada')\n",
        "surf = df['Burrito'].str.contains('surf')\n",
        "carnitas = df['Burrito'].str.contains('carnitas')\n",
        "\n",
        "df.loc[california, 'Burrito'] = 'California'\n",
        "df.loc[asada, 'Burrito'] = 'Asada'\n",
        "df.loc[surf, 'Burrito'] = 'Surf & Turf'\n",
        "df.loc[carnitas, 'Burrito'] = 'Carnitas'\n",
        "df.loc[~california & ~asada & ~surf & ~carnitas, 'Burrito'] = 'Other'"
      ],
      "execution_count": 0,
      "outputs": []
    },
    {
      "cell_type": "code",
      "metadata": {
        "id": "l2IvNmPuMMef",
        "colab_type": "code",
        "colab": {}
      },
      "source": [
        "# Drop some high cardinality categoricals\n",
        "df = df.drop(columns=['Notes', 'Location', 'Reviewer', 'Address', 'URL', 'Neighborhood'])"
      ],
      "execution_count": 0,
      "outputs": []
    },
    {
      "cell_type": "code",
      "metadata": {
        "id": "ufNDv-wKMMem",
        "colab_type": "code",
        "colab": {}
      },
      "source": [
        "# Drop some columns to prevent \"leakage\"\n",
        "df = df.drop(columns=['Rec', 'overall'])"
      ],
      "execution_count": 0,
      "outputs": []
    },
    {
      "cell_type": "markdown",
      "metadata": {
        "id": "M1yP8Wp7j0ad",
        "colab_type": "text"
      },
      "source": [
        "Do train/validate/test split.\n",
        "===========\n",
        "- Train on reviews from 2016 & earlier. \n",
        "- Validate on 2017. \n",
        "- Test on 2018 & later."
      ]
    },
    {
      "cell_type": "code",
      "metadata": {
        "id": "xHM7g8F2MMet",
        "colab_type": "code",
        "outputId": "6fbdef2a-ed53-4a62-e51c-41637e5d2e19",
        "colab": {
          "base_uri": "https://localhost:8080/",
          "height": 164
        }
      },
      "source": [
        "df=df.copy()\n",
        "print(df.shape)\n",
        "df.head(2)"
      ],
      "execution_count": 57,
      "outputs": [
        {
          "output_type": "stream",
          "text": [
            "(421, 59)\n"
          ],
          "name": "stdout"
        },
        {
          "output_type": "execute_result",
          "data": {
            "text/html": [
              "<div>\n",
              "<style scoped>\n",
              "    .dataframe tbody tr th:only-of-type {\n",
              "        vertical-align: middle;\n",
              "    }\n",
              "\n",
              "    .dataframe tbody tr th {\n",
              "        vertical-align: top;\n",
              "    }\n",
              "\n",
              "    .dataframe thead th {\n",
              "        text-align: right;\n",
              "    }\n",
              "</style>\n",
              "<table border=\"1\" class=\"dataframe\">\n",
              "  <thead>\n",
              "    <tr style=\"text-align: right;\">\n",
              "      <th></th>\n",
              "      <th>Burrito</th>\n",
              "      <th>Date</th>\n",
              "      <th>Yelp</th>\n",
              "      <th>Google</th>\n",
              "      <th>Chips</th>\n",
              "      <th>Cost</th>\n",
              "      <th>Hunger</th>\n",
              "      <th>Mass (g)</th>\n",
              "      <th>Density (g/mL)</th>\n",
              "      <th>Length</th>\n",
              "      <th>Circum</th>\n",
              "      <th>Volume</th>\n",
              "      <th>Tortilla</th>\n",
              "      <th>Temp</th>\n",
              "      <th>Meat</th>\n",
              "      <th>Fillings</th>\n",
              "      <th>Meat:filling</th>\n",
              "      <th>Uniformity</th>\n",
              "      <th>Salsa</th>\n",
              "      <th>Synergy</th>\n",
              "      <th>Wrap</th>\n",
              "      <th>Unreliable</th>\n",
              "      <th>NonSD</th>\n",
              "      <th>Beef</th>\n",
              "      <th>Pico</th>\n",
              "      <th>Guac</th>\n",
              "      <th>Cheese</th>\n",
              "      <th>Fries</th>\n",
              "      <th>Sour cream</th>\n",
              "      <th>Pork</th>\n",
              "      <th>Chicken</th>\n",
              "      <th>Shrimp</th>\n",
              "      <th>Fish</th>\n",
              "      <th>Rice</th>\n",
              "      <th>Beans</th>\n",
              "      <th>Lettuce</th>\n",
              "      <th>Tomato</th>\n",
              "      <th>Bell peper</th>\n",
              "      <th>Carrots</th>\n",
              "      <th>Cabbage</th>\n",
              "      <th>Sauce</th>\n",
              "      <th>Salsa.1</th>\n",
              "      <th>Cilantro</th>\n",
              "      <th>Onion</th>\n",
              "      <th>Taquito</th>\n",
              "      <th>Pineapple</th>\n",
              "      <th>Ham</th>\n",
              "      <th>Chile relleno</th>\n",
              "      <th>Nopales</th>\n",
              "      <th>Lobster</th>\n",
              "      <th>Queso</th>\n",
              "      <th>Egg</th>\n",
              "      <th>Mushroom</th>\n",
              "      <th>Bacon</th>\n",
              "      <th>Sushi</th>\n",
              "      <th>Avocado</th>\n",
              "      <th>Corn</th>\n",
              "      <th>Zucchini</th>\n",
              "      <th>Great</th>\n",
              "    </tr>\n",
              "  </thead>\n",
              "  <tbody>\n",
              "    <tr>\n",
              "      <th>0</th>\n",
              "      <td>California</td>\n",
              "      <td>1/18/2016</td>\n",
              "      <td>3.5</td>\n",
              "      <td>4.2</td>\n",
              "      <td>NaN</td>\n",
              "      <td>6.49</td>\n",
              "      <td>3.0</td>\n",
              "      <td>NaN</td>\n",
              "      <td>NaN</td>\n",
              "      <td>NaN</td>\n",
              "      <td>NaN</td>\n",
              "      <td>NaN</td>\n",
              "      <td>3.0</td>\n",
              "      <td>5.0</td>\n",
              "      <td>3.0</td>\n",
              "      <td>3.5</td>\n",
              "      <td>4.0</td>\n",
              "      <td>4.0</td>\n",
              "      <td>4.0</td>\n",
              "      <td>4.0</td>\n",
              "      <td>4.0</td>\n",
              "      <td>NaN</td>\n",
              "      <td>NaN</td>\n",
              "      <td>x</td>\n",
              "      <td>x</td>\n",
              "      <td>x</td>\n",
              "      <td>x</td>\n",
              "      <td>x</td>\n",
              "      <td>NaN</td>\n",
              "      <td>NaN</td>\n",
              "      <td>NaN</td>\n",
              "      <td>NaN</td>\n",
              "      <td>NaN</td>\n",
              "      <td>NaN</td>\n",
              "      <td>NaN</td>\n",
              "      <td>NaN</td>\n",
              "      <td>NaN</td>\n",
              "      <td>NaN</td>\n",
              "      <td>NaN</td>\n",
              "      <td>NaN</td>\n",
              "      <td>NaN</td>\n",
              "      <td>NaN</td>\n",
              "      <td>NaN</td>\n",
              "      <td>NaN</td>\n",
              "      <td>NaN</td>\n",
              "      <td>NaN</td>\n",
              "      <td>NaN</td>\n",
              "      <td>NaN</td>\n",
              "      <td>NaN</td>\n",
              "      <td>NaN</td>\n",
              "      <td>NaN</td>\n",
              "      <td>NaN</td>\n",
              "      <td>NaN</td>\n",
              "      <td>NaN</td>\n",
              "      <td>NaN</td>\n",
              "      <td>NaN</td>\n",
              "      <td>NaN</td>\n",
              "      <td>NaN</td>\n",
              "      <td>False</td>\n",
              "    </tr>\n",
              "    <tr>\n",
              "      <th>1</th>\n",
              "      <td>California</td>\n",
              "      <td>1/24/2016</td>\n",
              "      <td>3.5</td>\n",
              "      <td>3.3</td>\n",
              "      <td>NaN</td>\n",
              "      <td>5.45</td>\n",
              "      <td>3.5</td>\n",
              "      <td>NaN</td>\n",
              "      <td>NaN</td>\n",
              "      <td>NaN</td>\n",
              "      <td>NaN</td>\n",
              "      <td>NaN</td>\n",
              "      <td>2.0</td>\n",
              "      <td>3.5</td>\n",
              "      <td>2.5</td>\n",
              "      <td>2.5</td>\n",
              "      <td>2.0</td>\n",
              "      <td>4.0</td>\n",
              "      <td>3.5</td>\n",
              "      <td>2.5</td>\n",
              "      <td>5.0</td>\n",
              "      <td>NaN</td>\n",
              "      <td>NaN</td>\n",
              "      <td>x</td>\n",
              "      <td>x</td>\n",
              "      <td>x</td>\n",
              "      <td>x</td>\n",
              "      <td>x</td>\n",
              "      <td>NaN</td>\n",
              "      <td>NaN</td>\n",
              "      <td>NaN</td>\n",
              "      <td>NaN</td>\n",
              "      <td>NaN</td>\n",
              "      <td>NaN</td>\n",
              "      <td>NaN</td>\n",
              "      <td>NaN</td>\n",
              "      <td>NaN</td>\n",
              "      <td>NaN</td>\n",
              "      <td>NaN</td>\n",
              "      <td>NaN</td>\n",
              "      <td>NaN</td>\n",
              "      <td>NaN</td>\n",
              "      <td>NaN</td>\n",
              "      <td>NaN</td>\n",
              "      <td>NaN</td>\n",
              "      <td>NaN</td>\n",
              "      <td>NaN</td>\n",
              "      <td>NaN</td>\n",
              "      <td>NaN</td>\n",
              "      <td>NaN</td>\n",
              "      <td>NaN</td>\n",
              "      <td>NaN</td>\n",
              "      <td>NaN</td>\n",
              "      <td>NaN</td>\n",
              "      <td>NaN</td>\n",
              "      <td>NaN</td>\n",
              "      <td>NaN</td>\n",
              "      <td>NaN</td>\n",
              "      <td>False</td>\n",
              "    </tr>\n",
              "  </tbody>\n",
              "</table>\n",
              "</div>"
            ],
            "text/plain": [
              "      Burrito       Date  Yelp  Google Chips  ...  Sushi  Avocado  Corn  Zucchini  Great\n",
              "0  California  1/18/2016   3.5     4.2   NaN  ...    NaN      NaN   NaN       NaN  False\n",
              "1  California  1/24/2016   3.5     3.3   NaN  ...    NaN      NaN   NaN       NaN  False\n",
              "\n",
              "[2 rows x 59 columns]"
            ]
          },
          "metadata": {
            "tags": []
          },
          "execution_count": 57
        }
      ]
    },
    {
      "cell_type": "code",
      "metadata": {
        "id": "J6RDc_J--tl0",
        "colab_type": "code",
        "colab": {}
      },
      "source": [
        "# map 'Great' to binary \n",
        "df['Great'] = df['Great'].replace({True  : 1,\n",
        "                                   False : 0})"
      ],
      "execution_count": 0,
      "outputs": []
    },
    {
      "cell_type": "code",
      "metadata": {
        "id": "r1V6CuV6QVPY",
        "colab_type": "code",
        "colab": {}
      },
      "source": [
        "# After EDA, we find the following columns are uniformly Zero(0)\n",
        "# Drop \n",
        "#df['Mass (g)', 'Density (g/mL)', 'Queso']\n",
        "df = df.drop(columns=['Mass (g)', 'Density (g/mL)', 'Queso'])"
      ],
      "execution_count": 0,
      "outputs": []
    },
    {
      "cell_type": "code",
      "metadata": {
        "id": "nGkccmaA12dS",
        "colab_type": "code",
        "colab": {}
      },
      "source": [
        "# After EDA, 'Date' is a str pd.to_datetime\n",
        "# convert 'Date' from str to datetime\n",
        "df[\"Date\"]= pd.to_datetime(df[\"Date\"])"
      ],
      "execution_count": 0,
      "outputs": []
    },
    {
      "cell_type": "code",
      "metadata": {
        "id": "m_Z-zXFETxs4",
        "colab_type": "code",
        "colab": {}
      },
      "source": [
        "# # After EDA, Categorical Variables\n",
        "# import numpy as np\n",
        "# df = df.replace(np.NaN,0)\n",
        "\n",
        "# this is my attempt to give a ranking to the x and X when it comes to adding fillers\n",
        "df = df.replace('x',5)\n",
        "df = df.replace('X',10)"
      ],
      "execution_count": 0,
      "outputs": []
    },
    {
      "cell_type": "code",
      "metadata": {
        "id": "0Or3ZT_NiscR",
        "colab_type": "code",
        "outputId": "73f3fe93-6f1b-4782-f553-3ce95338e460",
        "colab": {
          "base_uri": "https://localhost:8080/",
          "height": 35
        }
      },
      "source": [
        "train = df[df['Date'] < '1/1/2017']\n",
        "val = df[(df['Date'] >= '1/1/2017') & (df['Date'] < '1/1/2018')]\n",
        "test = df[df['Date'] >= '1/1/2018']\n",
        "print(train.shape, val.shape, test.shape)"
      ],
      "execution_count": 62,
      "outputs": [
        {
          "output_type": "stream",
          "text": [
            "(298, 56) (85, 56) (38, 56)\n"
          ],
          "name": "stdout"
        }
      ]
    },
    {
      "cell_type": "code",
      "metadata": {
        "id": "tYnDJcWY3NWZ",
        "colab_type": "code",
        "outputId": "f6c533e0-5d10-4265-8ad1-f19aa5b8f0d0",
        "colab": {
          "base_uri": "https://localhost:8080/",
          "height": 322
        }
      },
      "source": [
        "train.sample(5)"
      ],
      "execution_count": 63,
      "outputs": [
        {
          "output_type": "execute_result",
          "data": {
            "text/html": [
              "<div>\n",
              "<style scoped>\n",
              "    .dataframe tbody tr th:only-of-type {\n",
              "        vertical-align: middle;\n",
              "    }\n",
              "\n",
              "    .dataframe tbody tr th {\n",
              "        vertical-align: top;\n",
              "    }\n",
              "\n",
              "    .dataframe thead th {\n",
              "        text-align: right;\n",
              "    }\n",
              "</style>\n",
              "<table border=\"1\" class=\"dataframe\">\n",
              "  <thead>\n",
              "    <tr style=\"text-align: right;\">\n",
              "      <th></th>\n",
              "      <th>Burrito</th>\n",
              "      <th>Date</th>\n",
              "      <th>Yelp</th>\n",
              "      <th>Google</th>\n",
              "      <th>Chips</th>\n",
              "      <th>Cost</th>\n",
              "      <th>Hunger</th>\n",
              "      <th>Length</th>\n",
              "      <th>Circum</th>\n",
              "      <th>Volume</th>\n",
              "      <th>Tortilla</th>\n",
              "      <th>Temp</th>\n",
              "      <th>Meat</th>\n",
              "      <th>Fillings</th>\n",
              "      <th>Meat:filling</th>\n",
              "      <th>Uniformity</th>\n",
              "      <th>Salsa</th>\n",
              "      <th>Synergy</th>\n",
              "      <th>Wrap</th>\n",
              "      <th>Unreliable</th>\n",
              "      <th>NonSD</th>\n",
              "      <th>Beef</th>\n",
              "      <th>Pico</th>\n",
              "      <th>Guac</th>\n",
              "      <th>Cheese</th>\n",
              "      <th>Fries</th>\n",
              "      <th>Sour cream</th>\n",
              "      <th>Pork</th>\n",
              "      <th>Chicken</th>\n",
              "      <th>Shrimp</th>\n",
              "      <th>Fish</th>\n",
              "      <th>Rice</th>\n",
              "      <th>Beans</th>\n",
              "      <th>Lettuce</th>\n",
              "      <th>Tomato</th>\n",
              "      <th>Bell peper</th>\n",
              "      <th>Carrots</th>\n",
              "      <th>Cabbage</th>\n",
              "      <th>Sauce</th>\n",
              "      <th>Salsa.1</th>\n",
              "      <th>Cilantro</th>\n",
              "      <th>Onion</th>\n",
              "      <th>Taquito</th>\n",
              "      <th>Pineapple</th>\n",
              "      <th>Ham</th>\n",
              "      <th>Chile relleno</th>\n",
              "      <th>Nopales</th>\n",
              "      <th>Lobster</th>\n",
              "      <th>Egg</th>\n",
              "      <th>Mushroom</th>\n",
              "      <th>Bacon</th>\n",
              "      <th>Sushi</th>\n",
              "      <th>Avocado</th>\n",
              "      <th>Corn</th>\n",
              "      <th>Zucchini</th>\n",
              "      <th>Great</th>\n",
              "    </tr>\n",
              "  </thead>\n",
              "  <tbody>\n",
              "    <tr>\n",
              "      <th>200</th>\n",
              "      <td>Surf &amp; Turf</td>\n",
              "      <td>2016-08-30</td>\n",
              "      <td>NaN</td>\n",
              "      <td>NaN</td>\n",
              "      <td>NaN</td>\n",
              "      <td>8.25</td>\n",
              "      <td>4.0</td>\n",
              "      <td>18.5</td>\n",
              "      <td>25.5</td>\n",
              "      <td>0.96</td>\n",
              "      <td>3.5</td>\n",
              "      <td>2.0</td>\n",
              "      <td>4.0</td>\n",
              "      <td>3.0</td>\n",
              "      <td>5.0</td>\n",
              "      <td>5.0</td>\n",
              "      <td>4.0</td>\n",
              "      <td>4.0</td>\n",
              "      <td>5.0</td>\n",
              "      <td>NaN</td>\n",
              "      <td>NaN</td>\n",
              "      <td>5.0</td>\n",
              "      <td>5.0</td>\n",
              "      <td>NaN</td>\n",
              "      <td>5.0</td>\n",
              "      <td>5.0</td>\n",
              "      <td>NaN</td>\n",
              "      <td>NaN</td>\n",
              "      <td>NaN</td>\n",
              "      <td>5.0</td>\n",
              "      <td>NaN</td>\n",
              "      <td>NaN</td>\n",
              "      <td>NaN</td>\n",
              "      <td>NaN</td>\n",
              "      <td>NaN</td>\n",
              "      <td>NaN</td>\n",
              "      <td>NaN</td>\n",
              "      <td>NaN</td>\n",
              "      <td>5.0</td>\n",
              "      <td>NaN</td>\n",
              "      <td>NaN</td>\n",
              "      <td>NaN</td>\n",
              "      <td>NaN</td>\n",
              "      <td>NaN</td>\n",
              "      <td>NaN</td>\n",
              "      <td>NaN</td>\n",
              "      <td>NaN</td>\n",
              "      <td>NaN</td>\n",
              "      <td>NaN</td>\n",
              "      <td>NaN</td>\n",
              "      <td>NaN</td>\n",
              "      <td>NaN</td>\n",
              "      <td>5.0</td>\n",
              "      <td>NaN</td>\n",
              "      <td>NaN</td>\n",
              "      <td>0</td>\n",
              "    </tr>\n",
              "    <tr>\n",
              "      <th>156</th>\n",
              "      <td>California</td>\n",
              "      <td>2016-06-23</td>\n",
              "      <td>NaN</td>\n",
              "      <td>NaN</td>\n",
              "      <td>NaN</td>\n",
              "      <td>7.00</td>\n",
              "      <td>3.5</td>\n",
              "      <td>18.0</td>\n",
              "      <td>23.5</td>\n",
              "      <td>0.79</td>\n",
              "      <td>4.0</td>\n",
              "      <td>4.0</td>\n",
              "      <td>4.0</td>\n",
              "      <td>3.0</td>\n",
              "      <td>4.0</td>\n",
              "      <td>5.0</td>\n",
              "      <td>4.0</td>\n",
              "      <td>4.0</td>\n",
              "      <td>5.0</td>\n",
              "      <td>NaN</td>\n",
              "      <td>NaN</td>\n",
              "      <td>5.0</td>\n",
              "      <td>NaN</td>\n",
              "      <td>NaN</td>\n",
              "      <td>5.0</td>\n",
              "      <td>5.0</td>\n",
              "      <td>5.0</td>\n",
              "      <td>NaN</td>\n",
              "      <td>NaN</td>\n",
              "      <td>NaN</td>\n",
              "      <td>NaN</td>\n",
              "      <td>NaN</td>\n",
              "      <td>NaN</td>\n",
              "      <td>NaN</td>\n",
              "      <td>NaN</td>\n",
              "      <td>NaN</td>\n",
              "      <td>NaN</td>\n",
              "      <td>NaN</td>\n",
              "      <td>NaN</td>\n",
              "      <td>NaN</td>\n",
              "      <td>NaN</td>\n",
              "      <td>NaN</td>\n",
              "      <td>NaN</td>\n",
              "      <td>NaN</td>\n",
              "      <td>NaN</td>\n",
              "      <td>NaN</td>\n",
              "      <td>NaN</td>\n",
              "      <td>NaN</td>\n",
              "      <td>NaN</td>\n",
              "      <td>NaN</td>\n",
              "      <td>NaN</td>\n",
              "      <td>NaN</td>\n",
              "      <td>NaN</td>\n",
              "      <td>NaN</td>\n",
              "      <td>NaN</td>\n",
              "      <td>1</td>\n",
              "    </tr>\n",
              "    <tr>\n",
              "      <th>43</th>\n",
              "      <td>Other</td>\n",
              "      <td>2016-03-20</td>\n",
              "      <td>NaN</td>\n",
              "      <td>NaN</td>\n",
              "      <td>NaN</td>\n",
              "      <td>5.99</td>\n",
              "      <td>3.0</td>\n",
              "      <td>NaN</td>\n",
              "      <td>NaN</td>\n",
              "      <td>NaN</td>\n",
              "      <td>4.0</td>\n",
              "      <td>3.5</td>\n",
              "      <td>3.5</td>\n",
              "      <td>4.0</td>\n",
              "      <td>3.5</td>\n",
              "      <td>3.5</td>\n",
              "      <td>2.0</td>\n",
              "      <td>3.5</td>\n",
              "      <td>0.5</td>\n",
              "      <td>NaN</td>\n",
              "      <td>NaN</td>\n",
              "      <td>5.0</td>\n",
              "      <td>NaN</td>\n",
              "      <td>NaN</td>\n",
              "      <td>NaN</td>\n",
              "      <td>NaN</td>\n",
              "      <td>NaN</td>\n",
              "      <td>NaN</td>\n",
              "      <td>NaN</td>\n",
              "      <td>NaN</td>\n",
              "      <td>NaN</td>\n",
              "      <td>NaN</td>\n",
              "      <td>NaN</td>\n",
              "      <td>NaN</td>\n",
              "      <td>NaN</td>\n",
              "      <td>5.0</td>\n",
              "      <td>NaN</td>\n",
              "      <td>NaN</td>\n",
              "      <td>NaN</td>\n",
              "      <td>NaN</td>\n",
              "      <td>NaN</td>\n",
              "      <td>5.0</td>\n",
              "      <td>NaN</td>\n",
              "      <td>NaN</td>\n",
              "      <td>NaN</td>\n",
              "      <td>NaN</td>\n",
              "      <td>NaN</td>\n",
              "      <td>NaN</td>\n",
              "      <td>5.0</td>\n",
              "      <td>NaN</td>\n",
              "      <td>NaN</td>\n",
              "      <td>NaN</td>\n",
              "      <td>NaN</td>\n",
              "      <td>NaN</td>\n",
              "      <td>NaN</td>\n",
              "      <td>0</td>\n",
              "    </tr>\n",
              "    <tr>\n",
              "      <th>215</th>\n",
              "      <td>California</td>\n",
              "      <td>2016-08-30</td>\n",
              "      <td>NaN</td>\n",
              "      <td>NaN</td>\n",
              "      <td>NaN</td>\n",
              "      <td>7.50</td>\n",
              "      <td>4.0</td>\n",
              "      <td>20.0</td>\n",
              "      <td>23.5</td>\n",
              "      <td>0.88</td>\n",
              "      <td>3.5</td>\n",
              "      <td>2.5</td>\n",
              "      <td>3.0</td>\n",
              "      <td>4.5</td>\n",
              "      <td>3.0</td>\n",
              "      <td>2.0</td>\n",
              "      <td>5.0</td>\n",
              "      <td>4.5</td>\n",
              "      <td>3.5</td>\n",
              "      <td>NaN</td>\n",
              "      <td>NaN</td>\n",
              "      <td>NaN</td>\n",
              "      <td>5.0</td>\n",
              "      <td>5.0</td>\n",
              "      <td>5.0</td>\n",
              "      <td>5.0</td>\n",
              "      <td>5.0</td>\n",
              "      <td>NaN</td>\n",
              "      <td>5.0</td>\n",
              "      <td>NaN</td>\n",
              "      <td>NaN</td>\n",
              "      <td>NaN</td>\n",
              "      <td>NaN</td>\n",
              "      <td>NaN</td>\n",
              "      <td>NaN</td>\n",
              "      <td>NaN</td>\n",
              "      <td>NaN</td>\n",
              "      <td>NaN</td>\n",
              "      <td>NaN</td>\n",
              "      <td>NaN</td>\n",
              "      <td>NaN</td>\n",
              "      <td>NaN</td>\n",
              "      <td>NaN</td>\n",
              "      <td>NaN</td>\n",
              "      <td>NaN</td>\n",
              "      <td>NaN</td>\n",
              "      <td>NaN</td>\n",
              "      <td>NaN</td>\n",
              "      <td>NaN</td>\n",
              "      <td>NaN</td>\n",
              "      <td>NaN</td>\n",
              "      <td>NaN</td>\n",
              "      <td>NaN</td>\n",
              "      <td>NaN</td>\n",
              "      <td>NaN</td>\n",
              "      <td>0</td>\n",
              "    </tr>\n",
              "    <tr>\n",
              "      <th>219</th>\n",
              "      <td>Other</td>\n",
              "      <td>2016-08-30</td>\n",
              "      <td>NaN</td>\n",
              "      <td>NaN</td>\n",
              "      <td>NaN</td>\n",
              "      <td>7.50</td>\n",
              "      <td>4.0</td>\n",
              "      <td>17.5</td>\n",
              "      <td>21.2</td>\n",
              "      <td>0.63</td>\n",
              "      <td>5.0</td>\n",
              "      <td>3.0</td>\n",
              "      <td>5.0</td>\n",
              "      <td>5.0</td>\n",
              "      <td>3.0</td>\n",
              "      <td>2.0</td>\n",
              "      <td>2.0</td>\n",
              "      <td>3.0</td>\n",
              "      <td>5.0</td>\n",
              "      <td>NaN</td>\n",
              "      <td>NaN</td>\n",
              "      <td>NaN</td>\n",
              "      <td>NaN</td>\n",
              "      <td>NaN</td>\n",
              "      <td>5.0</td>\n",
              "      <td>NaN</td>\n",
              "      <td>5.0</td>\n",
              "      <td>NaN</td>\n",
              "      <td>5.0</td>\n",
              "      <td>NaN</td>\n",
              "      <td>NaN</td>\n",
              "      <td>5.0</td>\n",
              "      <td>NaN</td>\n",
              "      <td>NaN</td>\n",
              "      <td>NaN</td>\n",
              "      <td>NaN</td>\n",
              "      <td>NaN</td>\n",
              "      <td>NaN</td>\n",
              "      <td>5.0</td>\n",
              "      <td>NaN</td>\n",
              "      <td>NaN</td>\n",
              "      <td>NaN</td>\n",
              "      <td>NaN</td>\n",
              "      <td>NaN</td>\n",
              "      <td>NaN</td>\n",
              "      <td>NaN</td>\n",
              "      <td>NaN</td>\n",
              "      <td>NaN</td>\n",
              "      <td>NaN</td>\n",
              "      <td>NaN</td>\n",
              "      <td>NaN</td>\n",
              "      <td>NaN</td>\n",
              "      <td>NaN</td>\n",
              "      <td>NaN</td>\n",
              "      <td>NaN</td>\n",
              "      <td>1</td>\n",
              "    </tr>\n",
              "  </tbody>\n",
              "</table>\n",
              "</div>"
            ],
            "text/plain": [
              "         Burrito       Date  Yelp  Google  ... Avocado  Corn  Zucchini  Great\n",
              "200  Surf & Turf 2016-08-30   NaN     NaN  ...     5.0   NaN       NaN      0\n",
              "156   California 2016-06-23   NaN     NaN  ...     NaN   NaN       NaN      1\n",
              "43         Other 2016-03-20   NaN     NaN  ...     NaN   NaN       NaN      0\n",
              "215   California 2016-08-30   NaN     NaN  ...     NaN   NaN       NaN      0\n",
              "219        Other 2016-08-30   NaN     NaN  ...     NaN   NaN       NaN      1\n",
              "\n",
              "[5 rows x 56 columns]"
            ]
          },
          "metadata": {
            "tags": []
          },
          "execution_count": 63
        }
      ]
    },
    {
      "cell_type": "code",
      "metadata": {
        "id": "w7LlSP493r0K",
        "colab_type": "code",
        "colab": {}
      },
      "source": [
        "#val.sample(2)"
      ],
      "execution_count": 0,
      "outputs": []
    },
    {
      "cell_type": "code",
      "metadata": {
        "id": "1yauAmWE51aY",
        "colab_type": "code",
        "colab": {}
      },
      "source": [
        "#test.sample(2)"
      ],
      "execution_count": 0,
      "outputs": []
    },
    {
      "cell_type": "markdown",
      "metadata": {
        "id": "HR5mtHe16hbh",
        "colab_type": "text"
      },
      "source": [
        "Begin with baselines for classification.\n",
        "========\n"
      ]
    },
    {
      "cell_type": "code",
      "metadata": {
        "id": "Dtna6hOw55Mk",
        "colab_type": "code",
        "outputId": "4ced9e4b-5421-4500-d55f-2dcd0792afb9",
        "colab": {
          "base_uri": "https://localhost:8080/",
          "height": 199
        }
      },
      "source": [
        "train.columns"
      ],
      "execution_count": 66,
      "outputs": [
        {
          "output_type": "execute_result",
          "data": {
            "text/plain": [
              "Index(['Burrito', 'Date', 'Yelp', 'Google', 'Chips', 'Cost', 'Hunger',\n",
              "       'Length', 'Circum', 'Volume', 'Tortilla', 'Temp', 'Meat', 'Fillings',\n",
              "       'Meat:filling', 'Uniformity', 'Salsa', 'Synergy', 'Wrap', 'Unreliable',\n",
              "       'NonSD', 'Beef', 'Pico', 'Guac', 'Cheese', 'Fries', 'Sour cream',\n",
              "       'Pork', 'Chicken', 'Shrimp', 'Fish', 'Rice', 'Beans', 'Lettuce',\n",
              "       'Tomato', 'Bell peper', 'Carrots', 'Cabbage', 'Sauce', 'Salsa.1',\n",
              "       'Cilantro', 'Onion', 'Taquito', 'Pineapple', 'Ham', 'Chile relleno',\n",
              "       'Nopales', 'Lobster', 'Egg', 'Mushroom', 'Bacon', 'Sushi', 'Avocado',\n",
              "       'Corn', 'Zucchini', 'Great'],\n",
              "      dtype='object')"
            ]
          },
          "metadata": {
            "tags": []
          },
          "execution_count": 66
        }
      ]
    },
    {
      "cell_type": "markdown",
      "metadata": {
        "id": "9sHnl3H9AzwF",
        "colab_type": "text"
      },
      "source": [
        "Determine majority class\n"
      ]
    },
    {
      "cell_type": "code",
      "metadata": {
        "id": "cGja4jDzAG0E",
        "colab_type": "code",
        "outputId": "1d0cf82f-c5fa-4886-8f26-edea370e11e2",
        "colab": {
          "base_uri": "https://localhost:8080/",
          "height": 72
        }
      },
      "source": [
        "# Determine majority class\n",
        "target = 'Great'\n",
        "\n",
        "y_train = train[target]\n",
        "y_val = val[target]\n",
        "y_test = test[target]\n",
        "\n",
        "y_train.value_counts(normalize=True) # gives us percentages"
      ],
      "execution_count": 67,
      "outputs": [
        {
          "output_type": "execute_result",
          "data": {
            "text/plain": [
              "0    0.590604\n",
              "1    0.409396\n",
              "Name: Great, dtype: float64"
            ]
          },
          "metadata": {
            "tags": []
          },
          "execution_count": 67
        }
      ]
    },
    {
      "cell_type": "code",
      "metadata": {
        "id": "jWs9b7Qu6meH",
        "colab_type": "code",
        "outputId": "65e01fee-8957-455d-e7e3-ec2bd7f7330c",
        "colab": {
          "base_uri": "https://localhost:8080/",
          "height": 334
        }
      },
      "source": [
        "import seaborn as sns\n",
        "# the visual communcation of information is almost more important\n",
        "# that your abilities to comminicate it in comments\n",
        "print(y_train.value_counts(normalize=True))\n",
        "sns.countplot(y_train);"
      ],
      "execution_count": 68,
      "outputs": [
        {
          "output_type": "stream",
          "text": [
            "0    0.590604\n",
            "1    0.409396\n",
            "Name: Great, dtype: float64\n"
          ],
          "name": "stdout"
        },
        {
          "output_type": "display_data",
          "data": {
            "image/png": "[encoded data removed]",
            "text/plain": [
              "<Figure size 432x288 with 1 Axes>"
            ]
          },
          "metadata": {
            "tags": [],
            "needs_background": "light"
          }
        }
      ]
    },
    {
      "cell_type": "markdown",
      "metadata": {
        "id": "NjOJDgxrB40c",
        "colab_type": "text"
      },
      "source": [
        "What if we guessed the majority class for every prediction?"
      ]
    },
    {
      "cell_type": "code",
      "metadata": {
        "id": "XGnMaE3vB-Nl",
        "colab_type": "code",
        "outputId": "faf7b337-e80d-4f29-aeab-47e5979e26bd",
        "colab": {
          "base_uri": "https://localhost:8080/",
          "height": 35
        }
      },
      "source": [
        "majority_class = y_train.mode()[0] #what is the mode - the most common in column[0] \n",
        "majority_class"
      ],
      "execution_count": 69,
      "outputs": [
        {
          "output_type": "execute_result",
          "data": {
            "text/plain": [
              "0"
            ]
          },
          "metadata": {
            "tags": []
          },
          "execution_count": 69
        }
      ]
    },
    {
      "cell_type": "code",
      "metadata": {
        "id": "4JwaHsnx5dPr",
        "colab_type": "code",
        "colab": {}
      },
      "source": [
        "y_pred = [majority_class]  * len(y_train) # assume each one NOT GREAT\n",
        "#y_pred"
      ],
      "execution_count": 0,
      "outputs": []
    },
    {
      "cell_type": "markdown",
      "metadata": {
        "id": "3ruxnQxgCfKN",
        "colab_type": "text"
      },
      "source": [
        "What is the baseline accuracy if we guessed the majority class for every prediction?"
      ]
    },
    {
      "cell_type": "code",
      "metadata": {
        "id": "KMIsatQOCgkk",
        "colab_type": "code",
        "outputId": "0337c47f-5e23-4f44-a34c-641385634464",
        "colab": {
          "base_uri": "https://localhost:8080/",
          "height": 35
        }
      },
      "source": [
        "from sklearn.metrics import accuracy_score\n",
        "\n",
        "baseline_train_accuracy_score = accuracy_score(y_train, y_pred)\n",
        "baseline_train_accuracy_score"
      ],
      "execution_count": 71,
      "outputs": [
        {
          "output_type": "execute_result",
          "data": {
            "text/plain": [
              "0.5906040268456376"
            ]
          },
          "metadata": {
            "tags": []
          },
          "execution_count": 71
        }
      ]
    },
    {
      "cell_type": "code",
      "metadata": {
        "id": "5Xr2tCvgClRq",
        "colab_type": "code",
        "outputId": "7c003945-1b1b-4cdb-d267-9d3487862687",
        "colab": {
          "base_uri": "https://localhost:8080/",
          "height": 35
        }
      },
      "source": [
        "y_val = val[target]\n",
        "y_pred = [majority_class]  * len(y_val) # assume \n",
        "baseline_val_accuracy_score = accuracy_score(y_val, y_pred)\n",
        "baseline_val_accuracy_score"
      ],
      "execution_count": 72,
      "outputs": [
        {
          "output_type": "execute_result",
          "data": {
            "text/plain": [
              "0.5529411764705883"
            ]
          },
          "metadata": {
            "tags": []
          },
          "execution_count": 72
        }
      ]
    },
    {
      "cell_type": "markdown",
      "metadata": {
        "id": "uU2qjrH785ne",
        "colab_type": "text"
      },
      "source": [
        "Use scikit-learn for logistic regression.\n",
        "=========\n"
      ]
    },
    {
      "cell_type": "code",
      "metadata": {
        "id": "FTzdEBus6mEt",
        "colab_type": "code",
        "outputId": "5ea8da6f-da1d-4224-cab4-37c76354724e",
        "colab": {
          "base_uri": "https://localhost:8080/",
          "height": 1000
        }
      },
      "source": [
        "# During Intial EDA, we dropped the columns with uniform Zero (0) values\n",
        "train.describe(include='number').T"
      ],
      "execution_count": 73,
      "outputs": [
        {
          "output_type": "execute_result",
          "data": {
            "text/html": [
              "<div>\n",
              "<style scoped>\n",
              "    .dataframe tbody tr th:only-of-type {\n",
              "        vertical-align: middle;\n",
              "    }\n",
              "\n",
              "    .dataframe tbody tr th {\n",
              "        vertical-align: top;\n",
              "    }\n",
              "\n",
              "    .dataframe thead th {\n",
              "        text-align: right;\n",
              "    }\n",
              "</style>\n",
              "<table border=\"1\" class=\"dataframe\">\n",
              "  <thead>\n",
              "    <tr style=\"text-align: right;\">\n",
              "      <th></th>\n",
              "      <th>count</th>\n",
              "      <th>mean</th>\n",
              "      <th>std</th>\n",
              "      <th>min</th>\n",
              "      <th>25%</th>\n",
              "      <th>50%</th>\n",
              "      <th>75%</th>\n",
              "      <th>max</th>\n",
              "    </tr>\n",
              "  </thead>\n",
              "  <tbody>\n",
              "    <tr>\n",
              "      <th>Yelp</th>\n",
              "      <td>71.0</td>\n",
              "      <td>3.897183</td>\n",
              "      <td>0.478680</td>\n",
              "      <td>2.50</td>\n",
              "      <td>3.5000</td>\n",
              "      <td>4.00</td>\n",
              "      <td>4.00</td>\n",
              "      <td>4.50</td>\n",
              "    </tr>\n",
              "    <tr>\n",
              "      <th>Google</th>\n",
              "      <td>71.0</td>\n",
              "      <td>4.142254</td>\n",
              "      <td>0.371738</td>\n",
              "      <td>2.90</td>\n",
              "      <td>4.0000</td>\n",
              "      <td>4.20</td>\n",
              "      <td>4.40</td>\n",
              "      <td>4.90</td>\n",
              "    </tr>\n",
              "    <tr>\n",
              "      <th>Cost</th>\n",
              "      <td>292.0</td>\n",
              "      <td>6.896781</td>\n",
              "      <td>1.211412</td>\n",
              "      <td>2.99</td>\n",
              "      <td>6.2500</td>\n",
              "      <td>6.85</td>\n",
              "      <td>7.50</td>\n",
              "      <td>11.95</td>\n",
              "    </tr>\n",
              "    <tr>\n",
              "      <th>Hunger</th>\n",
              "      <td>297.0</td>\n",
              "      <td>3.445286</td>\n",
              "      <td>0.852150</td>\n",
              "      <td>0.50</td>\n",
              "      <td>3.0000</td>\n",
              "      <td>3.50</td>\n",
              "      <td>4.00</td>\n",
              "      <td>5.00</td>\n",
              "    </tr>\n",
              "    <tr>\n",
              "      <th>Length</th>\n",
              "      <td>175.0</td>\n",
              "      <td>19.829886</td>\n",
              "      <td>2.081275</td>\n",
              "      <td>15.00</td>\n",
              "      <td>18.5000</td>\n",
              "      <td>19.50</td>\n",
              "      <td>21.00</td>\n",
              "      <td>26.00</td>\n",
              "    </tr>\n",
              "    <tr>\n",
              "      <th>Circum</th>\n",
              "      <td>174.0</td>\n",
              "      <td>22.042241</td>\n",
              "      <td>1.685043</td>\n",
              "      <td>17.00</td>\n",
              "      <td>21.0000</td>\n",
              "      <td>22.00</td>\n",
              "      <td>23.00</td>\n",
              "      <td>27.00</td>\n",
              "    </tr>\n",
              "    <tr>\n",
              "      <th>Volume</th>\n",
              "      <td>174.0</td>\n",
              "      <td>0.770920</td>\n",
              "      <td>0.137833</td>\n",
              "      <td>0.40</td>\n",
              "      <td>0.6625</td>\n",
              "      <td>0.75</td>\n",
              "      <td>0.87</td>\n",
              "      <td>1.24</td>\n",
              "    </tr>\n",
              "    <tr>\n",
              "      <th>Tortilla</th>\n",
              "      <td>298.0</td>\n",
              "      <td>3.472315</td>\n",
              "      <td>0.797606</td>\n",
              "      <td>1.40</td>\n",
              "      <td>3.0000</td>\n",
              "      <td>3.50</td>\n",
              "      <td>4.00</td>\n",
              "      <td>5.00</td>\n",
              "    </tr>\n",
              "    <tr>\n",
              "      <th>Temp</th>\n",
              "      <td>283.0</td>\n",
              "      <td>3.706360</td>\n",
              "      <td>0.991897</td>\n",
              "      <td>1.00</td>\n",
              "      <td>3.0000</td>\n",
              "      <td>4.00</td>\n",
              "      <td>4.50</td>\n",
              "      <td>5.00</td>\n",
              "    </tr>\n",
              "    <tr>\n",
              "      <th>Meat</th>\n",
              "      <td>288.0</td>\n",
              "      <td>3.551215</td>\n",
              "      <td>0.869483</td>\n",
              "      <td>1.00</td>\n",
              "      <td>3.0000</td>\n",
              "      <td>3.50</td>\n",
              "      <td>4.00</td>\n",
              "      <td>5.00</td>\n",
              "    </tr>\n",
              "    <tr>\n",
              "      <th>Fillings</th>\n",
              "      <td>297.0</td>\n",
              "      <td>3.519024</td>\n",
              "      <td>0.850348</td>\n",
              "      <td>1.00</td>\n",
              "      <td>3.0000</td>\n",
              "      <td>3.50</td>\n",
              "      <td>4.00</td>\n",
              "      <td>5.00</td>\n",
              "    </tr>\n",
              "    <tr>\n",
              "      <th>Meat:filling</th>\n",
              "      <td>292.0</td>\n",
              "      <td>3.528870</td>\n",
              "      <td>1.040457</td>\n",
              "      <td>0.50</td>\n",
              "      <td>3.0000</td>\n",
              "      <td>4.00</td>\n",
              "      <td>4.00</td>\n",
              "      <td>5.00</td>\n",
              "    </tr>\n",
              "    <tr>\n",
              "      <th>Uniformity</th>\n",
              "      <td>296.0</td>\n",
              "      <td>3.395946</td>\n",
              "      <td>1.089044</td>\n",
              "      <td>1.00</td>\n",
              "      <td>2.5000</td>\n",
              "      <td>3.50</td>\n",
              "      <td>4.00</td>\n",
              "      <td>5.00</td>\n",
              "    </tr>\n",
              "    <tr>\n",
              "      <th>Salsa</th>\n",
              "      <td>278.0</td>\n",
              "      <td>3.324640</td>\n",
              "      <td>0.971226</td>\n",
              "      <td>0.00</td>\n",
              "      <td>2.5000</td>\n",
              "      <td>3.50</td>\n",
              "      <td>4.00</td>\n",
              "      <td>5.00</td>\n",
              "    </tr>\n",
              "    <tr>\n",
              "      <th>Synergy</th>\n",
              "      <td>296.0</td>\n",
              "      <td>3.540203</td>\n",
              "      <td>0.922426</td>\n",
              "      <td>1.00</td>\n",
              "      <td>3.0000</td>\n",
              "      <td>3.75</td>\n",
              "      <td>4.00</td>\n",
              "      <td>5.00</td>\n",
              "    </tr>\n",
              "    <tr>\n",
              "      <th>Wrap</th>\n",
              "      <td>296.0</td>\n",
              "      <td>3.955068</td>\n",
              "      <td>1.167341</td>\n",
              "      <td>0.00</td>\n",
              "      <td>3.5000</td>\n",
              "      <td>4.00</td>\n",
              "      <td>5.00</td>\n",
              "      <td>5.00</td>\n",
              "    </tr>\n",
              "    <tr>\n",
              "      <th>Unreliable</th>\n",
              "      <td>27.0</td>\n",
              "      <td>5.000000</td>\n",
              "      <td>0.000000</td>\n",
              "      <td>5.00</td>\n",
              "      <td>5.0000</td>\n",
              "      <td>5.00</td>\n",
              "      <td>5.00</td>\n",
              "      <td>5.00</td>\n",
              "    </tr>\n",
              "    <tr>\n",
              "      <th>NonSD</th>\n",
              "      <td>5.0</td>\n",
              "      <td>7.000000</td>\n",
              "      <td>2.738613</td>\n",
              "      <td>5.00</td>\n",
              "      <td>5.0000</td>\n",
              "      <td>5.00</td>\n",
              "      <td>10.00</td>\n",
              "      <td>10.00</td>\n",
              "    </tr>\n",
              "    <tr>\n",
              "      <th>Beef</th>\n",
              "      <td>168.0</td>\n",
              "      <td>6.130952</td>\n",
              "      <td>2.098073</td>\n",
              "      <td>5.00</td>\n",
              "      <td>5.0000</td>\n",
              "      <td>5.00</td>\n",
              "      <td>5.00</td>\n",
              "      <td>10.00</td>\n",
              "    </tr>\n",
              "    <tr>\n",
              "      <th>Pico</th>\n",
              "      <td>143.0</td>\n",
              "      <td>5.979021</td>\n",
              "      <td>1.991066</td>\n",
              "      <td>5.00</td>\n",
              "      <td>5.0000</td>\n",
              "      <td>5.00</td>\n",
              "      <td>5.00</td>\n",
              "      <td>10.00</td>\n",
              "    </tr>\n",
              "    <tr>\n",
              "      <th>Guac</th>\n",
              "      <td>139.0</td>\n",
              "      <td>6.366906</td>\n",
              "      <td>2.236534</td>\n",
              "      <td>5.00</td>\n",
              "      <td>5.0000</td>\n",
              "      <td>5.00</td>\n",
              "      <td>10.00</td>\n",
              "      <td>10.00</td>\n",
              "    </tr>\n",
              "    <tr>\n",
              "      <th>Cheese</th>\n",
              "      <td>149.0</td>\n",
              "      <td>5.939597</td>\n",
              "      <td>1.959827</td>\n",
              "      <td>5.00</td>\n",
              "      <td>5.0000</td>\n",
              "      <td>5.00</td>\n",
              "      <td>5.00</td>\n",
              "      <td>10.00</td>\n",
              "    </tr>\n",
              "    <tr>\n",
              "      <th>Fries</th>\n",
              "      <td>119.0</td>\n",
              "      <td>5.924370</td>\n",
              "      <td>1.949184</td>\n",
              "      <td>5.00</td>\n",
              "      <td>5.0000</td>\n",
              "      <td>5.00</td>\n",
              "      <td>5.00</td>\n",
              "      <td>10.00</td>\n",
              "    </tr>\n",
              "    <tr>\n",
              "      <th>Sour cream</th>\n",
              "      <td>85.0</td>\n",
              "      <td>6.294118</td>\n",
              "      <td>2.202939</td>\n",
              "      <td>5.00</td>\n",
              "      <td>5.0000</td>\n",
              "      <td>5.00</td>\n",
              "      <td>10.00</td>\n",
              "      <td>10.00</td>\n",
              "    </tr>\n",
              "    <tr>\n",
              "      <th>Pork</th>\n",
              "      <td>43.0</td>\n",
              "      <td>6.627907</td>\n",
              "      <td>2.370687</td>\n",
              "      <td>5.00</td>\n",
              "      <td>5.0000</td>\n",
              "      <td>5.00</td>\n",
              "      <td>10.00</td>\n",
              "      <td>10.00</td>\n",
              "    </tr>\n",
              "    <tr>\n",
              "      <th>Chicken</th>\n",
              "      <td>20.0</td>\n",
              "      <td>5.250000</td>\n",
              "      <td>1.118034</td>\n",
              "      <td>5.00</td>\n",
              "      <td>5.0000</td>\n",
              "      <td>5.00</td>\n",
              "      <td>5.00</td>\n",
              "      <td>10.00</td>\n",
              "    </tr>\n",
              "    <tr>\n",
              "      <th>Shrimp</th>\n",
              "      <td>20.0</td>\n",
              "      <td>5.750000</td>\n",
              "      <td>1.831738</td>\n",
              "      <td>5.00</td>\n",
              "      <td>5.0000</td>\n",
              "      <td>5.00</td>\n",
              "      <td>5.00</td>\n",
              "      <td>10.00</td>\n",
              "    </tr>\n",
              "    <tr>\n",
              "      <th>Fish</th>\n",
              "      <td>5.0</td>\n",
              "      <td>7.000000</td>\n",
              "      <td>2.738613</td>\n",
              "      <td>5.00</td>\n",
              "      <td>5.0000</td>\n",
              "      <td>5.00</td>\n",
              "      <td>10.00</td>\n",
              "      <td>10.00</td>\n",
              "    </tr>\n",
              "    <tr>\n",
              "      <th>Rice</th>\n",
              "      <td>33.0</td>\n",
              "      <td>6.363636</td>\n",
              "      <td>2.261335</td>\n",
              "      <td>5.00</td>\n",
              "      <td>5.0000</td>\n",
              "      <td>5.00</td>\n",
              "      <td>10.00</td>\n",
              "      <td>10.00</td>\n",
              "    </tr>\n",
              "    <tr>\n",
              "      <th>Beans</th>\n",
              "      <td>32.0</td>\n",
              "      <td>6.250000</td>\n",
              "      <td>2.199707</td>\n",
              "      <td>5.00</td>\n",
              "      <td>5.0000</td>\n",
              "      <td>5.00</td>\n",
              "      <td>6.25</td>\n",
              "      <td>10.00</td>\n",
              "    </tr>\n",
              "    <tr>\n",
              "      <th>Lettuce</th>\n",
              "      <td>11.0</td>\n",
              "      <td>5.909091</td>\n",
              "      <td>2.022600</td>\n",
              "      <td>5.00</td>\n",
              "      <td>5.0000</td>\n",
              "      <td>5.00</td>\n",
              "      <td>5.00</td>\n",
              "      <td>10.00</td>\n",
              "    </tr>\n",
              "    <tr>\n",
              "      <th>Tomato</th>\n",
              "      <td>7.0</td>\n",
              "      <td>6.428571</td>\n",
              "      <td>2.439750</td>\n",
              "      <td>5.00</td>\n",
              "      <td>5.0000</td>\n",
              "      <td>5.00</td>\n",
              "      <td>7.50</td>\n",
              "      <td>10.00</td>\n",
              "    </tr>\n",
              "    <tr>\n",
              "      <th>Bell peper</th>\n",
              "      <td>7.0</td>\n",
              "      <td>7.142857</td>\n",
              "      <td>2.672612</td>\n",
              "      <td>5.00</td>\n",
              "      <td>5.0000</td>\n",
              "      <td>5.00</td>\n",
              "      <td>10.00</td>\n",
              "      <td>10.00</td>\n",
              "    </tr>\n",
              "    <tr>\n",
              "      <th>Carrots</th>\n",
              "      <td>1.0</td>\n",
              "      <td>5.000000</td>\n",
              "      <td>NaN</td>\n",
              "      <td>5.00</td>\n",
              "      <td>5.0000</td>\n",
              "      <td>5.00</td>\n",
              "      <td>5.00</td>\n",
              "      <td>5.00</td>\n",
              "    </tr>\n",
              "    <tr>\n",
              "      <th>Cabbage</th>\n",
              "      <td>7.0</td>\n",
              "      <td>6.428571</td>\n",
              "      <td>2.439750</td>\n",
              "      <td>5.00</td>\n",
              "      <td>5.0000</td>\n",
              "      <td>5.00</td>\n",
              "      <td>7.50</td>\n",
              "      <td>10.00</td>\n",
              "    </tr>\n",
              "    <tr>\n",
              "      <th>Sauce</th>\n",
              "      <td>37.0</td>\n",
              "      <td>5.540541</td>\n",
              "      <td>1.574000</td>\n",
              "      <td>5.00</td>\n",
              "      <td>5.0000</td>\n",
              "      <td>5.00</td>\n",
              "      <td>5.00</td>\n",
              "      <td>10.00</td>\n",
              "    </tr>\n",
              "    <tr>\n",
              "      <th>Salsa.1</th>\n",
              "      <td>6.0</td>\n",
              "      <td>5.833333</td>\n",
              "      <td>2.041241</td>\n",
              "      <td>5.00</td>\n",
              "      <td>5.0000</td>\n",
              "      <td>5.00</td>\n",
              "      <td>5.00</td>\n",
              "      <td>10.00</td>\n",
              "    </tr>\n",
              "    <tr>\n",
              "      <th>Cilantro</th>\n",
              "      <td>15.0</td>\n",
              "      <td>7.000000</td>\n",
              "      <td>2.535463</td>\n",
              "      <td>5.00</td>\n",
              "      <td>5.0000</td>\n",
              "      <td>5.00</td>\n",
              "      <td>10.00</td>\n",
              "      <td>10.00</td>\n",
              "    </tr>\n",
              "    <tr>\n",
              "      <th>Onion</th>\n",
              "      <td>17.0</td>\n",
              "      <td>7.352941</td>\n",
              "      <td>2.572479</td>\n",
              "      <td>5.00</td>\n",
              "      <td>5.0000</td>\n",
              "      <td>5.00</td>\n",
              "      <td>10.00</td>\n",
              "      <td>10.00</td>\n",
              "    </tr>\n",
              "    <tr>\n",
              "      <th>Taquito</th>\n",
              "      <td>4.0</td>\n",
              "      <td>6.250000</td>\n",
              "      <td>2.500000</td>\n",
              "      <td>5.00</td>\n",
              "      <td>5.0000</td>\n",
              "      <td>5.00</td>\n",
              "      <td>6.25</td>\n",
              "      <td>10.00</td>\n",
              "    </tr>\n",
              "    <tr>\n",
              "      <th>Pineapple</th>\n",
              "      <td>7.0</td>\n",
              "      <td>6.428571</td>\n",
              "      <td>2.439750</td>\n",
              "      <td>5.00</td>\n",
              "      <td>5.0000</td>\n",
              "      <td>5.00</td>\n",
              "      <td>7.50</td>\n",
              "      <td>10.00</td>\n",
              "    </tr>\n",
              "    <tr>\n",
              "      <th>Ham</th>\n",
              "      <td>1.0</td>\n",
              "      <td>5.000000</td>\n",
              "      <td>NaN</td>\n",
              "      <td>5.00</td>\n",
              "      <td>5.0000</td>\n",
              "      <td>5.00</td>\n",
              "      <td>5.00</td>\n",
              "      <td>5.00</td>\n",
              "    </tr>\n",
              "    <tr>\n",
              "      <th>Chile relleno</th>\n",
              "      <td>4.0</td>\n",
              "      <td>5.000000</td>\n",
              "      <td>0.000000</td>\n",
              "      <td>5.00</td>\n",
              "      <td>5.0000</td>\n",
              "      <td>5.00</td>\n",
              "      <td>5.00</td>\n",
              "      <td>5.00</td>\n",
              "    </tr>\n",
              "    <tr>\n",
              "      <th>Nopales</th>\n",
              "      <td>4.0</td>\n",
              "      <td>5.000000</td>\n",
              "      <td>0.000000</td>\n",
              "      <td>5.00</td>\n",
              "      <td>5.0000</td>\n",
              "      <td>5.00</td>\n",
              "      <td>5.00</td>\n",
              "      <td>5.00</td>\n",
              "    </tr>\n",
              "    <tr>\n",
              "      <th>Lobster</th>\n",
              "      <td>1.0</td>\n",
              "      <td>5.000000</td>\n",
              "      <td>NaN</td>\n",
              "      <td>5.00</td>\n",
              "      <td>5.0000</td>\n",
              "      <td>5.00</td>\n",
              "      <td>5.00</td>\n",
              "      <td>5.00</td>\n",
              "    </tr>\n",
              "    <tr>\n",
              "      <th>Egg</th>\n",
              "      <td>4.0</td>\n",
              "      <td>5.000000</td>\n",
              "      <td>0.000000</td>\n",
              "      <td>5.00</td>\n",
              "      <td>5.0000</td>\n",
              "      <td>5.00</td>\n",
              "      <td>5.00</td>\n",
              "      <td>5.00</td>\n",
              "    </tr>\n",
              "    <tr>\n",
              "      <th>Mushroom</th>\n",
              "      <td>3.0</td>\n",
              "      <td>5.000000</td>\n",
              "      <td>0.000000</td>\n",
              "      <td>5.00</td>\n",
              "      <td>5.0000</td>\n",
              "      <td>5.00</td>\n",
              "      <td>5.00</td>\n",
              "      <td>5.00</td>\n",
              "    </tr>\n",
              "    <tr>\n",
              "      <th>Bacon</th>\n",
              "      <td>3.0</td>\n",
              "      <td>5.000000</td>\n",
              "      <td>0.000000</td>\n",
              "      <td>5.00</td>\n",
              "      <td>5.0000</td>\n",
              "      <td>5.00</td>\n",
              "      <td>5.00</td>\n",
              "      <td>5.00</td>\n",
              "    </tr>\n",
              "    <tr>\n",
              "      <th>Sushi</th>\n",
              "      <td>2.0</td>\n",
              "      <td>5.000000</td>\n",
              "      <td>0.000000</td>\n",
              "      <td>5.00</td>\n",
              "      <td>5.0000</td>\n",
              "      <td>5.00</td>\n",
              "      <td>5.00</td>\n",
              "      <td>5.00</td>\n",
              "    </tr>\n",
              "    <tr>\n",
              "      <th>Avocado</th>\n",
              "      <td>13.0</td>\n",
              "      <td>5.000000</td>\n",
              "      <td>0.000000</td>\n",
              "      <td>5.00</td>\n",
              "      <td>5.0000</td>\n",
              "      <td>5.00</td>\n",
              "      <td>5.00</td>\n",
              "      <td>5.00</td>\n",
              "    </tr>\n",
              "    <tr>\n",
              "      <th>Corn</th>\n",
              "      <td>2.0</td>\n",
              "      <td>7.500000</td>\n",
              "      <td>3.535534</td>\n",
              "      <td>5.00</td>\n",
              "      <td>6.2500</td>\n",
              "      <td>7.50</td>\n",
              "      <td>8.75</td>\n",
              "      <td>10.00</td>\n",
              "    </tr>\n",
              "    <tr>\n",
              "      <th>Zucchini</th>\n",
              "      <td>1.0</td>\n",
              "      <td>5.000000</td>\n",
              "      <td>NaN</td>\n",
              "      <td>5.00</td>\n",
              "      <td>5.0000</td>\n",
              "      <td>5.00</td>\n",
              "      <td>5.00</td>\n",
              "      <td>5.00</td>\n",
              "    </tr>\n",
              "    <tr>\n",
              "      <th>Great</th>\n",
              "      <td>298.0</td>\n",
              "      <td>0.409396</td>\n",
              "      <td>0.492550</td>\n",
              "      <td>0.00</td>\n",
              "      <td>0.0000</td>\n",
              "      <td>0.00</td>\n",
              "      <td>1.00</td>\n",
              "      <td>1.00</td>\n",
              "    </tr>\n",
              "  </tbody>\n",
              "</table>\n",
              "</div>"
            ],
            "text/plain": [
              "               count       mean       std    min      25%    50%    75%    max\n",
              "Yelp            71.0   3.897183  0.478680   2.50   3.5000   4.00   4.00   4.50\n",
              "Google          71.0   4.142254  0.371738   2.90   4.0000   4.20   4.40   4.90\n",
              "Cost           292.0   6.896781  1.211412   2.99   6.2500   6.85   7.50  11.95\n",
              "Hunger         297.0   3.445286  0.852150   0.50   3.0000   3.50   4.00   5.00\n",
              "Length         175.0  19.829886  2.081275  15.00  18.5000  19.50  21.00  26.00\n",
              "Circum         174.0  22.042241  1.685043  17.00  21.0000  22.00  23.00  27.00\n",
              "Volume         174.0   0.770920  0.137833   0.40   0.6625   0.75   0.87   1.24\n",
              "Tortilla       298.0   3.472315  0.797606   1.40   3.0000   3.50   4.00   5.00\n",
              "Temp           283.0   3.706360  0.991897   1.00   3.0000   4.00   4.50   5.00\n",
              "Meat           288.0   3.551215  0.869483   1.00   3.0000   3.50   4.00   5.00\n",
              "Fillings       297.0   3.519024  0.850348   1.00   3.0000   3.50   4.00   5.00\n",
              "Meat:filling   292.0   3.528870  1.040457   0.50   3.0000   4.00   4.00   5.00\n",
              "Uniformity     296.0   3.395946  1.089044   1.00   2.5000   3.50   4.00   5.00\n",
              "Salsa          278.0   3.324640  0.971226   0.00   2.5000   3.50   4.00   5.00\n",
              "Synergy        296.0   3.540203  0.922426   1.00   3.0000   3.75   4.00   5.00\n",
              "Wrap           296.0   3.955068  1.167341   0.00   3.5000   4.00   5.00   5.00\n",
              "Unreliable      27.0   5.000000  0.000000   5.00   5.0000   5.00   5.00   5.00\n",
              "NonSD            5.0   7.000000  2.738613   5.00   5.0000   5.00  10.00  10.00\n",
              "Beef           168.0   6.130952  2.098073   5.00   5.0000   5.00   5.00  10.00\n",
              "Pico           143.0   5.979021  1.991066   5.00   5.0000   5.00   5.00  10.00\n",
              "Guac           139.0   6.366906  2.236534   5.00   5.0000   5.00  10.00  10.00\n",
              "Cheese         149.0   5.939597  1.959827   5.00   5.0000   5.00   5.00  10.00\n",
              "Fries          119.0   5.924370  1.949184   5.00   5.0000   5.00   5.00  10.00\n",
              "Sour cream      85.0   6.294118  2.202939   5.00   5.0000   5.00  10.00  10.00\n",
              "Pork            43.0   6.627907  2.370687   5.00   5.0000   5.00  10.00  10.00\n",
              "Chicken         20.0   5.250000  1.118034   5.00   5.0000   5.00   5.00  10.00\n",
              "Shrimp          20.0   5.750000  1.831738   5.00   5.0000   5.00   5.00  10.00\n",
              "Fish             5.0   7.000000  2.738613   5.00   5.0000   5.00  10.00  10.00\n",
              "Rice            33.0   6.363636  2.261335   5.00   5.0000   5.00  10.00  10.00\n",
              "Beans           32.0   6.250000  2.199707   5.00   5.0000   5.00   6.25  10.00\n",
              "Lettuce         11.0   5.909091  2.022600   5.00   5.0000   5.00   5.00  10.00\n",
              "Tomato           7.0   6.428571  2.439750   5.00   5.0000   5.00   7.50  10.00\n",
              "Bell peper       7.0   7.142857  2.672612   5.00   5.0000   5.00  10.00  10.00\n",
              "Carrots          1.0   5.000000       NaN   5.00   5.0000   5.00   5.00   5.00\n",
              "Cabbage          7.0   6.428571  2.439750   5.00   5.0000   5.00   7.50  10.00\n",
              "Sauce           37.0   5.540541  1.574000   5.00   5.0000   5.00   5.00  10.00\n",
              "Salsa.1          6.0   5.833333  2.041241   5.00   5.0000   5.00   5.00  10.00\n",
              "Cilantro        15.0   7.000000  2.535463   5.00   5.0000   5.00  10.00  10.00\n",
              "Onion           17.0   7.352941  2.572479   5.00   5.0000   5.00  10.00  10.00\n",
              "Taquito          4.0   6.250000  2.500000   5.00   5.0000   5.00   6.25  10.00\n",
              "Pineapple        7.0   6.428571  2.439750   5.00   5.0000   5.00   7.50  10.00\n",
              "Ham              1.0   5.000000       NaN   5.00   5.0000   5.00   5.00   5.00\n",
              "Chile relleno    4.0   5.000000  0.000000   5.00   5.0000   5.00   5.00   5.00\n",
              "Nopales          4.0   5.000000  0.000000   5.00   5.0000   5.00   5.00   5.00\n",
              "Lobster          1.0   5.000000       NaN   5.00   5.0000   5.00   5.00   5.00\n",
              "Egg              4.0   5.000000  0.000000   5.00   5.0000   5.00   5.00   5.00\n",
              "Mushroom         3.0   5.000000  0.000000   5.00   5.0000   5.00   5.00   5.00\n",
              "Bacon            3.0   5.000000  0.000000   5.00   5.0000   5.00   5.00   5.00\n",
              "Sushi            2.0   5.000000  0.000000   5.00   5.0000   5.00   5.00   5.00\n",
              "Avocado         13.0   5.000000  0.000000   5.00   5.0000   5.00   5.00   5.00\n",
              "Corn             2.0   7.500000  3.535534   5.00   6.2500   7.50   8.75  10.00\n",
              "Zucchini         1.0   5.000000       NaN   5.00   5.0000   5.00   5.00   5.00\n",
              "Great          298.0   0.409396  0.492550   0.00   0.0000   0.00   1.00   1.00"
            ]
          },
          "metadata": {
            "tags": []
          },
          "execution_count": 73
        }
      ]
    },
    {
      "cell_type": "code",
      "metadata": {
        "id": "z6B8q_O8oGnc",
        "colab_type": "code",
        "outputId": "b5dff84f-606d-43c4-e7c0-323626a883d1",
        "colab": {
          "base_uri": "https://localhost:8080/",
          "height": 279
        }
      },
      "source": [
        "# note there are NaNs\n",
        "# how to deal with them\n",
        "\n",
        "column_header = train['Yelp']\n",
        "\n",
        "#print(column_header.value_counts())\n",
        "#print(column_header.mode())\n",
        "sns.countplot(column_header);"
      ],
      "execution_count": 74,
      "outputs": [
        {
          "output_type": "display_data",
          "data": {
            "image/png": "[encoded data removed]",
            "text/plain": [
              "<Figure size 432x288 with 1 Axes>"
            ]
          },
          "metadata": {
            "tags": [],
            "needs_background": "light"
          }
        }
      ]
    },
    {
      "cell_type": "code",
      "metadata": {
        "id": "3t7qM0q4oQ4F",
        "colab_type": "code",
        "outputId": "41485ad6-54c6-406a-8e3c-3e20f8b718da",
        "colab": {
          "base_uri": "https://localhost:8080/",
          "height": 279
        }
      },
      "source": [
        "column_header = train['Google']\n",
        "\n",
        "#print(column_header.value_counts())\n",
        "sns.countplot(column_header);"
      ],
      "execution_count": 75,
      "outputs": [
        {
          "output_type": "display_data",
          "data": {
            "image/png": "[encoded data removed]",
            "text/plain": [
              "<Figure size 432x288 with 1 Axes>"
            ]
          },
          "metadata": {
            "tags": [],
            "needs_background": "light"
          }
        }
      ]
    },
    {
      "cell_type": "code",
      "metadata": {
        "id": "wV0ykyb-88OE",
        "colab_type": "code",
        "outputId": "7bb3bec2-0c53-466f-842f-6d7ffbcf9af5",
        "colab": {
          "base_uri": "https://localhost:8080/",
          "height": 228
        }
      },
      "source": [
        "# After further EDA, the ingredients of the Burrito have three possible values\n",
        "#. 'x' - assuming reg amount of this ingredient\n",
        "#. 'X' - assuming eXtra amount of this ingredient\n",
        "#. NaT - assuming none of this ingredient\n",
        "train.describe(exclude='number')"
      ],
      "execution_count": 76,
      "outputs": [
        {
          "output_type": "execute_result",
          "data": {
            "text/html": [
              "<div>\n",
              "<style scoped>\n",
              "    .dataframe tbody tr th:only-of-type {\n",
              "        vertical-align: middle;\n",
              "    }\n",
              "\n",
              "    .dataframe tbody tr th {\n",
              "        vertical-align: top;\n",
              "    }\n",
              "\n",
              "    .dataframe thead th {\n",
              "        text-align: right;\n",
              "    }\n",
              "</style>\n",
              "<table border=\"1\" class=\"dataframe\">\n",
              "  <thead>\n",
              "    <tr style=\"text-align: right;\">\n",
              "      <th></th>\n",
              "      <th>Burrito</th>\n",
              "      <th>Date</th>\n",
              "      <th>Chips</th>\n",
              "    </tr>\n",
              "  </thead>\n",
              "  <tbody>\n",
              "    <tr>\n",
              "      <th>count</th>\n",
              "      <td>298</td>\n",
              "      <td>298</td>\n",
              "      <td>22.0</td>\n",
              "    </tr>\n",
              "    <tr>\n",
              "      <th>unique</th>\n",
              "      <td>5</td>\n",
              "      <td>110</td>\n",
              "      <td>2.0</td>\n",
              "    </tr>\n",
              "    <tr>\n",
              "      <th>top</th>\n",
              "      <td>California</td>\n",
              "      <td>2016-08-30 00:00:00</td>\n",
              "      <td>5.0</td>\n",
              "    </tr>\n",
              "    <tr>\n",
              "      <th>freq</th>\n",
              "      <td>118</td>\n",
              "      <td>29</td>\n",
              "      <td>19.0</td>\n",
              "    </tr>\n",
              "    <tr>\n",
              "      <th>first</th>\n",
              "      <td>NaN</td>\n",
              "      <td>2011-05-16 00:00:00</td>\n",
              "      <td>NaN</td>\n",
              "    </tr>\n",
              "    <tr>\n",
              "      <th>last</th>\n",
              "      <td>NaN</td>\n",
              "      <td>2016-12-15 00:00:00</td>\n",
              "      <td>NaN</td>\n",
              "    </tr>\n",
              "  </tbody>\n",
              "</table>\n",
              "</div>"
            ],
            "text/plain": [
              "           Burrito                 Date  Chips\n",
              "count          298                  298   22.0\n",
              "unique           5                  110    2.0\n",
              "top     California  2016-08-30 00:00:00    5.0\n",
              "freq           118                   29   19.0\n",
              "first          NaN  2011-05-16 00:00:00    NaN\n",
              "last           NaN  2016-12-15 00:00:00    NaN"
            ]
          },
          "metadata": {
            "tags": []
          },
          "execution_count": 76
        }
      ]
    },
    {
      "cell_type": "code",
      "metadata": {
        "id": "velTIlc-mbLa",
        "colab_type": "code",
        "outputId": "b739fda7-4a5b-4414-8647-23ca833819d0",
        "colab": {
          "base_uri": "https://localhost:8080/",
          "height": 35
        }
      },
      "source": [
        "train.describe(exclude='number').columns"
      ],
      "execution_count": 77,
      "outputs": [
        {
          "output_type": "execute_result",
          "data": {
            "text/plain": [
              "Index(['Burrito', 'Date', 'Chips'], dtype='object')"
            ]
          },
          "metadata": {
            "tags": []
          },
          "execution_count": 77
        }
      ]
    },
    {
      "cell_type": "code",
      "metadata": {
        "id": "4D9M8zmuM69S",
        "colab_type": "code",
        "outputId": "d858337f-2be2-4987-98af-418cc3d6f790",
        "colab": {
          "base_uri": "https://localhost:8080/",
          "height": 388
        }
      },
      "source": [
        "column_header = train['Burrito']\n",
        "\n",
        "print(column_header.value_counts(normalize=True))\n",
        "sns.countplot(column_header);"
      ],
      "execution_count": 78,
      "outputs": [
        {
          "output_type": "stream",
          "text": [
            "California     0.395973\n",
            "Other          0.369128\n",
            "Asada          0.117450\n",
            "Surf & Turf    0.070470\n",
            "Carnitas       0.046980\n",
            "Name: Burrito, dtype: float64\n"
          ],
          "name": "stdout"
        },
        {
          "output_type": "display_data",
          "data": {
            "image/png": "[encoded data removed]",
            "text/plain": [
              "<Figure size 432x288 with 1 Axes>"
            ]
          },
          "metadata": {
            "tags": [],
            "needs_background": "light"
          }
        }
      ]
    },
    {
      "cell_type": "code",
      "metadata": {
        "id": "gYmT9yJ5jtnn",
        "colab_type": "code",
        "outputId": "843b5867-a910-43be-a7ce-a119c569f725",
        "colab": {
          "base_uri": "https://localhost:8080/",
          "height": 334
        }
      },
      "source": [
        "column_header = train['Cheese']\n",
        "\n",
        "print(column_header.value_counts())\n",
        "sns.countplot(column_header);"
      ],
      "execution_count": 79,
      "outputs": [
        {
          "output_type": "stream",
          "text": [
            "5.0     121\n",
            "10.0     28\n",
            "Name: Cheese, dtype: int64\n"
          ],
          "name": "stdout"
        },
        {
          "output_type": "display_data",
          "data": {
            "image/png": "[encoded data removed]",
            "text/plain": [
              "<Figure size 432x288 with 1 Axes>"
            ]
          },
          "metadata": {
            "tags": [],
            "needs_background": "light"
          }
        }
      ]
    },
    {
      "cell_type": "code",
      "metadata": {
        "id": "YL6GRQDhNygv",
        "colab_type": "code",
        "outputId": "358d3483-ba41-41f5-8c8b-c98e0b78d447",
        "colab": {
          "base_uri": "https://localhost:8080/",
          "height": 334
        }
      },
      "source": [
        "column_header = train['NonSD']\n",
        "\n",
        "print(column_header.value_counts())\n",
        "sns.countplot(column_header);"
      ],
      "execution_count": 80,
      "outputs": [
        {
          "output_type": "stream",
          "text": [
            "5.0     3\n",
            "10.0    2\n",
            "Name: NonSD, dtype: int64\n"
          ],
          "name": "stdout"
        },
        {
          "output_type": "display_data",
          "data": {
            "image/png": "[encoded data removed]",
            "text/plain": [
              "<Figure size 432x288 with 1 Axes>"
            ]
          },
          "metadata": {
            "tags": [],
            "needs_background": "light"
          }
        }
      ]
    },
    {
      "cell_type": "code",
      "metadata": {
        "id": "ABpi2kUmVHw4",
        "colab_type": "code",
        "colab": {}
      },
      "source": [
        "# numerical values cleaned\n",
        "# categorical values NaN have been zero\n",
        "#. still have to encoded them OneHotEncoding or Ordina"
      ],
      "execution_count": 0,
      "outputs": []
    },
    {
      "cell_type": "markdown",
      "metadata": {
        "id": "cn-GL0wKYV_j",
        "colab_type": "text"
      },
      "source": [
        "https://scikit-learn.org/stable/modules/generated/sklearn.preprocessing.OrdinalEncoder.html#sklearn.preprocessing.OrdinalEncoder"
      ]
    },
    {
      "cell_type": "code",
      "metadata": {
        "id": "SR7CVNy3a5Zh",
        "colab_type": "code",
        "outputId": "d74cd498-f40a-42fd-9014-72cfc5f6031a",
        "colab": {
          "base_uri": "https://localhost:8080/",
          "height": 35
        }
      },
      "source": [
        "train.shape"
      ],
      "execution_count": 82,
      "outputs": [
        {
          "output_type": "execute_result",
          "data": {
            "text/plain": [
              "(298, 56)"
            ]
          },
          "metadata": {
            "tags": []
          },
          "execution_count": 82
        }
      ]
    },
    {
      "cell_type": "code",
      "metadata": {
        "id": "FMArp0GHa7Np",
        "colab_type": "code",
        "colab": {}
      },
      "source": [
        "# we have 56 columns above it state to create 10 dimensional model \n",
        "# 10 dimensions == 10 features\n",
        "#\n",
        "# Game Plan\n",
        "#. total_Ingredients\n",
        "#. use physical dimensions\n",
        "#. internet comments google and yelp"
      ],
      "execution_count": 0,
      "outputs": []
    },
    {
      "cell_type": "markdown",
      "metadata": {
        "id": "uJpdZCgrb1bJ",
        "colab_type": "text"
      },
      "source": [
        "Fit this sequence of transformers & estimator:\n",
        "\n",
        "- [category_encoders.one_hot.OneHotEncoder](https://contrib.scikit-learn.org/categorical-encoding/onehot.html)\n",
        "- [sklearn.impute.SimpleImputer](https://scikit-learn.org/stable/modules/generated/sklearn.impute.SimpleImputer.html)\n",
        "- [sklearn.preprocessing.StandardScaler](https://scikit-learn.org/stable/modules/generated/sklearn.preprocessing.StandardScaler.html)\n",
        "- [sklearn.linear_model.LogisticRegressionCV](https://scikit-learn.org/stable/modules/generated/sklearn.linear_model.LogisticRegressionCV.html)\n",
        "\n",
        "Get validation accuracy."
      ]
    },
    {
      "cell_type": "markdown",
      "metadata": {
        "id": "1w_3NyP0BEFQ",
        "colab_type": "text"
      },
      "source": [
        "### Logistic Regression! is Classification"
      ]
    },
    {
      "cell_type": "code",
      "metadata": {
        "id": "EKGcBScmu5et",
        "colab_type": "code",
        "colab": {}
      },
      "source": [
        "filler = ['Beef', 'Pico', 'Guac', 'Cheese', 'Fries', 'Sour cream',\n",
        "       'Pork', 'Chicken', 'Shrimp', 'Fish', 'Rice', 'Beans', 'Lettuce',\n",
        "       'Tomato', 'Bell peper', 'Carrots', 'Cabbage', 'Sauce', 'Salsa.1',\n",
        "       'Cilantro', 'Onion', 'Taquito', 'Pineapple', 'Ham', 'Chile relleno',\n",
        "       'Nopales', 'Lobster', 'Egg', 'Mushroom', 'Bacon', 'Sushi', 'Avocado',\n",
        "       'Corn', 'Zucchini']"
      ],
      "execution_count": 0,
      "outputs": []
    },
    {
      "cell_type": "code",
      "metadata": {
        "id": "K5eDK6u_P1_u",
        "colab_type": "code",
        "colab": {}
      },
      "source": [
        "train = train.copy()\n",
        "val = val.copy()\n",
        "test = test.copy()\n",
        "\n",
        "train['total_filler'] = train[filler].sum(axis=1)\n",
        "val['total_filler'] = val[filler].sum(axis=1)\n",
        "test['total_filler'] = test[filler].sum(axis=1)"
      ],
      "execution_count": 0,
      "outputs": []
    },
    {
      "cell_type": "code",
      "metadata": {
        "id": "A8JzWo_QtUFv",
        "colab_type": "code",
        "colab": {
          "base_uri": "https://localhost:8080/",
          "height": 198
        },
        "outputId": "c0a49a0f-469b-4d7d-a51b-5dd1ad3345c1"
      },
      "source": [
        "features = [ 'Cost', 'Hunger', 'Tortilla', 'Temp', 'Meat', 'Fillings',\n",
        "       'Meat:filling', 'Uniformity', 'Salsa', 'Synergy', 'Wrap', 'total_filler']\n",
        "       \n",
        "train[features].head()"
      ],
      "execution_count": 86,
      "outputs": [
        {
          "output_type": "execute_result",
          "data": {
            "text/html": [
              "<div>\n",
              "<style scoped>\n",
              "    .dataframe tbody tr th:only-of-type {\n",
              "        vertical-align: middle;\n",
              "    }\n",
              "\n",
              "    .dataframe tbody tr th {\n",
              "        vertical-align: top;\n",
              "    }\n",
              "\n",
              "    .dataframe thead th {\n",
              "        text-align: right;\n",
              "    }\n",
              "</style>\n",
              "<table border=\"1\" class=\"dataframe\">\n",
              "  <thead>\n",
              "    <tr style=\"text-align: right;\">\n",
              "      <th></th>\n",
              "      <th>Cost</th>\n",
              "      <th>Hunger</th>\n",
              "      <th>Tortilla</th>\n",
              "      <th>Temp</th>\n",
              "      <th>Meat</th>\n",
              "      <th>Fillings</th>\n",
              "      <th>Meat:filling</th>\n",
              "      <th>Uniformity</th>\n",
              "      <th>Salsa</th>\n",
              "      <th>Synergy</th>\n",
              "      <th>Wrap</th>\n",
              "      <th>total_filler</th>\n",
              "    </tr>\n",
              "  </thead>\n",
              "  <tbody>\n",
              "    <tr>\n",
              "      <th>0</th>\n",
              "      <td>6.49</td>\n",
              "      <td>3.0</td>\n",
              "      <td>3.0</td>\n",
              "      <td>5.0</td>\n",
              "      <td>3.0</td>\n",
              "      <td>3.5</td>\n",
              "      <td>4.0</td>\n",
              "      <td>4.0</td>\n",
              "      <td>4.0</td>\n",
              "      <td>4.0</td>\n",
              "      <td>4.0</td>\n",
              "      <td>25.0</td>\n",
              "    </tr>\n",
              "    <tr>\n",
              "      <th>1</th>\n",
              "      <td>5.45</td>\n",
              "      <td>3.5</td>\n",
              "      <td>2.0</td>\n",
              "      <td>3.5</td>\n",
              "      <td>2.5</td>\n",
              "      <td>2.5</td>\n",
              "      <td>2.0</td>\n",
              "      <td>4.0</td>\n",
              "      <td>3.5</td>\n",
              "      <td>2.5</td>\n",
              "      <td>5.0</td>\n",
              "      <td>25.0</td>\n",
              "    </tr>\n",
              "    <tr>\n",
              "      <th>2</th>\n",
              "      <td>4.85</td>\n",
              "      <td>1.5</td>\n",
              "      <td>3.0</td>\n",
              "      <td>2.0</td>\n",
              "      <td>2.5</td>\n",
              "      <td>3.0</td>\n",
              "      <td>4.5</td>\n",
              "      <td>4.0</td>\n",
              "      <td>3.0</td>\n",
              "      <td>3.0</td>\n",
              "      <td>5.0</td>\n",
              "      <td>15.0</td>\n",
              "    </tr>\n",
              "    <tr>\n",
              "      <th>3</th>\n",
              "      <td>5.25</td>\n",
              "      <td>2.0</td>\n",
              "      <td>3.0</td>\n",
              "      <td>2.0</td>\n",
              "      <td>3.5</td>\n",
              "      <td>3.0</td>\n",
              "      <td>4.0</td>\n",
              "      <td>5.0</td>\n",
              "      <td>4.0</td>\n",
              "      <td>4.0</td>\n",
              "      <td>5.0</td>\n",
              "      <td>15.0</td>\n",
              "    </tr>\n",
              "    <tr>\n",
              "      <th>4</th>\n",
              "      <td>6.59</td>\n",
              "      <td>4.0</td>\n",
              "      <td>4.0</td>\n",
              "      <td>5.0</td>\n",
              "      <td>4.0</td>\n",
              "      <td>3.5</td>\n",
              "      <td>4.5</td>\n",
              "      <td>5.0</td>\n",
              "      <td>2.5</td>\n",
              "      <td>4.5</td>\n",
              "      <td>4.0</td>\n",
              "      <td>20.0</td>\n",
              "    </tr>\n",
              "  </tbody>\n",
              "</table>\n",
              "</div>"
            ],
            "text/plain": [
              "   Cost  Hunger  Tortilla  Temp  ...  Salsa  Synergy  Wrap  total_filler\n",
              "0  6.49     3.0       3.0   5.0  ...    4.0      4.0   4.0          25.0\n",
              "1  5.45     3.5       2.0   3.5  ...    3.5      2.5   5.0          25.0\n",
              "2  4.85     1.5       3.0   2.0  ...    3.0      3.0   5.0          15.0\n",
              "3  5.25     2.0       3.0   2.0  ...    4.0      4.0   5.0          15.0\n",
              "4  6.59     4.0       4.0   5.0  ...    2.5      4.5   4.0          20.0\n",
              "\n",
              "[5 rows x 12 columns]"
            ]
          },
          "metadata": {
            "tags": []
          },
          "execution_count": 86
        }
      ]
    },
    {
      "cell_type": "code",
      "metadata": {
        "id": "Vl0cN5qMCLf0",
        "colab_type": "code",
        "colab": {}
      },
      "source": [
        "target = 'Great'\n",
        "\n",
        "X_train = train[features]\n",
        "y_train = train[target]\n",
        "\n",
        "X_val = val[features]\n",
        "y_val = val[target]\n",
        "\n",
        "X_test = test[features]\n",
        "y_test = test[target]\n",
        "\n",
        "X_train.shape, y_train.shape, X_val.shape, y_val.shape\n",
        "\n",
        "import category_encoders as ce\n",
        "from sklearn.impute import SimpleImputer\n",
        "from sklearn.linear_model import LogisticRegression\n",
        "from sklearn.preprocessing import StandardScaler"
      ],
      "execution_count": 0,
      "outputs": []
    },
    {
      "cell_type": "code",
      "metadata": {
        "id": "6V_KJmOhPqA0",
        "colab_type": "code",
        "outputId": "225fd8cf-09a3-4e55-b38f-25eb61f2ec4c",
        "colab": {
          "base_uri": "https://localhost:8080/",
          "height": 108
        }
      },
      "source": [
        "encoder = ce.OneHotEncoder(use_cat_names=True)\n",
        "\n",
        "X_train_encoded = encoder.fit_transform(X_train)\n",
        "X_val_encoded = encoder.transform(X_val)\n",
        "\n",
        "X_train_encoded.sample(2)"
      ],
      "execution_count": 88,
      "outputs": [
        {
          "output_type": "execute_result",
          "data": {
            "text/html": [
              "<div>\n",
              "<style scoped>\n",
              "    .dataframe tbody tr th:only-of-type {\n",
              "        vertical-align: middle;\n",
              "    }\n",
              "\n",
              "    .dataframe tbody tr th {\n",
              "        vertical-align: top;\n",
              "    }\n",
              "\n",
              "    .dataframe thead th {\n",
              "        text-align: right;\n",
              "    }\n",
              "</style>\n",
              "<table border=\"1\" class=\"dataframe\">\n",
              "  <thead>\n",
              "    <tr style=\"text-align: right;\">\n",
              "      <th></th>\n",
              "      <th>Cost</th>\n",
              "      <th>Hunger</th>\n",
              "      <th>Tortilla</th>\n",
              "      <th>Temp</th>\n",
              "      <th>Meat</th>\n",
              "      <th>Fillings</th>\n",
              "      <th>Meat:filling</th>\n",
              "      <th>Uniformity</th>\n",
              "      <th>Salsa</th>\n",
              "      <th>Synergy</th>\n",
              "      <th>Wrap</th>\n",
              "      <th>total_filler</th>\n",
              "    </tr>\n",
              "  </thead>\n",
              "  <tbody>\n",
              "    <tr>\n",
              "      <th>235</th>\n",
              "      <td>6.95</td>\n",
              "      <td>3.5</td>\n",
              "      <td>3.5</td>\n",
              "      <td>3.5</td>\n",
              "      <td>3.0</td>\n",
              "      <td>4.0</td>\n",
              "      <td>3.0</td>\n",
              "      <td>3.0</td>\n",
              "      <td>4.5</td>\n",
              "      <td>3.5</td>\n",
              "      <td>2.0</td>\n",
              "      <td>60.0</td>\n",
              "    </tr>\n",
              "    <tr>\n",
              "      <th>5</th>\n",
              "      <td>6.99</td>\n",
              "      <td>4.0</td>\n",
              "      <td>3.0</td>\n",
              "      <td>4.0</td>\n",
              "      <td>5.0</td>\n",
              "      <td>3.5</td>\n",
              "      <td>2.5</td>\n",
              "      <td>2.5</td>\n",
              "      <td>2.5</td>\n",
              "      <td>4.0</td>\n",
              "      <td>1.0</td>\n",
              "      <td>40.0</td>\n",
              "    </tr>\n",
              "  </tbody>\n",
              "</table>\n",
              "</div>"
            ],
            "text/plain": [
              "     Cost  Hunger  Tortilla  Temp  ...  Salsa  Synergy  Wrap  total_filler\n",
              "235  6.95     3.5       3.5   3.5  ...    4.5      3.5   2.0          60.0\n",
              "5    6.99     4.0       3.0   4.0  ...    2.5      4.0   1.0          40.0\n",
              "\n",
              "[2 rows x 12 columns]"
            ]
          },
          "metadata": {
            "tags": []
          },
          "execution_count": 88
        }
      ]
    },
    {
      "cell_type": "code",
      "metadata": {
        "id": "JfHLsIH_PtZP",
        "colab_type": "code",
        "colab": {}
      },
      "source": [
        "# Let's take care of those NaNs\n",
        "imputer = SimpleImputer(strategy='mean')\n",
        "\n",
        "X_train_imputed = imputer.fit_transform(X_train_encoded)\n",
        "X_val_imputed = imputer.transform(X_val_encoded)"
      ],
      "execution_count": 0,
      "outputs": []
    },
    {
      "cell_type": "code",
      "metadata": {
        "id": "DucY3xvKoZEg",
        "colab_type": "code",
        "colab": {
          "base_uri": "https://localhost:8080/",
          "height": 108
        },
        "outputId": "23945e33-2ca6-4179-c460-067da71ebacf"
      },
      "source": [
        "X_train_imputed = pd.DataFrame(X_train_imputed, columns=X_train_encoded.columns)\n",
        "X_train_imputed.sample(2)"
      ],
      "execution_count": 90,
      "outputs": [
        {
          "output_type": "execute_result",
          "data": {
            "text/html": [
              "<div>\n",
              "<style scoped>\n",
              "    .dataframe tbody tr th:only-of-type {\n",
              "        vertical-align: middle;\n",
              "    }\n",
              "\n",
              "    .dataframe tbody tr th {\n",
              "        vertical-align: top;\n",
              "    }\n",
              "\n",
              "    .dataframe thead th {\n",
              "        text-align: right;\n",
              "    }\n",
              "</style>\n",
              "<table border=\"1\" class=\"dataframe\">\n",
              "  <thead>\n",
              "    <tr style=\"text-align: right;\">\n",
              "      <th></th>\n",
              "      <th>Cost</th>\n",
              "      <th>Hunger</th>\n",
              "      <th>Tortilla</th>\n",
              "      <th>Temp</th>\n",
              "      <th>Meat</th>\n",
              "      <th>Fillings</th>\n",
              "      <th>Meat:filling</th>\n",
              "      <th>Uniformity</th>\n",
              "      <th>Salsa</th>\n",
              "      <th>Synergy</th>\n",
              "      <th>Wrap</th>\n",
              "      <th>total_filler</th>\n",
              "    </tr>\n",
              "  </thead>\n",
              "  <tbody>\n",
              "    <tr>\n",
              "      <th>191</th>\n",
              "      <td>8.25</td>\n",
              "      <td>4.0</td>\n",
              "      <td>3.0</td>\n",
              "      <td>2.5</td>\n",
              "      <td>3.0</td>\n",
              "      <td>3.0</td>\n",
              "      <td>3.0</td>\n",
              "      <td>3.0</td>\n",
              "      <td>3.5</td>\n",
              "      <td>3.0</td>\n",
              "      <td>3.0</td>\n",
              "      <td>30.0</td>\n",
              "    </tr>\n",
              "    <tr>\n",
              "      <th>21</th>\n",
              "      <td>8.75</td>\n",
              "      <td>3.5</td>\n",
              "      <td>1.5</td>\n",
              "      <td>2.0</td>\n",
              "      <td>3.0</td>\n",
              "      <td>3.5</td>\n",
              "      <td>4.0</td>\n",
              "      <td>1.0</td>\n",
              "      <td>3.5</td>\n",
              "      <td>4.5</td>\n",
              "      <td>4.0</td>\n",
              "      <td>20.0</td>\n",
              "    </tr>\n",
              "  </tbody>\n",
              "</table>\n",
              "</div>"
            ],
            "text/plain": [
              "     Cost  Hunger  Tortilla  Temp  ...  Salsa  Synergy  Wrap  total_filler\n",
              "191  8.25     4.0       3.0   2.5  ...    3.5      3.0   3.0          30.0\n",
              "21   8.75     3.5       1.5   2.0  ...    3.5      4.5   4.0          20.0\n",
              "\n",
              "[2 rows x 12 columns]"
            ]
          },
          "metadata": {
            "tags": []
          },
          "execution_count": 90
        }
      ]
    },
    {
      "cell_type": "code",
      "metadata": {
        "id": "oqom17VkPxqY",
        "colab_type": "code",
        "colab": {}
      },
      "source": [
        "scaler = StandardScaler()\n",
        "\n",
        "X_train_scaled = scaler.fit_transform(X_train_imputed)\n",
        "X_val_scaled = scaler.transform(X_val_imputed)"
      ],
      "execution_count": 0,
      "outputs": []
    },
    {
      "cell_type": "code",
      "metadata": {
        "id": "lSYwcnGUpgbe",
        "colab_type": "code",
        "colab": {
          "base_uri": "https://localhost:8080/",
          "height": 108
        },
        "outputId": "e2457373-9d9d-465e-914f-459b6c5c8b55"
      },
      "source": [
        "X_train_scaled = pd.DataFrame(X_train_scaled, columns=X_train_encoded.columns)\n",
        "X_train_scaled.sample(2)"
      ],
      "execution_count": 92,
      "outputs": [
        {
          "output_type": "execute_result",
          "data": {
            "text/html": [
              "<div>\n",
              "<style scoped>\n",
              "    .dataframe tbody tr th:only-of-type {\n",
              "        vertical-align: middle;\n",
              "    }\n",
              "\n",
              "    .dataframe tbody tr th {\n",
              "        vertical-align: top;\n",
              "    }\n",
              "\n",
              "    .dataframe thead th {\n",
              "        text-align: right;\n",
              "    }\n",
              "</style>\n",
              "<table border=\"1\" class=\"dataframe\">\n",
              "  <thead>\n",
              "    <tr style=\"text-align: right;\">\n",
              "      <th></th>\n",
              "      <th>Cost</th>\n",
              "      <th>Hunger</th>\n",
              "      <th>Tortilla</th>\n",
              "      <th>Temp</th>\n",
              "      <th>Meat</th>\n",
              "      <th>Fillings</th>\n",
              "      <th>Meat:filling</th>\n",
              "      <th>Uniformity</th>\n",
              "      <th>Salsa</th>\n",
              "      <th>Synergy</th>\n",
              "      <th>Wrap</th>\n",
              "      <th>total_filler</th>\n",
              "    </tr>\n",
              "  </thead>\n",
              "  <tbody>\n",
              "    <tr>\n",
              "      <th>196</th>\n",
              "      <td>1.130415</td>\n",
              "      <td>-0.524307</td>\n",
              "      <td>-0.593162</td>\n",
              "      <td>-0.732054</td>\n",
              "      <td>0.525950</td>\n",
              "      <td>-0.022447</td>\n",
              "      <td>-0.514382</td>\n",
              "      <td>-1.288309</td>\n",
              "      <td>0.187274</td>\n",
              "      <td>-0.043805</td>\n",
              "      <td>0.038686</td>\n",
              "      <td>0.789187</td>\n",
              "    </tr>\n",
              "    <tr>\n",
              "      <th>57</th>\n",
              "      <td>1.548091</td>\n",
              "      <td>-0.524307</td>\n",
              "      <td>0.662698</td>\n",
              "      <td>1.340696</td>\n",
              "      <td>-0.645992</td>\n",
              "      <td>1.747487</td>\n",
              "      <td>-0.514382</td>\n",
              "      <td>-1.288309</td>\n",
              "      <td>0.721245</td>\n",
              "      <td>-0.588603</td>\n",
              "      <td>0.899679</td>\n",
              "      <td>0.143094</td>\n",
              "    </tr>\n",
              "  </tbody>\n",
              "</table>\n",
              "</div>"
            ],
            "text/plain": [
              "         Cost    Hunger  Tortilla  ...   Synergy      Wrap  total_filler\n",
              "196  1.130415 -0.524307 -0.593162  ... -0.043805  0.038686      0.789187\n",
              "57   1.548091 -0.524307  0.662698  ... -0.588603  0.899679      0.143094\n",
              "\n",
              "[2 rows x 12 columns]"
            ]
          },
          "metadata": {
            "tags": []
          },
          "execution_count": 92
        }
      ]
    },
    {
      "cell_type": "code",
      "metadata": {
        "id": "NElZS-5-pjVD",
        "colab_type": "code",
        "colab": {
          "base_uri": "https://localhost:8080/",
          "height": 108
        },
        "outputId": "ecf7762a-4936-4fe1-a767-6f8d3e6bd008"
      },
      "source": [
        "model = LogisticRegression()\n",
        "model.fit(X_train_scaled, y_train)"
      ],
      "execution_count": 93,
      "outputs": [
        {
          "output_type": "execute_result",
          "data": {
            "text/plain": [
              "LogisticRegression(C=1.0, class_weight=None, dual=False, fit_intercept=True,\n",
              "                   intercept_scaling=1, l1_ratio=None, max_iter=100,\n",
              "                   multi_class='auto', n_jobs=None, penalty='l2',\n",
              "                   random_state=None, solver='lbfgs', tol=0.0001, verbose=0,\n",
              "                   warm_start=False)"
            ]
          },
          "metadata": {
            "tags": []
          },
          "execution_count": 93
        }
      ]
    },
    {
      "cell_type": "code",
      "metadata": {
        "id": "1Q_VhDEYP0q8",
        "colab_type": "code",
        "outputId": "0b9c8a54-2c5f-4519-9ac9-6eea5aa8ae91",
        "colab": {
          "base_uri": "https://localhost:8080/",
          "height": 35
        }
      },
      "source": [
        "# check Model with Val Data\n",
        "y_pred = model.predict(X_val_scaled)\n",
        "val_accuracy_score = accuracy_score(y_val, y_pred)\n",
        "val_accuracy_score"
      ],
      "execution_count": 105,
      "outputs": [
        {
          "output_type": "execute_result",
          "data": {
            "text/plain": [
              "0.788235294117647"
            ]
          },
          "metadata": {
            "tags": []
          },
          "execution_count": 105
        }
      ]
    },
    {
      "cell_type": "code",
      "metadata": {
        "id": "6LsoTgmO_ZMQ",
        "colab_type": "code",
        "colab": {
          "base_uri": "https://localhost:8080/",
          "height": 35
        },
        "outputId": "5988af5a-bd99-4c9b-d60c-68b8bf64e098"
      },
      "source": [
        "# Check Model with Test Data\n",
        "\n",
        "X_test_encoded = encoder.transform(X_test)\n",
        "X_test_imputed = imputer.transform(X_test_encoded)\n",
        "X_test_scaled = scaler.transform(X_test_imputed)\n",
        "\n",
        "y_pred = model.predict(X_test_scaled)\n",
        "test_accuracy_score = accuracy_score(y_test, y_pred)\n",
        "test_accuracy_score"
      ],
      "execution_count": 106,
      "outputs": [
        {
          "output_type": "execute_result",
          "data": {
            "text/plain": [
              "0.8421052631578947"
            ]
          },
          "metadata": {
            "tags": []
          },
          "execution_count": 106
        }
      ]
    },
    {
      "cell_type": "markdown",
      "metadata": {
        "id": "k_bsePjW0MAX",
        "colab_type": "text"
      },
      "source": [
        "Our Results for our model \n",
        "======="
      ]
    },
    {
      "cell_type": "code",
      "metadata": {
        "id": "tM0bofBTxvQP",
        "colab_type": "code",
        "colab": {
          "base_uri": "https://localhost:8080/",
          "height": 183
        },
        "outputId": "0e2a6988-3c7e-41e5-f744-399557a283e9"
      },
      "source": [
        "print(f'\\nOur model has improved : {(test_accuracy_score-baseline_val_accuracy_score):,.4f}')\n",
        "print('-'*20)\n",
        "print(f'from baseline   : {baseline_val_accuracy_score:,.4f}')\n",
        "print(f'to test         : {test_accuracy_score:,.4f}')\n",
        "print('\\nOur Model uses the Following Features : ')\n",
        "print(features)"
      ],
      "execution_count": 111,
      "outputs": [
        {
          "output_type": "stream",
          "text": [
            "\n",
            "Our model has improved : 0.2892\n",
            "--------------------\n",
            "from baseline   : 0.5529\n",
            "to test         : 0.8421\n",
            "\n",
            "Our Model uses the Following Features : \n",
            "['Yelp', 'Google', 'Cost', 'Hunger', 'Length', 'Circum', 'Volume', 'Tortilla', 'Temp', 'Meat', 'Fillings', 'Meat:filling', 'Uniformity', 'Salsa', 'Synergy', 'Wrap', 'Beef', 'Pico', 'Guac', 'Cheese', 'Fries', 'Sour cream', 'Pork', 'Chicken', 'Shrimp', 'Fish', 'Rice', 'Beans', 'Lettuce', 'Tomato', 'Bell peper', 'Carrots', 'Cabbage', 'Sauce', 'Salsa.1', 'Cilantro', 'Onion', 'Taquito', 'Pineapple', 'Ham', 'Chile relleno', 'Nopales', 'Lobster', 'Egg', 'Mushroom', 'Bacon', 'Sushi', 'Avocado', 'Corn', 'Zucchini']\n"
          ],
          "name": "stdout"
        }
      ]
    },
    {
      "cell_type": "code",
      "metadata": {
        "id": "lF36MdVOxvHg",
        "colab_type": "code",
        "colab": {}
      },
      "source": [
        ""
      ],
      "execution_count": 0,
      "outputs": []
    },
    {
      "cell_type": "markdown",
      "metadata": {
        "id": "m6ZYEG5Hz7wW",
        "colab_type": "text"
      },
      "source": [
        "Previous Features used\n",
        "=============\n",
        "\n",
        "The following cells are previous features \n",
        "that were used in our model \n",
        "along with their accuracy score for that run."
      ]
    },
    {
      "cell_type": "code",
      "metadata": {
        "id": "XPFjVpeAzoS8",
        "colab_type": "code",
        "colab": {}
      },
      "source": [
        "# the following cells are previous features that were used in our model \n",
        "# along with their accuracy score for that run."
      ],
      "execution_count": 0,
      "outputs": []
    },
    {
      "cell_type": "code",
      "metadata": {
        "id": "VAjCxiNXxFkR",
        "colab_type": "code",
        "colab": {}
      },
      "source": [
        "# final feature selections\n",
        "features = [ 'Cost', 'Hunger', 'Tortilla', 'Temp', 'Meat', 'Fillings',\n",
        "       'Meat:filling', 'Uniformity', 'Salsa', 'Synergy', 'Wrap', 'total_filler']"
      ],
      "execution_count": 0,
      "outputs": []
    },
    {
      "cell_type": "code",
      "metadata": {
        "id": "_8aNrPczs_Yw",
        "colab_type": "code",
        "colab": {}
      },
      "source": [
        "features = [ 'Cost', 'Hunger', 'Tortilla', 'Temp', 'Meat', 'Fillings',\n",
        "       'Meat:filling', 'Uniformity', 'Salsa', 'Synergy', 'Wrap','Beef', 'Pico', 'Guac', 'Cheese', 'Fries', 'Sour cream',\n",
        "       'Pork', 'Chicken', 'Shrimp', 'Fish', 'Rice', 'Beans', 'Lettuce','Tomato', 'Bell peper', 'Carrots', 'Cabbage', 'Sauce', 'Salsa.1',\n",
        "       'Cilantro', 'Onion', 'Taquito', 'Pineapple', 'Ham', 'Chile relleno',\n",
        "       'Nopales', 'Lobster', 'Egg', 'Mushroom', 'Bacon', 'Sushi', 'Avocado',\n",
        "       'Corn', 'Zucchini']\n",
        "\n",
        "# taking out 'Yelp', 'Google','Length', 'Circum', 'Volume'\n",
        "\n",
        "# Accuracy Score Val  : 0.8\n",
        "# Accuracy Score Test : 0.8158"
      ],
      "execution_count": 0,
      "outputs": []
    },
    {
      "cell_type": "code",
      "metadata": {
        "id": "r9PB3Vg6sTTH",
        "colab_type": "code",
        "colab": {}
      },
      "source": [
        "features = [ 'Cost', 'Hunger','Length', 'Circum', 'Volume', 'Tortilla', 'Temp', 'Meat', 'Fillings',\n",
        "       'Meat:filling', 'Uniformity', 'Salsa', 'Synergy', 'Wrap','Beef', 'Pico', 'Guac', 'Cheese', 'Fries', 'Sour cream',\n",
        "       'Pork', 'Chicken', 'Shrimp', 'Fish', 'Rice', 'Beans', 'Lettuce','Tomato', 'Bell peper', 'Carrots', 'Cabbage', 'Sauce', 'Salsa.1',\n",
        "       'Cilantro', 'Onion', 'Taquito', 'Pineapple', 'Ham', 'Chile relleno',\n",
        "       'Nopales', 'Lobster', 'Egg', 'Mushroom', 'Bacon', 'Sushi', 'Avocado',\n",
        "       'Corn', 'Zucchini']\n",
        "# taking out 'Yelp', 'Google',\n",
        "\n",
        "# Accuracy Score Val  : 0.7882\n",
        "# Accuracy Score Test : 0.8158"
      ],
      "execution_count": 0,
      "outputs": []
    },
    {
      "cell_type": "code",
      "metadata": {
        "id": "ykLms4yOs7Bm",
        "colab_type": "code",
        "colab": {}
      },
      "source": [
        "#for the following features\n",
        "features = ['Yelp', 'Google', 'Cost', 'Hunger','Length', 'Circum', 'Volume', 'Tortilla', 'Temp', 'Meat', 'Fillings',\n",
        "       'Meat:filling', 'Uniformity', 'Salsa', 'Synergy', 'Wrap','Beef', 'Pico', 'Guac', 'Cheese', 'Fries', 'Sour cream',\n",
        "       'Pork', 'Chicken', 'Shrimp', 'Fish', 'Rice', 'Beans', 'Lettuce','Tomato', 'Bell peper', 'Carrots', 'Cabbage', 'Sauce', 'Salsa.1',\n",
        "       'Cilantro', 'Onion', 'Taquito', 'Pineapple', 'Ham', 'Chile relleno',\n",
        "       'Nopales', 'Lobster', 'Egg', 'Mushroom', 'Bacon', 'Sushi', 'Avocado',\n",
        "       'Corn', 'Zucchini']\n",
        "\n",
        "# Accuracy Score Val  : 0.7647\n",
        "# Accuracy Score Test : 0.8158"
      ],
      "execution_count": 0,
      "outputs": []
    },
    {
      "cell_type": "markdown",
      "metadata": {
        "id": "_KPfzN0ep6c-",
        "colab_type": "text"
      },
      "source": [
        ""
      ]
    }
  ]
}